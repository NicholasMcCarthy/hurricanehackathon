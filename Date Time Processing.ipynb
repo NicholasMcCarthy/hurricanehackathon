{
 "cells": [
  {
   "cell_type": "markdown",
   "metadata": {},
   "source": [
    "# Date Time Processing"
   ]
  },
  {
   "cell_type": "code",
   "execution_count": 9,
   "metadata": {},
   "outputs": [],
   "source": [
    "import numpy as np\n",
    "import pandas as pd \n",
    "from datetime import datetime"
   ]
  },
  {
   "cell_type": "code",
   "execution_count": 67,
   "metadata": {},
   "outputs": [],
   "source": [
    "def parse_dt(dt_string):\n",
    "    dt = datetime.strptime(dt_string, '%m/%d/%Y %H:%M')\n",
    "    \n",
    "    year = dt.year\n",
    "    month = dt.month\n",
    "    \n",
    "    # {winter:1, spring:2, summer:3, fall:4}\n",
    "    season = (month%12 + 3) // 3  \n",
    "    \n",
    "    return year, month, season"
   ]
  },
  {
   "cell_type": "code",
   "execution_count": 68,
   "metadata": {},
   "outputs": [
    {
     "data": {
      "text/plain": [
       "(1980, 2, 1)"
      ]
     },
     "execution_count": 68,
     "metadata": {},
     "output_type": "execute_result"
    }
   ],
   "source": [
    "parse_dt('2/17/1980 18:00')"
   ]
  },
  {
   "cell_type": "code",
   "execution_count": 33,
   "metadata": {},
   "outputs": [],
   "source": [
    "data = pd.read_csv('HURdat_ExtremeWeatherEvents.csv')\n",
    "data['year'], data['month'] = zip(*data.date_time.map(parse_dt))"
   ]
  }
 ],
 "metadata": {
  "kernelspec": {
   "display_name": "Python [conda env:Dev] *",
   "language": "python",
   "name": "conda-env-Dev-py"
  },
  "language_info": {
   "codemirror_mode": {
    "name": "ipython",
    "version": 3
   },
   "file_extension": ".py",
   "mimetype": "text/x-python",
   "name": "python",
   "nbconvert_exporter": "python",
   "pygments_lexer": "ipython3",
   "version": "3.6.9"
  }
 },
 "nbformat": 4,
 "nbformat_minor": 2
}
