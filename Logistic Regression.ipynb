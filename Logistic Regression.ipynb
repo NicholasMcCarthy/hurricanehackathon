{
 "cells": [
  {
   "cell_type": "code",
   "execution_count": 10,
   "metadata": {},
   "outputs": [],
   "source": [
    "import numpy as np\n",
    "import pandas as pd \n",
    "\n",
    "from sklearn.linear_model import LogisticRegression\n",
    "from sklearn.model_selection import cross_val_score"
   ]
  },
  {
   "cell_type": "code",
   "execution_count": 11,
   "metadata": {},
   "outputs": [],
   "source": [
    "data = pd.read_csv('HURdat_ExtremeWeatherEvents.csv')"
   ]
  },
  {
   "cell_type": "code",
   "execution_count": 12,
   "metadata": {},
   "outputs": [],
   "source": [
    "data = data.dropna()\n",
    "\n",
    "label_indices = data.index[data['i'] - data['i'].shift(1) == 1] \n",
    "data_indices = label_indices - 1\n",
    "\n",
    "X = data.loc[data_indices]\n",
    "y = data.loc[label_indices, 'rapid_int']\n",
    "\n",
    "X = X.drop(columns=['Unnamed: 0', 'ID', 'Name', 'date_time', 'i', 'n', 'diff', 'rapid_int'])\n",
    "X = pd.get_dummies(X)"
   ]
  },
  {
   "cell_type": "code",
   "execution_count": 13,
   "metadata": {},
   "outputs": [],
   "source": [
    "clf = LogisticRegression(random_state=0, \n",
    "                         solver='lbfgs', \n",
    "                         max_iter=10000)"
   ]
  },
  {
   "cell_type": "code",
   "execution_count": 14,
   "metadata": {},
   "outputs": [
    {
     "name": "stdout",
     "output_type": "stream",
     "text": [
      "F1 Score: 0.70 (+/- 0.14)\n"
     ]
    }
   ],
   "source": [
    "scores = cross_val_score(clf, X, y, cv=10, scoring='f1')\n",
    "print(\"F1 Score: %0.2f (+/- %0.2f)\" % (scores.mean(), scores.std() * 2))"
   ]
  }
 ],
 "metadata": {
  "kernelspec": {
   "display_name": "Python [conda env:Dev] *",
   "language": "python",
   "name": "conda-env-Dev-py"
  },
  "language_info": {
   "codemirror_mode": {
    "name": "ipython",
    "version": 3
   },
   "file_extension": ".py",
   "mimetype": "text/x-python",
   "name": "python",
   "nbconvert_exporter": "python",
   "pygments_lexer": "ipython3",
   "version": "3.6.9"
  }
 },
 "nbformat": 4,
 "nbformat_minor": 2
}
