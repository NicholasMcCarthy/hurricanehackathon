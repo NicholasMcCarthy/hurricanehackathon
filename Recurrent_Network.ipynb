{
 "cells": [
  {
   "cell_type": "markdown",
   "metadata": {},
   "source": [
    "## Extreme Weather Events\n",
    "\n",
    "This notebook trains a RNN on HURdat Extreme Weather Events."
   ]
  },
  {
   "cell_type": "markdown",
   "metadata": {},
   "source": [
    "We first start by preprocessing the data"
   ]
  },
  {
   "cell_type": "code",
   "execution_count": 15,
   "metadata": {},
   "outputs": [],
   "source": [
    "import numpy as np\n",
    "import torch\n",
    "from torch import nn\n",
    "import torch.nn.functional as F\n",
    "import pandas as pd\n",
    "import math\n",
    "from torch.utils.data import TensorDataset, DataLoader\n",
    "from sklearn.model_selection import train_test_split"
   ]
  },
  {
   "cell_type": "code",
   "execution_count": 16,
   "metadata": {},
   "outputs": [],
   "source": [
    "df = pd.read_csv('data/HURdat_ExtremeWeatherEvents.csv',index_col=0)"
   ]
  },
  {
   "cell_type": "code",
   "execution_count": 17,
   "metadata": {},
   "outputs": [
    {
     "name": "stdout",
     "output_type": "stream",
     "text": [
      "No GPU found.\n"
     ]
    }
   ],
   "source": [
    "train_on_gpu = torch.cuda.is_available()\n",
    "if not train_on_gpu:\n",
    "    print('No GPU found.')"
   ]
  },
  {
   "cell_type": "code",
   "execution_count": 18,
   "metadata": {},
   "outputs": [
    {
     "name": "stdout",
     "output_type": "stream",
     "text": [
      "(8793, 21)\n",
      "Index(['ID', 'Name', 'Status', 'Latitude', 'Longitude', 'Maximum.Wind',\n",
      "       'date_time', 'diff', 'rapid_int', 'i', 'n', 'persistence', 'product',\n",
      "       'Initial.Max', 'speed', 'speed_z', 'speed_m', 'Jday', 'Maximum.Wind_p',\n",
      "       'Latitude_p', 'Longitude_p'],\n",
      "      dtype='object')\n"
     ]
    }
   ],
   "source": [
    "print(df.shape)\n",
    "print(df.columns)"
   ]
  },
  {
   "cell_type": "code",
   "execution_count": 19,
   "metadata": {},
   "outputs": [],
   "source": [
    "event_ids = df['ID'].unique().tolist()\n",
    "num_events = len(event_ids)"
   ]
  },
  {
   "cell_type": "code",
   "execution_count": 20,
   "metadata": {},
   "outputs": [],
   "source": [
    "sequence_length = 4\n",
    "prediction_window = 4\n",
    "batch_size = 10\n",
    "# sequence_size : 4 to cover a whole day\n",
    "# prediction_window : how many time steps in the future we predict for."
   ]
  },
  {
   "cell_type": "code",
   "execution_count": 21,
   "metadata": {},
   "outputs": [],
   "source": [
    "columns_to_drop = ['Name','Status','date_time','i','n','Jday']\n",
    "columns_to_scale = ['Latitude','Longitude','Maximum.Wind','diff',\n",
    "           'persistence','product','Initial.Max','speed','speed_z',\n",
    "           'speed_m','Maximum.Wind_p','Latitude_p', 'Longitude_p']\n",
    "df = df.drop(columns_to_drop,axis=1)\n",
    "df.replace({np.nan: 0}, inplace=True)"
   ]
  },
  {
   "cell_type": "code",
   "execution_count": 22,
   "metadata": {},
   "outputs": [],
   "source": [
    "test = df[df['ID']=='AL011980']"
   ]
  },
  {
   "cell_type": "code",
   "execution_count": 23,
   "metadata": {},
   "outputs": [
    {
     "data": {
      "text/plain": [
       "ID                 AL011980\n",
       "Latitude               29.6\n",
       "Longitude             -85.8\n",
       "Maximum.Wind             25\n",
       "diff                      5\n",
       "rapid_int                 0\n",
       "persistence               0\n",
       "product                   0\n",
       "Initial.Max              25\n",
       "speed               13.7483\n",
       "speed_z           0.0345869\n",
       "speed_m             9.26624\n",
       "Maximum.Wind_p           20\n",
       "Latitude_p             29.5\n",
       "Longitude_p           -84.7\n",
       "Name: 11, dtype: object"
      ]
     },
     "execution_count": 23,
     "metadata": {},
     "output_type": "execute_result"
    }
   ],
   "source": [
    "test.iloc[8]"
   ]
  },
  {
   "cell_type": "code",
   "execution_count": 24,
   "metadata": {},
   "outputs": [],
   "source": [
    "from sklearn.preprocessing import StandardScaler\n",
    "scaler = StandardScaler()\n",
    "df_scaled = df.copy(deep=True)\n",
    "df_scaled[columns_to_scale] = scaler.fit_transform(df_scaled[columns_to_scale])"
   ]
  },
  {
   "cell_type": "code",
   "execution_count": 25,
   "metadata": {},
   "outputs": [],
   "source": [
    "test = df_scaled[df_scaled['ID']=='AL011980']"
   ]
  },
  {
   "cell_type": "markdown",
   "metadata": {},
   "source": [
    "## Batches and data loaders"
   ]
  },
  {
   "cell_type": "code",
   "execution_count": 26,
   "metadata": {},
   "outputs": [],
   "source": [
    "def get_batches(df_data):\n",
    "    x_batch, y_batch = [],[]\n",
    "    for event_id in event_ids:\n",
    "        event = df_data[df_data['ID']==event_id]\n",
    "        for i in range(1,event.shape[0]-sequence_length-prediction_window):\n",
    "            x = np.array(event.iloc[i:i+sequence_length].drop('ID',axis=1),dtype=np.double)\n",
    "            y = np.array(event.iloc[i+sequence_length+prediction_window-1]['rapid_int'],dtype=np.double)\n",
    "            x_batch.append(x)\n",
    "            y_batch.append(y)\n",
    "    return np.array(x_batch,dtype=np.double), np.array(y_batch,dtype=np.long)"
   ]
  },
  {
   "cell_type": "code",
   "execution_count": 27,
   "metadata": {},
   "outputs": [],
   "source": [
    "def get_dataloader(df_data, batch_size):\n",
    "    x,y = get_batches(df_data)\n",
    "    data = TensorDataset(torch.from_numpy(x), torch.from_numpy(y))\n",
    "    data_loader = DataLoader(data, shuffle=True, batch_size=batch_size)\n",
    "    return data_loader"
   ]
  },
  {
   "cell_type": "code",
   "execution_count": 28,
   "metadata": {},
   "outputs": [
    {
     "name": "stdout",
     "output_type": "stream",
     "text": [
      "torch.Size([5, 4, 14])\n",
      "tensor([[[-0.4008,  0.5283, -0.8139, -0.6147,  0.0000, -0.7340, -0.5517,\n",
      "           0.2061, -0.2609, -0.0724,  0.2234, -0.6803, -0.1992,  0.3502],\n",
      "         [-0.4008,  0.4777, -0.8139, -0.6147,  0.0000, -0.7340, -0.5517,\n",
      "           0.2061, -0.2876, -0.0838,  0.2234, -0.6803, -0.2100,  0.3116],\n",
      "         [-0.4130,  0.4322, -0.8139, -0.6147,  0.0000, -0.7340, -0.5517,\n",
      "           0.2061, -0.3056, -0.0838,  0.2234, -0.6803, -0.2100,  0.2688],\n",
      "         [-0.4252,  0.3766, -0.8139, -0.6147,  0.0000, -0.7340, -0.5517,\n",
      "           0.2061, -0.3055, -0.0952,  0.2234, -0.6803, -0.2209,  0.2302]],\n",
      "\n",
      "        [[-1.1935,  0.9174, -0.8139, -0.1951,  0.0000,  0.0315, -0.3036,\n",
      "          -0.7668, -0.2329, -1.1177,  0.2234, -0.6803, -0.9806,  0.6887],\n",
      "         [-1.1081,  0.8719, -0.8139, -0.1951,  0.0000,  0.0315, -0.3036,\n",
      "          -0.7668, -0.2378, -1.0498,  0.2234, -0.6803, -0.9155,  0.6415],\n",
      "         [-1.0349,  0.8366, -0.8139, -0.1951,  0.0000, -0.7340, -0.5517,\n",
      "          -0.7668, -0.2530, -0.9824,  0.2234, -0.6803, -0.8395,  0.6030],\n",
      "         [-0.9496,  0.8062, -0.8139, -0.6147,  0.0000, -0.7340, -0.5517,\n",
      "          -0.7668, -0.2830, -0.9022,  0.2234, -0.6803, -0.7744,  0.5730]],\n",
      "\n",
      "        [[ 0.2700, -0.9577,  0.5291,  0.6441,  0.0000,  1.5625,  1.1851,\n",
      "           0.5304, -0.3613,  0.5538,  0.2234,  0.7912,  0.4411, -0.9052],\n",
      "         [ 0.2334, -0.9930,  0.9129,  1.0637,  0.0000,  0.0315,  0.0272,\n",
      "           0.5304, -0.3115,  0.5538,  0.2234,  0.6073,  0.3868, -0.9481],\n",
      "         [ 0.2090, -1.0234,  1.2966,  1.4833,  0.0000,  0.0315,  0.0686,\n",
      "           0.6926, -0.3112,  0.5263,  0.2234,  0.9752,  0.3543, -0.9781],\n",
      "         [ 0.1724, -1.0587,  1.4884,  1.0637,  0.0000,  2.3280,  2.2603,\n",
      "           1.0169, -0.3543,  0.4798,  0.2234,  1.3431,  0.3326, -1.0038]],\n",
      "\n",
      "        [[ 0.8432,  0.8366,  0.3373, -0.1951,  0.0000, -0.7340, -0.5517,\n",
      "           0.2061, -0.2323,  0.5719,  0.2234,  0.4233,  0.7667,  0.5730],\n",
      "         [ 0.9652,  0.8214,  0.3373, -0.6147,  0.0000, -0.7340, -0.5517,\n",
      "           0.2061, -0.2258,  0.6683,  0.2234,  0.4233,  0.8969,  0.5730],\n",
      "         [ 1.0749,  0.7911,  0.1454, -1.0343,  0.0000, -0.7340, -0.5517,\n",
      "           0.2061, -0.2648,  0.7836,  0.2234,  0.4233,  1.0055,  0.5601],\n",
      "         [ 1.4530,  0.7456,  0.1454, -0.6147,  0.0000, -0.7340, -0.5517,\n",
      "           0.2061, -0.3092,  1.0337,  0.2234,  0.0555,  1.3310,  0.4873]],\n",
      "\n",
      "        [[-1.6691,  0.9376, -0.6220, -0.6147,  0.0000, -0.7340, -0.5517,\n",
      "          -0.6047,  2.7428,  1.4280,  0.2234, -0.4964, -1.3604,  0.7615],\n",
      "         [-1.6325,  0.8214, -0.6220, -0.6147,  0.0000, -0.7340, -0.5517,\n",
      "          -0.6047,  2.8240,  1.4350,  0.2234, -0.4964, -1.3387,  0.6587],\n",
      "         [-1.5959,  0.7052, -0.6220, -0.6147,  0.0000, -0.7340, -0.5517,\n",
      "          -0.6047, -0.0311, -1.4648,  0.2234, -0.4964, -1.3062,  0.5601],\n",
      "         [-1.5228,  0.5940, -0.4302, -0.1951,  0.0000, -0.7340, -0.5517,\n",
      "          -0.6047, -0.0396, -1.4366,  0.2234, -0.4964, -1.2736,  0.4616]]],\n",
      "       dtype=torch.float64)\n",
      "\n",
      "torch.Size([5])\n",
      "tensor([0, 0, 0, 0, 0])\n"
     ]
    }
   ],
   "source": [
    "test_loader = get_dataloader(df_scaled,5)\n",
    "\n",
    "data_iter = iter(test_loader)\n",
    "sample_x, sample_y = data_iter.next()\n",
    "\n",
    "print(sample_x.shape)\n",
    "print(sample_x)\n",
    "print()\n",
    "print(sample_y.shape)\n",
    "print(sample_y)"
   ]
  },
  {
   "cell_type": "code",
   "execution_count": 29,
   "metadata": {},
   "outputs": [
    {
     "name": "stdout",
     "output_type": "stream",
     "text": [
      "DataFrame slice : 1 , 4 \t Predictor index : 8\n",
      "DataFrame slice : 2 , 5 \t Predictor index : 9\n",
      "DataFrame slice : 3 , 6 \t Predictor index : 10\n",
      "DataFrame slice : 4 , 7 \t Predictor index : 11\n",
      "DataFrame slice : 5 , 8 \t Predictor index : 12\n",
      "DataFrame slice : 6 , 9 \t Predictor index : 13\n",
      "DataFrame slice : 7 , 10 \t Predictor index : 14\n",
      "DataFrame slice : 8 , 11 \t Predictor index : 15\n",
      "DataFrame slice : 9 , 12 \t Predictor index : 16\n"
     ]
    }
   ],
   "source": [
    "for i in range(1,test.shape[0]-sequence_length):\n",
    "    print('DataFrame slice : {} , {} \\t Predictor index : {}'.format(i,i+sequence_length-1,i+sequence_length+prediction_window-1))"
   ]
  },
  {
   "cell_type": "markdown",
   "metadata": {},
   "source": [
    "### Train test split"
   ]
  },
  {
   "cell_type": "code",
   "execution_count": 30,
   "metadata": {},
   "outputs": [
    {
     "name": "stdout",
     "output_type": "stream",
     "text": [
      "Training dataframe : (7179, 15)\n",
      "Testing dataframe : (1614, 15)\n"
     ]
    }
   ],
   "source": [
    "test_ratio = 0.2\n",
    "\n",
    "event_ids = df['ID'].unique().tolist()\n",
    "training_ids, test_ids = train_test_split(event_ids, test_size=test_ratio, random_state=42)\n",
    "\n",
    "#should split training into training and validaton.\n",
    "\n",
    "df_train = df_scaled[df_scaled['ID'].isin(training_ids)]\n",
    "df_test = df_scaled[df_scaled['ID'].isin(test_ids)]\n",
    "\n",
    "print('Training dataframe : {}'.format(df_train.shape))\n",
    "print('Testing dataframe : {}'.format(df_test.shape))\n"
   ]
  },
  {
   "cell_type": "markdown",
   "metadata": {},
   "source": [
    "## Model"
   ]
  },
  {
   "cell_type": "markdown",
   "metadata": {},
   "source": [
    "Next we define the LSTM Model"
   ]
  },
  {
   "cell_type": "code",
   "execution_count": 31,
   "metadata": {},
   "outputs": [],
   "source": [
    "class WeatherRNN(nn.Module):\n",
    "    \n",
    "    def __init__(self, n_hidden=256, n_layers=2, drop_prob=0.5, lr=0.001):\n",
    "        super().__init__()\n",
    "        self.drop_prob = drop_prob\n",
    "        self.n_layers = n_layers\n",
    "        self.n_hidden = n_hidden\n",
    "        self.lr = lr\n",
    "        \n",
    "        self.lstm = nn.LSTM(df_scaled.shape[1]-1, n_hidden, n_layers, dropout=drop_prob, batch_first=True)\n",
    "        self.dropout = nn.Dropout(drop_prob)\n",
    "        self.fc = nn.Linear(n_hidden, 2)\n",
    "      \n",
    "    def forward(self, x, hidden):\n",
    "        batch_size = x.size(0)\n",
    "        lstm_out, hidden = self.lstm(x, hidden)\n",
    "        lstm_out = self.dropout(lstm_out)\n",
    "        lstm_out = lstm_out.contiguous().view(-1, self.n_hidden)\n",
    "        output = self.fc(lstm_out)\n",
    "        output = output.view(batch_size, -1, 2)\n",
    "        out = output[:, -1]\n",
    "        return out, hidden\n",
    "       \n",
    "    def init_hidden(self, batch_size):\n",
    "        weight = next(self.parameters()).data\n",
    "        if (train_on_gpu):\n",
    "            hidden = (weight.new_zeros((self.n_layers, batch_size, self.n_hidden),dtype=torch.float64).cuda(),\n",
    "                      weight.new_zeros((self.n_layers, batch_size, self.n_hidden),dtype=torch.float64).cuda())\n",
    "        else:\n",
    "            hidden = (weight.new_zeros((self.n_layers, batch_size, self.n_hidden),dtype=torch.float64),\n",
    "                      weight.new_zeros((self.n_layers, batch_size, self.n_hidden),dtype=torch.float64))\n",
    "        return hidden"
   ]
  },
  {
   "cell_type": "code",
   "execution_count": 32,
   "metadata": {},
   "outputs": [
    {
     "name": "stdout",
     "output_type": "stream",
     "text": [
      "WeatherRNN(\n",
      "  (lstm): LSTM(14, 256, num_layers=2, batch_first=True, dropout=0.5)\n",
      "  (dropout): Dropout(p=0.5, inplace=False)\n",
      "  (fc): Linear(in_features=256, out_features=2, bias=True)\n",
      ")\n"
     ]
    }
   ],
   "source": [
    "model = WeatherRNN()\n",
    "model.double()\n",
    "print(model)"
   ]
  },
  {
   "cell_type": "markdown",
   "metadata": {},
   "source": [
    "## Training"
   ]
  },
  {
   "cell_type": "markdown",
   "metadata": {},
   "source": [
    "Next we define the training loop."
   ]
  },
  {
   "cell_type": "code",
   "execution_count": 33,
   "metadata": {},
   "outputs": [],
   "source": [
    "def train(model, epochs, batch_size, lr):\n",
    "    model.train()\n",
    "    \n",
    "    optimizer = torch.optim.Adam(model.parameters(), lr=lr)\n",
    "    criterion = nn.CrossEntropyLoss()    \n",
    "    \n",
    "    if(train_on_gpu):\n",
    "        model.cuda()\n",
    "    \n",
    "    for e in range(epochs):\n",
    "        h = model.init_hidden(batch_size)\n",
    "        losses = []\n",
    "        for inputs, targets in train_loader:\n",
    "            if inputs.size(0) != batch_size:\n",
    "                break\n",
    "            if(train_on_gpu):\n",
    "                inputs, targets = inputs.cuda(), targets.cuda()\n",
    "            h = tuple([each.data for each in h])\n",
    "            model.zero_grad()\n",
    "            output, h = model(inputs, h)\n",
    "            loss = criterion(output, targets)\n",
    "            losses.append(loss.item())\n",
    "            loss.backward()\n",
    "            optimizer.step()\n",
    "        print(\"Epoch: \\t {} of {} ...\".format(e+1, epochs))\n",
    "        print(\"Loss: \\t {:.4f}\".format(np.mean(losses)))\n",
    "        print(\"*****************\")\n",
    "            #if counter % print_every == 0:\n",
    "            #    calculate_loss(model, validation_data, batch_size, seq_length)\n",
    "            #    model.train()\n",
    "            \n"
   ]
  },
  {
   "cell_type": "code",
   "execution_count": 34,
   "metadata": {},
   "outputs": [],
   "source": [
    "epochs = 50\n",
    "batch_size = 10\n",
    "lr = 0.001"
   ]
  },
  {
   "cell_type": "code",
   "execution_count": 35,
   "metadata": {},
   "outputs": [],
   "source": [
    "train_loader = get_dataloader(df_train, batch_size)\n",
    "test_loader = get_dataloader(df_test, batch_size)"
   ]
  },
  {
   "cell_type": "code",
   "execution_count": 36,
   "metadata": {},
   "outputs": [
    {
     "name": "stdout",
     "output_type": "stream",
     "text": [
      "Epoch: \t 1 of 100 ...\n",
      "Loss: \t 0.3048\n",
      "*****************\n",
      "Epoch: \t 2 of 100 ...\n",
      "Loss: \t 0.2750\n",
      "*****************\n",
      "Epoch: \t 3 of 100 ...\n",
      "Loss: \t 0.2724\n",
      "*****************\n",
      "Epoch: \t 4 of 100 ...\n",
      "Loss: \t 0.2720\n",
      "*****************\n",
      "Epoch: \t 5 of 100 ...\n",
      "Loss: \t 0.2692\n",
      "*****************\n",
      "Epoch: \t 6 of 100 ...\n",
      "Loss: \t 0.2628\n",
      "*****************\n",
      "Epoch: \t 7 of 100 ...\n",
      "Loss: \t 0.2623\n",
      "*****************\n",
      "Epoch: \t 8 of 100 ...\n",
      "Loss: \t 0.2624\n",
      "*****************\n",
      "Epoch: \t 9 of 100 ...\n",
      "Loss: \t 0.2569\n",
      "*****************\n",
      "Epoch: \t 10 of 100 ...\n",
      "Loss: \t 0.2558\n",
      "*****************\n",
      "Epoch: \t 11 of 100 ...\n",
      "Loss: \t 0.2567\n",
      "*****************\n",
      "Epoch: \t 12 of 100 ...\n",
      "Loss: \t 0.2518\n",
      "*****************\n",
      "Epoch: \t 13 of 100 ...\n",
      "Loss: \t 0.2527\n",
      "*****************\n",
      "Epoch: \t 14 of 100 ...\n",
      "Loss: \t 0.2534\n",
      "*****************\n",
      "Epoch: \t 15 of 100 ...\n",
      "Loss: \t 0.2495\n",
      "*****************\n",
      "Epoch: \t 16 of 100 ...\n",
      "Loss: \t 0.2461\n",
      "*****************\n",
      "Epoch: \t 17 of 100 ...\n",
      "Loss: \t 0.2433\n",
      "*****************\n",
      "Epoch: \t 18 of 100 ...\n",
      "Loss: \t 0.2464\n",
      "*****************\n",
      "Epoch: \t 19 of 100 ...\n",
      "Loss: \t 0.2406\n",
      "*****************\n",
      "Epoch: \t 20 of 100 ...\n",
      "Loss: \t 0.2382\n",
      "*****************\n",
      "Epoch: \t 21 of 100 ...\n",
      "Loss: \t 0.2410\n",
      "*****************\n",
      "Epoch: \t 22 of 100 ...\n",
      "Loss: \t 0.2341\n",
      "*****************\n",
      "Epoch: \t 23 of 100 ...\n",
      "Loss: \t 0.2328\n",
      "*****************\n",
      "Epoch: \t 24 of 100 ...\n",
      "Loss: \t 0.2312\n",
      "*****************\n",
      "Epoch: \t 25 of 100 ...\n",
      "Loss: \t 0.2271\n",
      "*****************\n",
      "Epoch: \t 26 of 100 ...\n",
      "Loss: \t 0.2262\n",
      "*****************\n",
      "Epoch: \t 27 of 100 ...\n",
      "Loss: \t 0.2218\n",
      "*****************\n",
      "Epoch: \t 28 of 100 ...\n",
      "Loss: \t 0.2197\n",
      "*****************\n",
      "Epoch: \t 29 of 100 ...\n",
      "Loss: \t 0.2175\n",
      "*****************\n",
      "Epoch: \t 30 of 100 ...\n",
      "Loss: \t 0.2124\n",
      "*****************\n",
      "Epoch: \t 31 of 100 ...\n",
      "Loss: \t 0.2135\n",
      "*****************\n",
      "Epoch: \t 32 of 100 ...\n",
      "Loss: \t 0.2110\n",
      "*****************\n",
      "Epoch: \t 33 of 100 ...\n",
      "Loss: \t 0.2068\n",
      "*****************\n",
      "Epoch: \t 34 of 100 ...\n",
      "Loss: \t 0.2067\n",
      "*****************\n",
      "Epoch: \t 35 of 100 ...\n",
      "Loss: \t 0.1991\n",
      "*****************\n",
      "Epoch: \t 36 of 100 ...\n",
      "Loss: \t 0.1987\n",
      "*****************\n",
      "Epoch: \t 37 of 100 ...\n",
      "Loss: \t 0.2028\n",
      "*****************\n",
      "Epoch: \t 38 of 100 ...\n",
      "Loss: \t 0.1955\n",
      "*****************\n",
      "Epoch: \t 39 of 100 ...\n",
      "Loss: \t 0.1891\n",
      "*****************\n",
      "Epoch: \t 40 of 100 ...\n",
      "Loss: \t 0.1871\n",
      "*****************\n",
      "Epoch: \t 41 of 100 ...\n",
      "Loss: \t 0.1789\n",
      "*****************\n",
      "Epoch: \t 42 of 100 ...\n",
      "Loss: \t 0.1790\n",
      "*****************\n",
      "Epoch: \t 43 of 100 ...\n",
      "Loss: \t 0.1812\n",
      "*****************\n",
      "Epoch: \t 44 of 100 ...\n",
      "Loss: \t 0.1794\n",
      "*****************\n",
      "Epoch: \t 45 of 100 ...\n",
      "Loss: \t 0.1682\n",
      "*****************\n",
      "Epoch: \t 46 of 100 ...\n",
      "Loss: \t 0.1665\n",
      "*****************\n",
      "Epoch: \t 47 of 100 ...\n",
      "Loss: \t 0.1675\n",
      "*****************\n",
      "Epoch: \t 48 of 100 ...\n",
      "Loss: \t 0.1674\n",
      "*****************\n",
      "Epoch: \t 49 of 100 ...\n",
      "Loss: \t 0.1563\n",
      "*****************\n",
      "Epoch: \t 50 of 100 ...\n",
      "Loss: \t 0.1547\n",
      "*****************\n",
      "Epoch: \t 51 of 100 ...\n",
      "Loss: \t 0.1569\n",
      "*****************\n",
      "Epoch: \t 52 of 100 ...\n",
      "Loss: \t 0.1568\n",
      "*****************\n",
      "Epoch: \t 53 of 100 ...\n",
      "Loss: \t 0.1578\n",
      "*****************\n",
      "Epoch: \t 54 of 100 ...\n",
      "Loss: \t 0.1435\n",
      "*****************\n",
      "Epoch: \t 55 of 100 ...\n",
      "Loss: \t 0.1364\n",
      "*****************\n",
      "Epoch: \t 56 of 100 ...\n",
      "Loss: \t 0.1368\n",
      "*****************\n",
      "Epoch: \t 57 of 100 ...\n",
      "Loss: \t 0.1430\n",
      "*****************\n",
      "Epoch: \t 58 of 100 ...\n",
      "Loss: \t 0.1336\n",
      "*****************\n",
      "Epoch: \t 59 of 100 ...\n",
      "Loss: \t 0.1309\n",
      "*****************\n",
      "Epoch: \t 60 of 100 ...\n",
      "Loss: \t 0.1357\n",
      "*****************\n",
      "Epoch: \t 61 of 100 ...\n",
      "Loss: \t 0.1291\n",
      "*****************\n",
      "Epoch: \t 62 of 100 ...\n",
      "Loss: \t 0.1381\n",
      "*****************\n",
      "Epoch: \t 63 of 100 ...\n",
      "Loss: \t 0.1265\n",
      "*****************\n",
      "Epoch: \t 64 of 100 ...\n",
      "Loss: \t 0.1163\n",
      "*****************\n",
      "Epoch: \t 65 of 100 ...\n",
      "Loss: \t 0.1196\n",
      "*****************\n",
      "Epoch: \t 66 of 100 ...\n",
      "Loss: \t 0.1203\n",
      "*****************\n",
      "Epoch: \t 67 of 100 ...\n",
      "Loss: \t 0.1255\n",
      "*****************\n",
      "Epoch: \t 68 of 100 ...\n",
      "Loss: \t 0.1232\n",
      "*****************\n",
      "Epoch: \t 69 of 100 ...\n",
      "Loss: \t 0.1143\n",
      "*****************\n",
      "Epoch: \t 70 of 100 ...\n",
      "Loss: \t 0.1072\n",
      "*****************\n",
      "Epoch: \t 71 of 100 ...\n",
      "Loss: \t 0.1145\n",
      "*****************\n",
      "Epoch: \t 72 of 100 ...\n",
      "Loss: \t 0.1015\n",
      "*****************\n",
      "Epoch: \t 73 of 100 ...\n",
      "Loss: \t 0.1120\n",
      "*****************\n",
      "Epoch: \t 74 of 100 ...\n",
      "Loss: \t 0.1006\n",
      "*****************\n",
      "Epoch: \t 75 of 100 ...\n",
      "Loss: \t 0.1106\n",
      "*****************\n",
      "Epoch: \t 76 of 100 ...\n",
      "Loss: \t 0.1020\n",
      "*****************\n",
      "Epoch: \t 77 of 100 ...\n",
      "Loss: \t 0.0885\n",
      "*****************\n",
      "Epoch: \t 78 of 100 ...\n",
      "Loss: \t 0.0966\n",
      "*****************\n",
      "Epoch: \t 79 of 100 ...\n",
      "Loss: \t 0.0856\n",
      "*****************\n",
      "Epoch: \t 80 of 100 ...\n",
      "Loss: \t 0.0909\n",
      "*****************\n",
      "Epoch: \t 81 of 100 ...\n",
      "Loss: \t 0.0909\n",
      "*****************\n",
      "Epoch: \t 82 of 100 ...\n",
      "Loss: \t 0.0928\n",
      "*****************\n",
      "Epoch: \t 83 of 100 ...\n",
      "Loss: \t 0.0912\n",
      "*****************\n",
      "Epoch: \t 84 of 100 ...\n",
      "Loss: \t 0.1004\n",
      "*****************\n",
      "Epoch: \t 85 of 100 ...\n",
      "Loss: \t 0.0843\n",
      "*****************\n",
      "Epoch: \t 86 of 100 ...\n",
      "Loss: \t 0.0911\n",
      "*****************\n",
      "Epoch: \t 87 of 100 ...\n",
      "Loss: \t 0.0804\n",
      "*****************\n",
      "Epoch: \t 88 of 100 ...\n",
      "Loss: \t 0.0832\n",
      "*****************\n",
      "Epoch: \t 89 of 100 ...\n",
      "Loss: \t 0.0851\n",
      "*****************\n",
      "Epoch: \t 90 of 100 ...\n",
      "Loss: \t 0.0886\n",
      "*****************\n",
      "Epoch: \t 91 of 100 ...\n",
      "Loss: \t 0.0826\n",
      "*****************\n",
      "Epoch: \t 92 of 100 ...\n",
      "Loss: \t 0.0712\n",
      "*****************\n",
      "Epoch: \t 93 of 100 ...\n",
      "Loss: \t 0.0776\n",
      "*****************\n",
      "Epoch: \t 94 of 100 ...\n",
      "Loss: \t 0.0710\n",
      "*****************\n",
      "Epoch: \t 95 of 100 ...\n",
      "Loss: \t 0.0734\n",
      "*****************\n",
      "Epoch: \t 96 of 100 ...\n",
      "Loss: \t 0.0722\n",
      "*****************\n",
      "Epoch: \t 97 of 100 ...\n",
      "Loss: \t 0.0796\n",
      "*****************\n",
      "Epoch: \t 98 of 100 ...\n",
      "Loss: \t 0.0630\n",
      "*****************\n",
      "Epoch: \t 99 of 100 ...\n",
      "Loss: \t 0.0688\n",
      "*****************\n",
      "Epoch: \t 100 of 100 ...\n",
      "Loss: \t 0.0634\n",
      "*****************\n"
     ]
    }
   ],
   "source": [
    "train(model, epochs=epochs, batch_size=batch_size, lr=lr)"
   ]
  },
  {
   "cell_type": "markdown",
   "metadata": {},
   "source": [
    "## Test the model"
   ]
  },
  {
   "cell_type": "code",
   "execution_count": 37,
   "metadata": {},
   "outputs": [
    {
     "name": "stdout",
     "output_type": "stream",
     "text": [
      "Test loss: 1.019\n",
      "Test accuracy: 0.853\n"
     ]
    }
   ],
   "source": [
    "test_losses = []\n",
    "num_correct = 0\n",
    "\n",
    "h = model.init_hidden(batch_size)\n",
    "criterion = nn.CrossEntropyLoss()\n",
    "    \n",
    "model.eval()\n",
    "\n",
    "nb_classes = 2\n",
    "confusion_matrix = torch.zeros(nb_classes, nb_classes)\n",
    "\n",
    "for inputs, labels in test_loader:\n",
    "\n",
    "    if inputs.size(0) != batch_size:\n",
    "        break\n",
    "    h = tuple([each.data for each in h])\n",
    "    if(train_on_gpu):\n",
    "        inputs, labels = inputs.cuda(), labels.cuda()\n",
    "    output, h = model(inputs, h)\n",
    "    test_loss = criterion(output, labels)\n",
    "    \n",
    "    softmax = nn.Softmax(dim=1)\n",
    "    output = softmax(output)\n",
    "    _, pred = torch.max(output, 1)  \n",
    "    \n",
    "    test_losses.append(test_loss.item())\n",
    "    correct_pred_tensor = pred.eq(labels.data.view_as(pred))\n",
    "\n",
    "    for t, p in zip(labels.view(-1), pred.view(-1)):\n",
    "        confusion_matrix[t.long(), p.long()] += 1\n",
    "    \n",
    "    correct = np.squeeze(correct_pred_tensor.numpy()) if not train_on_gpu \\\n",
    "            else np.squeeze(correct_pred_tensor.cpu().numpy())\n",
    "    num_correct += np.sum(correct)\n",
    "\n",
    "print(\"Test loss: {:.3f}\".format(np.mean(test_losses)))\n",
    "test_acc = num_correct/len(test_loader.dataset)\n",
    "print(\"Test accuracy: {:.3f}\".format(test_acc))\n",
    "\n"
   ]
  },
  {
   "cell_type": "code",
   "execution_count": 38,
   "metadata": {},
   "outputs": [
    {
     "name": "stdout",
     "output_type": "stream",
     "text": [
      "Test loss: 1.019\n",
      "Test accuracy: 0.853\n",
      "\n",
      "Confusion Matrix: tensor([[629.,  42.],\n",
      "        [ 61.,   8.]])\n",
      "\n",
      "Percision: 0.11594203114509583\n",
      "Recall: 0.012558870017528534\n",
      "f1 score: 0.0376766100525856\n"
     ]
    }
   ],
   "source": [
    "\n",
    "print(\"Test loss: {:.3f}\".format(np.mean(test_losses)))\n",
    "\n",
    "# accuracy over all test data\n",
    "test_acc = num_correct/len(test_loader.dataset)\n",
    "print(\"Test accuracy: {:.3f}\".format(test_acc))\n",
    "\n",
    "print('\\nConfusion Matrix: {}\\n'.format(confusion_matrix))\n",
    "percision = confusion_matrix[1][1] / sum(confusion_matrix[1])\n",
    "print('Percision: {}'.format(percision))\n",
    "recall = confusion_matrix[1][1] / (confusion_matrix[1][1]+confusion_matrix[0][0])\n",
    "print('Recall: {}'.format(recall))\n",
    "f1 = 2*percision*recall/percision+recall\n",
    "print('f1 score: {}'.format(f1))"
   ]
  },
  {
   "cell_type": "code",
   "execution_count": 39,
   "metadata": {},
   "outputs": [
    {
     "data": {
      "text/plain": [
       "tensor([61.,  8.])"
      ]
     },
     "execution_count": 39,
     "metadata": {},
     "output_type": "execute_result"
    }
   ],
   "source": [
    "confusion_matrix[1]"
   ]
  },
  {
   "cell_type": "markdown",
   "metadata": {},
   "source": [
    "# Predict location"
   ]
  },
  {
   "cell_type": "code",
   "execution_count": 40,
   "metadata": {},
   "outputs": [],
   "source": [
    "df = pd.read_csv('data/HURdat_ExtremeWeatherEvents.csv',index_col=0)"
   ]
  },
  {
   "cell_type": "code",
   "execution_count": 41,
   "metadata": {},
   "outputs": [
    {
     "name": "stdout",
     "output_type": "stream",
     "text": [
      "No GPU found.\n"
     ]
    }
   ],
   "source": [
    "train_on_gpu = torch.cuda.is_available()\n",
    "if not train_on_gpu:\n",
    "    print('No GPU found.')"
   ]
  },
  {
   "cell_type": "code",
   "execution_count": 42,
   "metadata": {},
   "outputs": [
    {
     "name": "stdout",
     "output_type": "stream",
     "text": [
      "(8793, 21)\n",
      "Index(['ID', 'Name', 'Status', 'Latitude', 'Longitude', 'Maximum.Wind',\n",
      "       'date_time', 'diff', 'rapid_int', 'i', 'n', 'persistence', 'product',\n",
      "       'Initial.Max', 'speed', 'speed_z', 'speed_m', 'Jday', 'Maximum.Wind_p',\n",
      "       'Latitude_p', 'Longitude_p'],\n",
      "      dtype='object')\n"
     ]
    }
   ],
   "source": [
    "print(df.shape)\n",
    "print(df.columns)"
   ]
  },
  {
   "cell_type": "code",
   "execution_count": 43,
   "metadata": {},
   "outputs": [],
   "source": [
    "event_ids = df['ID'].unique().tolist()\n",
    "num_events = len(event_ids)"
   ]
  },
  {
   "cell_type": "code",
   "execution_count": 44,
   "metadata": {},
   "outputs": [],
   "source": [
    "sequence_length = 4\n",
    "prediction_window = 4\n",
    "batch_size = 10\n",
    "# sequence_size : 4 to cover a whole day\n",
    "# prediction_window : how many time steps in the future we predict for."
   ]
  },
  {
   "cell_type": "code",
   "execution_count": 45,
   "metadata": {},
   "outputs": [],
   "source": [
    "columns_to_drop = ['Name','Status','date_time','i','n','Jday']\n",
    "columns_to_scale = ['rapid_int','Maximum.Wind','diff',\n",
    "           'persistence','product','Initial.Max','speed','speed_z',\n",
    "           'speed_m','Maximum.Wind_p','Latitude_p', 'Longitude_p']\n",
    "df = df.drop(columns_to_drop,axis=1)\n",
    "df.replace({np.nan: 0}, inplace=True)"
   ]
  },
  {
   "cell_type": "code",
   "execution_count": 46,
   "metadata": {},
   "outputs": [],
   "source": [
    "test = df[df['ID']=='AL011980']"
   ]
  },
  {
   "cell_type": "code",
   "execution_count": 47,
   "metadata": {},
   "outputs": [
    {
     "data": {
      "text/plain": [
       "ID                 AL011980\n",
       "Latitude               29.6\n",
       "Longitude             -85.8\n",
       "Maximum.Wind             25\n",
       "diff                      5\n",
       "rapid_int                 0\n",
       "persistence               0\n",
       "product                   0\n",
       "Initial.Max              25\n",
       "speed               13.7483\n",
       "speed_z           0.0345869\n",
       "speed_m             9.26624\n",
       "Maximum.Wind_p           20\n",
       "Latitude_p             29.5\n",
       "Longitude_p           -84.7\n",
       "Name: 11, dtype: object"
      ]
     },
     "execution_count": 47,
     "metadata": {},
     "output_type": "execute_result"
    }
   ],
   "source": [
    "test.iloc[8]"
   ]
  },
  {
   "cell_type": "code",
   "execution_count": 48,
   "metadata": {},
   "outputs": [],
   "source": [
    "from sklearn.preprocessing import StandardScaler\n",
    "scaler = StandardScaler()\n",
    "df_scaled = df.copy(deep=True)\n",
    "df_scaled[columns_to_scale] = scaler.fit_transform(df_scaled[columns_to_scale])"
   ]
  },
  {
   "cell_type": "code",
   "execution_count": 56,
   "metadata": {},
   "outputs": [],
   "source": [
    "def get_location_batches(df_data):\n",
    "    x_batch, y_batch = [],[]\n",
    "    for event_id in event_ids:\n",
    "        event = df_data[df_data['ID']==event_id]\n",
    "        for i in range(1,event.shape[0]-sequence_length-prediction_window):\n",
    "            x = np.array(event.iloc[i:i+sequence_length].drop('ID',axis=1),dtype=np.double)\n",
    "            y = np.array(event.iloc[i+sequence_length+prediction_window-1][['Latitude','Longitude']],dtype=np.double)\n",
    "            x_batch.append(x)\n",
    "            y_batch.append(y)\n",
    "    return np.array(x_batch,dtype=np.double), np.array(y_batch,dtype=np.double)"
   ]
  },
  {
   "cell_type": "code",
   "execution_count": 57,
   "metadata": {},
   "outputs": [],
   "source": [
    "def get_location_dataloader(df_data, batch_size):\n",
    "    x,y = get_location_batches(df_data)\n",
    "    data = TensorDataset(torch.from_numpy(x), torch.from_numpy(y))\n",
    "    data_loader = DataLoader(data, shuffle=True, batch_size=batch_size)\n",
    "    return data_loader"
   ]
  },
  {
   "cell_type": "code",
   "execution_count": 58,
   "metadata": {},
   "outputs": [
    {
     "name": "stdout",
     "output_type": "stream",
     "text": [
      "torch.Size([5, 4, 14])\n",
      "tensor([[[ 1.8900e+01, -6.6900e+01, -2.3831e-01, -1.9507e-01, -2.5630e-01,\n",
      "           3.1463e-02, -1.3820e-01, -1.1820e-01, -1.4992e-01, -5.5251e-01,\n",
      "           2.2341e-01,  5.5450e-02, -4.3795e-01, -2.6681e-01],\n",
      "         [ 2.2700e+01, -7.3700e+01, -4.6446e-02,  2.2453e-01, -2.5630e-01,\n",
      "           3.1463e-02, -1.3820e-01, -1.1820e-01, -1.7354e-01, -4.9714e-02,\n",
      "           2.2341e-01, -3.1245e-01,  2.8711e-02, -5.8387e-01],\n",
      "         [ 2.3700e+01, -7.4500e+01,  3.3728e-01,  1.4833e+00, -2.5630e-01,\n",
      "           1.5625e+00,  6.8888e-01, -1.1820e-01, -2.5449e-01,  6.1599e-02,\n",
      "           2.2341e-01,  5.5450e-02,  9.3827e-02, -6.2244e-01],\n",
      "         [ 2.4800e+01, -7.4400e+01,  7.2100e-01,  2.3225e+00,  3.9017e+00,\n",
      "           2.3280e+00,  1.4333e+00,  2.0611e-01, -2.6258e-01,  1.4812e-01,\n",
      "           2.2341e-01,  4.2335e-01,  2.0235e-01, -6.5671e-01]],\n",
      "\n",
      "        [[ 2.7900e+01, -7.4100e+01,  7.2100e-01, -1.9507e-01, -2.5630e-01,\n",
      "          -7.3403e-01, -5.5174e-01,  1.1790e+00, -2.9758e-01,  5.7186e-01,\n",
      "           2.2341e-01,  6.0730e-01,  6.1476e-01, -6.3101e-01],\n",
      "         [ 2.8400e+01, -7.4300e+01,  9.1286e-01,  2.2453e-01, -2.5630e-01,\n",
      "           3.1463e-02,  1.9263e-01,  1.1790e+00, -3.4871e-01,  6.1634e-01,\n",
      "           2.2341e-01,  7.9124e-01,  6.5817e-01, -6.3957e-01],\n",
      "         [ 2.9200e+01, -7.4100e+01,  1.4884e+00,  1.4833e+00, -2.5630e-01,\n",
      "           7.9696e-01,  9.3700e-01,  1.1790e+00, -3.8410e-01,  6.6833e-01,\n",
      "           2.2341e-01,  9.7519e-01,  7.1243e-01, -6.4814e-01],\n",
      "         [ 3.0000e+01, -7.3700e+01,  1.2966e+00,  1.0637e+00, -2.5630e-01,\n",
      "           2.3280e+00,  2.4257e+00,  1.1790e+00, -3.5227e-01,  7.0214e-01,\n",
      "           2.2341e-01,  1.5270e+00,  7.9925e-01, -6.3957e-01]],\n",
      "\n",
      "        [[ 2.5600e+01, -8.4400e+01, -1.0058e+00, -6.1466e-01, -2.5630e-01,\n",
      "          -7.3403e-01, -5.5174e-01, -9.2897e-01, -4.3036e-01,  5.3553e-01,\n",
      "           2.2341e-01, -8.6429e-01,  4.0855e-01, -1.0937e+00],\n",
      "         [ 2.5800e+01, -8.4200e+01, -8.1389e-01, -1.9507e-01, -2.5630e-01,\n",
      "          -7.3403e-01, -5.5174e-01, -9.2897e-01, -4.2938e-01,  5.1712e-01,\n",
      "           2.2341e-01, -8.6429e-01,  4.0855e-01, -1.0809e+00],\n",
      "         [ 2.6000e+01, -8.4000e+01, -8.1389e-01, -1.9507e-01, -2.5630e-01,\n",
      "           3.1463e-02, -3.0362e-01, -7.6682e-01, -4.2938e-01,  4.9855e-01,\n",
      "           2.2341e-01, -6.8034e-01,  4.3026e-01, -1.0723e+00],\n",
      "         [ 2.6200e+01, -8.3800e+01, -6.2203e-01,  2.2453e-01, -2.5630e-01,\n",
      "           3.1463e-02, -3.0362e-01, -7.6682e-01, -4.2505e-01,  4.9855e-01,\n",
      "           2.2341e-01, -6.8034e-01,  4.5197e-01, -1.0638e+00]],\n",
      "\n",
      "        [[ 1.7100e+01, -7.9500e+01,  3.4071e+00,  1.9029e+00,  3.9017e+00,\n",
      "           1.5625e+00,  2.7979e+00,  2.6384e+00, -1.8474e-01, -6.4136e-01,\n",
      "           2.2341e-01,  3.1826e+00, -5.8989e-01, -8.0668e-01],\n",
      "         [ 1.7700e+01, -8.1200e+01,  3.2152e+00,  6.4412e-01, -2.5630e-01,\n",
      "           7.9696e-01,  1.7641e+00,  2.8006e+00, -1.7871e-01, -5.7776e-01,\n",
      "           2.2341e-01,  3.3665e+00, -5.1392e-01, -8.7094e-01],\n",
      "         [ 1.8300e+01, -8.2800e+01,  3.0233e+00, -6.1466e-01, -2.5630e-01,\n",
      "          -7.3403e-01, -5.5174e-01,  2.8006e+00, -1.5890e-01, -5.1484e-01,\n",
      "           2.2341e-01,  3.1826e+00, -4.4881e-01, -9.4378e-01],\n",
      "         [ 2.3200e+01, -9.2800e+01,  1.1047e+00, -3.5518e+00, -2.5630e-01,\n",
      "           7.9696e-01,  1.7641e+00,  2.8006e+00, -2.1474e-01,  6.1599e-02,\n",
      "           2.2341e-01,  9.7519e-01,  8.2974e-02, -1.3851e+00]],\n",
      "\n",
      "        [[ 3.3400e+01, -5.3900e+01,  5.2914e-01, -6.1466e-01, -2.5630e-01,\n",
      "          -7.3403e-01, -5.5174e-01,  1.5033e+00, -3.7683e-01,  1.1178e+00,\n",
      "           2.2341e-01,  6.0730e-01,  1.2659e+00,  2.2164e-01],\n",
      "         [ 3.3200e+01, -5.3800e+01,  5.2914e-01, -6.1466e-01, -2.5630e-01,\n",
      "          -7.3403e-01, -5.5174e-01,  1.5033e+00, -4.1380e-01,  1.1121e+00,\n",
      "           2.2341e-01,  6.0730e-01,  1.2551e+00,  2.2592e-01],\n",
      "         [ 3.3100e+01, -5.3700e+01,  5.2914e-01, -6.1466e-01, -2.5630e-01,\n",
      "          -7.3403e-01, -5.5174e-01,  1.5033e+00, -4.4367e-01,  1.1005e+00,\n",
      "           2.2341e-01,  6.0730e-01,  1.2334e+00,  2.3021e-01],\n",
      "         [ 3.3300e+01, -5.3200e+01,  7.2100e-01, -1.9507e-01, -2.5630e-01,\n",
      "          -7.3403e-01, -5.5174e-01,  1.5033e+00, -4.4366e-01,  1.0947e+00,\n",
      "           2.2341e-01,  6.0730e-01,  1.2225e+00,  2.3449e-01]]],\n",
      "       dtype=torch.float64)\n",
      "\n",
      "torch.Size([5, 2])\n",
      "tensor([[ 30.2000, -70.9000],\n",
      "        [ 33.7000, -69.1000],\n",
      "        [ 26.4000, -81.1000],\n",
      "        [ 24.6000, -96.9000],\n",
      "        [ 34.1000, -51.2000]], dtype=torch.float64)\n"
     ]
    }
   ],
   "source": [
    "test_loader = get_location_dataloader(df_scaled,5)\n",
    "\n",
    "data_iter = iter(test_loader)\n",
    "sample_x, sample_y = data_iter.next()\n",
    "\n",
    "print(sample_x.shape)\n",
    "print(sample_x)\n",
    "print()\n",
    "print(sample_y.shape)\n",
    "print(sample_y)"
   ]
  },
  {
   "cell_type": "code",
   "execution_count": 59,
   "metadata": {},
   "outputs": [
    {
     "name": "stdout",
     "output_type": "stream",
     "text": [
      "Training dataframe : (7179, 15)\n",
      "Testing dataframe : (1614, 15)\n"
     ]
    }
   ],
   "source": [
    "test_ratio = 0.2\n",
    "\n",
    "event_ids = df['ID'].unique().tolist()\n",
    "training_ids, test_ids = train_test_split(event_ids, test_size=test_ratio, random_state=42)\n",
    "\n",
    "#should split training into training and validaton.\n",
    "\n",
    "df_train = df_scaled[df_scaled['ID'].isin(training_ids)]\n",
    "df_test = df_scaled[df_scaled['ID'].isin(test_ids)]\n",
    "\n",
    "print('Training dataframe : {}'.format(df_train.shape))\n",
    "print('Testing dataframe : {}'.format(df_test.shape))\n"
   ]
  },
  {
   "cell_type": "code",
   "execution_count": 60,
   "metadata": {},
   "outputs": [],
   "source": [
    "epochs = 50\n",
    "batch_size = 10\n",
    "lr = 0.001"
   ]
  },
  {
   "cell_type": "code",
   "execution_count": 61,
   "metadata": {},
   "outputs": [],
   "source": [
    "train_loader = get_dataloader(df_train, batch_size)\n",
    "test_loader = get_dataloader(df_test, batch_size)"
   ]
  },
  {
   "cell_type": "code",
   "execution_count": 62,
   "metadata": {},
   "outputs": [],
   "source": [
    "def train(model, epochs, batch_size, lr):\n",
    "    model.train()\n",
    "    \n",
    "    optimizer = torch.optim.Adam(model.parameters(), lr=lr)\n",
    "    criterion = nn.MSELoss()    \n",
    "    \n",
    "    if(train_on_gpu):\n",
    "        model.cuda()\n",
    "    \n",
    "    for e in range(epochs):\n",
    "        h = model.init_hidden(batch_size)\n",
    "        losses = []\n",
    "        for inputs, targets in train_loader:\n",
    "            if inputs.size(0) != batch_size:\n",
    "                break\n",
    "            if(train_on_gpu):\n",
    "                inputs, targets = inputs.cuda(), targets.cuda()\n",
    "            h = tuple([each.data for each in h])\n",
    "            model.zero_grad()\n",
    "            output, h = model(inputs, h)\n",
    "            loss = criterion(output, targets)\n",
    "            losses.append(loss.item())\n",
    "            loss.backward()\n",
    "            optimizer.step()\n",
    "        print(\"Epoch: \\t {} of {} ...\".format(e+1, epochs))\n",
    "        print(\"Loss: \\t {:.4f}\".format(np.mean(losses)))\n",
    "        print(\"*****************\")\n",
    "            #if counter % print_every == 0:\n",
    "            #    calculate_loss(model, validation_data, batch_size, seq_length)\n",
    "            #    model.train()\n",
    "            \n"
   ]
  },
  {
   "cell_type": "code",
   "execution_count": 63,
   "metadata": {},
   "outputs": [
    {
     "name": "stdout",
     "output_type": "stream",
     "text": [
      "Epoch: \t 1 of 50 ...\n",
      "Loss: \t 664.6868\n",
      "*****************\n",
      "Epoch: \t 2 of 50 ...\n",
      "Loss: \t 121.6948\n",
      "*****************\n",
      "Epoch: \t 3 of 50 ...\n",
      "Loss: \t 70.2506\n",
      "*****************\n",
      "Epoch: \t 4 of 50 ...\n",
      "Loss: \t 54.4332\n",
      "*****************\n",
      "Epoch: \t 5 of 50 ...\n",
      "Loss: \t 48.1410\n",
      "*****************\n",
      "Epoch: \t 6 of 50 ...\n",
      "Loss: \t 43.5762\n",
      "*****************\n",
      "Epoch: \t 7 of 50 ...\n",
      "Loss: \t 42.5632\n",
      "*****************\n",
      "Epoch: \t 8 of 50 ...\n",
      "Loss: \t 41.5208\n",
      "*****************\n",
      "Epoch: \t 9 of 50 ...\n",
      "Loss: \t 40.0970\n",
      "*****************\n",
      "Epoch: \t 10 of 50 ...\n",
      "Loss: \t 41.1047\n",
      "*****************\n",
      "Epoch: \t 11 of 50 ...\n",
      "Loss: \t 40.1529\n",
      "*****************\n",
      "Epoch: \t 12 of 50 ...\n",
      "Loss: \t 39.1158\n",
      "*****************\n",
      "Epoch: \t 13 of 50 ...\n",
      "Loss: \t 38.8028\n",
      "*****************\n",
      "Epoch: \t 14 of 50 ...\n",
      "Loss: \t 38.5854\n",
      "*****************\n",
      "Epoch: \t 15 of 50 ...\n",
      "Loss: \t 38.3142\n",
      "*****************\n",
      "Epoch: \t 16 of 50 ...\n",
      "Loss: \t 38.0691\n",
      "*****************\n",
      "Epoch: \t 17 of 50 ...\n",
      "Loss: \t 35.8702\n",
      "*****************\n",
      "Epoch: \t 18 of 50 ...\n",
      "Loss: \t 37.4851\n",
      "*****************\n",
      "Epoch: \t 19 of 50 ...\n",
      "Loss: \t 37.8167\n",
      "*****************\n",
      "Epoch: \t 20 of 50 ...\n",
      "Loss: \t 37.1353\n",
      "*****************\n",
      "Epoch: \t 21 of 50 ...\n",
      "Loss: \t 34.3955\n",
      "*****************\n",
      "Epoch: \t 22 of 50 ...\n",
      "Loss: \t 36.1951\n",
      "*****************\n",
      "Epoch: \t 23 of 50 ...\n",
      "Loss: \t 35.5243\n",
      "*****************\n",
      "Epoch: \t 24 of 50 ...\n",
      "Loss: \t 35.6167\n",
      "*****************\n",
      "Epoch: \t 25 of 50 ...\n",
      "Loss: \t 34.3735\n",
      "*****************\n",
      "Epoch: \t 26 of 50 ...\n",
      "Loss: \t 34.9521\n",
      "*****************\n",
      "Epoch: \t 27 of 50 ...\n",
      "Loss: \t 34.2888\n",
      "*****************\n",
      "Epoch: \t 28 of 50 ...\n",
      "Loss: \t 35.3653\n",
      "*****************\n",
      "Epoch: \t 29 of 50 ...\n",
      "Loss: \t 34.5615\n",
      "*****************\n",
      "Epoch: \t 30 of 50 ...\n",
      "Loss: \t 34.2271\n",
      "*****************\n",
      "Epoch: \t 31 of 50 ...\n",
      "Loss: \t 34.5572\n",
      "*****************\n",
      "Epoch: \t 32 of 50 ...\n",
      "Loss: \t 35.7666\n",
      "*****************\n",
      "Epoch: \t 33 of 50 ...\n",
      "Loss: \t 34.6968\n",
      "*****************\n",
      "Epoch: \t 34 of 50 ...\n",
      "Loss: \t 33.9320\n",
      "*****************\n",
      "Epoch: \t 35 of 50 ...\n",
      "Loss: \t 34.0063\n",
      "*****************\n",
      "Epoch: \t 36 of 50 ...\n",
      "Loss: \t 33.3214\n",
      "*****************\n",
      "Epoch: \t 37 of 50 ...\n",
      "Loss: \t 33.1573\n",
      "*****************\n",
      "Epoch: \t 38 of 50 ...\n",
      "Loss: \t 32.7531\n",
      "*****************\n",
      "Epoch: \t 39 of 50 ...\n",
      "Loss: \t 33.2801\n",
      "*****************\n",
      "Epoch: \t 40 of 50 ...\n",
      "Loss: \t 32.9842\n",
      "*****************\n",
      "Epoch: \t 41 of 50 ...\n",
      "Loss: \t 33.2194\n",
      "*****************\n",
      "Epoch: \t 42 of 50 ...\n",
      "Loss: \t 33.7577\n",
      "*****************\n",
      "Epoch: \t 43 of 50 ...\n",
      "Loss: \t 33.5803\n",
      "*****************\n",
      "Epoch: \t 44 of 50 ...\n",
      "Loss: \t 33.5919\n",
      "*****************\n",
      "Epoch: \t 45 of 50 ...\n",
      "Loss: \t 32.5938\n",
      "*****************\n",
      "Epoch: \t 46 of 50 ...\n",
      "Loss: \t 31.9097\n",
      "*****************\n",
      "Epoch: \t 47 of 50 ...\n",
      "Loss: \t 33.0234\n",
      "*****************\n",
      "Epoch: \t 48 of 50 ...\n",
      "Loss: \t 33.0849\n",
      "*****************\n",
      "Epoch: \t 49 of 50 ...\n",
      "Loss: \t 31.6400\n",
      "*****************\n",
      "Epoch: \t 50 of 50 ...\n",
      "Loss: \t 30.6663\n",
      "*****************\n"
     ]
    }
   ],
   "source": [
    "train(model, epochs=epochs, batch_size=batch_size, lr=lr)"
   ]
  },
  {
   "cell_type": "code",
   "execution_count": 64,
   "metadata": {},
   "outputs": [
    {
     "name": "stdout",
     "output_type": "stream",
     "text": [
      "Test accuracy: 0.853\n"
     ]
    }
   ],
   "source": [
    "test_losses = []\n",
    "num_correct = 0\n",
    "\n",
    "h = model.init_hidden(batch_size)\n",
    "criterion = nn.MSELoss()\n",
    "    \n",
    "model.eval()\n",
    "\n",
    "for inputs, labels in test_loader:\n",
    "\n",
    "    if inputs.size(0) != batch_size:\n",
    "        break\n",
    "    h = tuple([each.data for each in h])\n",
    "    if(train_on_gpu):\n",
    "        inputs, labels = inputs.cuda(), labels.cuda()\n",
    "    output, h = model(inputs, h)\n",
    "    test_loss = criterion(output, labels)    \n",
    "    test_losses.append(test_loss.item())\n",
    "\n",
    "print(\"Test accuracy: {:.3f}\".format(test_acc))\n"
   ]
  },
  {
   "cell_type": "code",
   "execution_count": null,
   "metadata": {},
   "outputs": [],
   "source": []
  }
 ],
 "metadata": {
  "kernelspec": {
   "display_name": "hackathon",
   "language": "python",
   "name": "hackathon"
  },
  "language_info": {
   "codemirror_mode": {
    "name": "ipython",
    "version": 3
   },
   "file_extension": ".py",
   "mimetype": "text/x-python",
   "name": "python",
   "nbconvert_exporter": "python",
   "pygments_lexer": "ipython3",
   "version": "3.5.4"
  }
 },
 "nbformat": 4,
 "nbformat_minor": 2
}
