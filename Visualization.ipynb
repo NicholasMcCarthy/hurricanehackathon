{
 "cells": [
  {
   "cell_type": "code",
   "execution_count": 248,
   "metadata": {},
   "outputs": [],
   "source": [
    "import plotly.express as px\n",
    "from datetime import datetime\n",
    "import itertools"
   ]
  },
  {
   "cell_type": "code",
   "execution_count": 263,
   "metadata": {},
   "outputs": [
    {
     "data": {
      "text/html": [
       "<div>\n",
       "<style scoped>\n",
       "    .dataframe tbody tr th:only-of-type {\n",
       "        vertical-align: middle;\n",
       "    }\n",
       "\n",
       "    .dataframe tbody tr th {\n",
       "        vertical-align: top;\n",
       "    }\n",
       "\n",
       "    .dataframe thead th {\n",
       "        text-align: right;\n",
       "    }\n",
       "</style>\n",
       "<table border=\"1\" class=\"dataframe\">\n",
       "  <thead>\n",
       "    <tr style=\"text-align: right;\">\n",
       "      <th></th>\n",
       "      <th>ID</th>\n",
       "      <th>Name</th>\n",
       "      <th>Latitude</th>\n",
       "      <th>Longitude</th>\n",
       "      <th>Status</th>\n",
       "      <th>Maximum.Wind</th>\n",
       "      <th>Hours</th>\n",
       "    </tr>\n",
       "  </thead>\n",
       "  <tbody>\n",
       "    <tr>\n",
       "      <td>0</td>\n",
       "      <td>AL011980</td>\n",
       "      <td>UNNAMED</td>\n",
       "      <td>30.5</td>\n",
       "      <td>-76.5</td>\n",
       "      <td>0</td>\n",
       "      <td>20</td>\n",
       "      <td>0</td>\n",
       "    </tr>\n",
       "    <tr>\n",
       "      <td>1</td>\n",
       "      <td>AL011980</td>\n",
       "      <td>UNNAMED</td>\n",
       "      <td>30.2</td>\n",
       "      <td>-77.2</td>\n",
       "      <td>0</td>\n",
       "      <td>25</td>\n",
       "      <td>6</td>\n",
       "    </tr>\n",
       "    <tr>\n",
       "      <td>2</td>\n",
       "      <td>AL011980</td>\n",
       "      <td>UNNAMED</td>\n",
       "      <td>30.0</td>\n",
       "      <td>-78.0</td>\n",
       "      <td>0</td>\n",
       "      <td>25</td>\n",
       "      <td>12</td>\n",
       "    </tr>\n",
       "    <tr>\n",
       "      <td>3</td>\n",
       "      <td>AL011980</td>\n",
       "      <td>UNNAMED</td>\n",
       "      <td>29.9</td>\n",
       "      <td>-79.3</td>\n",
       "      <td>0</td>\n",
       "      <td>25</td>\n",
       "      <td>18</td>\n",
       "    </tr>\n",
       "    <tr>\n",
       "      <td>4</td>\n",
       "      <td>AL011980</td>\n",
       "      <td>UNNAMED</td>\n",
       "      <td>29.8</td>\n",
       "      <td>-80.2</td>\n",
       "      <td>0</td>\n",
       "      <td>25</td>\n",
       "      <td>24</td>\n",
       "    </tr>\n",
       "  </tbody>\n",
       "</table>\n",
       "</div>"
      ],
      "text/plain": [
       "         ID                 Name  Latitude  Longitude  Status  Maximum.Wind  \\\n",
       "0  AL011980              UNNAMED      30.5      -76.5       0            20   \n",
       "1  AL011980              UNNAMED      30.2      -77.2       0            25   \n",
       "2  AL011980              UNNAMED      30.0      -78.0       0            25   \n",
       "3  AL011980              UNNAMED      29.9      -79.3       0            25   \n",
       "4  AL011980              UNNAMED      29.8      -80.2       0            25   \n",
       "\n",
       "   Hours  \n",
       "0      0  \n",
       "1      6  \n",
       "2     12  \n",
       "3     18  \n",
       "4     24  "
      ]
     },
     "execution_count": 263,
     "metadata": {},
     "output_type": "execute_result"
    }
   ],
   "source": [
    "data = pd.read_csv('HURdat_ExtremeWeatherEvents.csv')\n",
    "data['Hours'] = list(itertools.chain(*data.groupby('ID').apply(lambda group: list(range(0, 6*len(group), 6))).values))\n",
    "data.loc[data['Maximum.Wind'] == -99, 'Maximum.Wind'] = 0\n",
    "data = data.replace(to_replace={' TD': 0, ' TS': 1, ' HU': 2})\n",
    "data = data[['ID', 'Name', 'Latitude', 'Longitude', 'Status', 'Maximum.Wind', 'Hours']]\n",
    "hurs = data[data['ID'].isin(data[data['Status'] == 2].ID.unique()[:20])].reset_index(drop=True)\n",
    "data.head()"
   ]
  },
  {
   "cell_type": "code",
   "execution_count": 287,
   "metadata": {
    "scrolled": false
   },
   "outputs": [
    {
     "data": {
      "application/vnd.plotly.v1+json": {
       "config": {
        "plotlyServerURL": "https://plot.ly"
       },
       "data": [
        {
         "geo": "geo",
         "hoverlabel": {
          "namelength": 0
         },
         "hovertemplate": "<b>%{hovertext}</b><br><br>Hours=0<br>Maximum.Wind=%{marker.size}<br>Latitude=%{lat}<br>Longitude=%{lon}<br>Status=%{marker.color}",
         "hovertext": [
          "            ALBERTO",
          "            ALLISON",
          "               ALEX",
          "               ALEX",
          "             ARTHUR",
          "                BOB",
          "             BONNIE",
          "             ARLENE",
          "             BERTHA",
          "             BONNIE",
          "             BERTHA",
          "             ALICIA",
          "          CLAUDETTE",
          "             BERTHA",
          "                BOB",
          "              CESAR",
          "               BILL",
          "               BRET",
          "            ALBERTO",
          "            CHARLEY"
         ],
         "lat": [
          21.7,
          17.4,
          30.3,
          16.4,
          27.7,
          26,
          25.6,
          25,
          9.8,
          14.7,
          12.7,
          27.3,
          34,
          29.3,
          25.6,
          11.8,
          30.4,
          19.5,
          10.8,
          11.4
         ],
         "legendgroup": "",
         "lon": [
          -87.1,
          -84.3,
          -78.3,
          -83.1,
          -78.9,
          -85,
          -87.2,
          -78,
          -34,
          -48.1,
          -22.9,
          -90.5,
          -74,
          -75.6,
          -74.3,
          -62.6,
          -69.9,
          -94.4,
          -18,
          -59.2
         ],
         "marker": {
          "color": [
           0,
           0,
           0,
           0,
           0,
           0,
           0,
           0,
           0,
           0,
           0,
           0,
           1,
           0,
           0,
           0,
           0,
           0,
           0,
           0
          ],
          "coloraxis": "coloraxis",
          "size": [
           20,
           30,
           25,
           30,
           30,
           25,
           25,
           25,
           30,
           25,
           30,
           30,
           35,
           30,
           25,
           25,
           30,
           30,
           25,
           30
          ],
          "sizemode": "area",
          "sizeref": 0.3125
         },
         "name": "",
         "showlegend": false,
         "type": "scattergeo"
        }
       ],
       "frames": [
        {
         "data": [
          {
           "geo": "geo",
           "hoverlabel": {
            "namelength": 0
           },
           "hovertemplate": "<b>%{hovertext}</b><br><br>Hours=0<br>Maximum.Wind=%{marker.size}<br>Latitude=%{lat}<br>Longitude=%{lon}<br>Status=%{marker.color}",
           "hovertext": [
            "            ALBERTO",
            "            ALLISON",
            "               ALEX",
            "               ALEX",
            "             ARTHUR",
            "                BOB",
            "             BONNIE",
            "             ARLENE",
            "             BERTHA",
            "             BONNIE",
            "             BERTHA",
            "             ALICIA",
            "          CLAUDETTE",
            "             BERTHA",
            "                BOB",
            "              CESAR",
            "               BILL",
            "               BRET",
            "            ALBERTO",
            "            CHARLEY"
           ],
           "lat": [
            21.7,
            17.4,
            30.3,
            16.4,
            27.7,
            26,
            25.6,
            25,
            9.8,
            14.7,
            12.7,
            27.3,
            34,
            29.3,
            25.6,
            11.8,
            30.4,
            19.5,
            10.8,
            11.4
           ],
           "legendgroup": "",
           "lon": [
            -87.1,
            -84.3,
            -78.3,
            -83.1,
            -78.9,
            -85,
            -87.2,
            -78,
            -34,
            -48.1,
            -22.9,
            -90.5,
            -74,
            -75.6,
            -74.3,
            -62.6,
            -69.9,
            -94.4,
            -18,
            -59.2
           ],
           "marker": {
            "color": [
             0,
             0,
             0,
             0,
             0,
             0,
             0,
             0,
             0,
             0,
             0,
             0,
             1,
             0,
             0,
             0,
             0,
             0,
             0,
             0
            ],
            "coloraxis": "coloraxis",
            "size": [
             20,
             30,
             25,
             30,
             30,
             25,
             25,
             25,
             30,
             25,
             30,
             30,
             35,
             30,
             25,
             25,
             30,
             30,
             25,
             30
            ],
            "sizemode": "area",
            "sizeref": 0.3125
           },
           "name": "",
           "showlegend": false,
           "type": "scattergeo"
          }
         ],
         "name": "0"
        },
        {
         "data": [
          {
           "geo": "geo",
           "hoverlabel": {
            "namelength": 0
           },
           "hovertemplate": "<b>%{hovertext}</b><br><br>Hours=6<br>Maximum.Wind=%{marker.size}<br>Latitude=%{lat}<br>Longitude=%{lon}<br>Status=%{marker.color}",
           "hovertext": [
            "            ALBERTO",
            "            ALLISON",
            "               ALEX",
            "               ALEX",
            "             ARTHUR",
            "                BOB",
            "             BONNIE",
            "             ARLENE",
            "             BERTHA",
            "             BONNIE",
            "             BERTHA",
            "             ALICIA",
            "          CLAUDETTE",
            "             BERTHA",
            "                BOB",
            "              CESAR",
            "               BILL",
            "               BRET",
            "            ALBERTO",
            "            CHARLEY"
           ],
           "lat": [
            22.2,
            18.3,
            31,
            16.6,
            27.5,
            25.8,
            25.7,
            26.2,
            10.2,
            15.4,
            13.1,
            27.2,
            34.3,
            29.1,
            25.7,
            11.9,
            31.8,
            19.5,
            11.5,
            11.7
           ],
           "legendgroup": "",
           "lon": [
            -86.5,
            -84.9,
            -78.8,
            -83.9,
            -79.1,
            -84.9,
            -87.8,
            -78.2,
            -36.3,
            -50.1,
            -24,
            -91,
            -72.7,
            -75.8,
            -74.9,
            -64.7,
            -68.9,
            -94.5,
            -20.1,
            -61.1
           ],
           "marker": {
            "color": [
             0,
             0,
             0,
             0,
             0,
             0,
             0,
             0,
             0,
             0,
             1,
             1,
             1,
             0,
             0,
             0,
             1,
             0,
             0,
             0
            ],
            "coloraxis": "coloraxis",
            "size": [
             25,
             30,
             25,
             30,
             30,
             25,
             25,
             25,
             30,
             30,
             35,
             40,
             35,
             30,
             25,
             25,
             40,
             30,
             30,
             30
            ],
            "sizemode": "area",
            "sizeref": 0.3125
           },
           "name": "",
           "showlegend": false,
           "type": "scattergeo"
          }
         ],
         "name": "6"
        },
        {
         "data": [
          {
           "geo": "geo",
           "hoverlabel": {
            "namelength": 0
           },
           "hovertemplate": "<b>%{hovertext}</b><br><br>Hours=12<br>Maximum.Wind=%{marker.size}<br>Latitude=%{lat}<br>Longitude=%{lon}<br>Status=%{marker.color}",
           "hovertext": [
            "            ALBERTO",
            "            ALLISON",
            "               ALEX",
            "               ALEX",
            "             ARTHUR",
            "                BOB",
            "             BONNIE",
            "             ARLENE",
            "             BERTHA",
            "             BONNIE",
            "             BERTHA",
            "             ALICIA",
            "          CLAUDETTE",
            "             BERTHA",
            "                BOB",
            "              CESAR",
            "               BILL",
            "               BRET",
            "            ALBERTO",
            "            CHARLEY"
           ],
           "lat": [
            22.6,
            19.3,
            31.5,
            16.7,
            27.5,
            25.6,
            26,
            27.2,
            11,
            16.2,
            13.2,
            27.1,
            34.5,
            28.8,
            25.9,
            11.9,
            33.1,
            19.6,
            12,
            12.2
           ],
           "legendgroup": "",
           "lon": [
            -85.8,
            -85.7,
            -79,
            -84.9,
            -79.2,
            -84.7,
            -88.4,
            -77.2,
            -39,
            -52.2,
            -25.2,
            -91.5,
            -71.5,
            -76,
            -75.4,
            -66.5,
            -67.6,
            -94.6,
            -22.3,
            -63.2
           ],
           "marker": {
            "color": [
             0,
             1,
             0,
             1,
             1,
             0,
             0,
             0,
             1,
             0,
             1,
             1,
             1,
             0,
             0,
             0,
             1,
             0,
             1,
             0
            ],
            "coloraxis": "coloraxis",
            "size": [
             30,
             35,
             25,
             40,
             35,
             25,
             25,
             25,
             35,
             30,
             35,
             45,
             35,
             30,
             30,
             30,
             45,
             30,
             35,
             30
            ],
            "sizemode": "area",
            "sizeref": 0.3125
           },
           "name": "",
           "showlegend": false,
           "type": "scattergeo"
          }
         ],
         "name": "12"
        },
        {
         "data": [
          {
           "geo": "geo",
           "hoverlabel": {
            "namelength": 0
           },
           "hovertemplate": "<b>%{hovertext}</b><br><br>Hours=18<br>Maximum.Wind=%{marker.size}<br>Latitude=%{lat}<br>Longitude=%{lon}<br>Status=%{marker.color}",
           "hovertext": [
            "            ALBERTO",
            "            ALLISON",
            "               ALEX",
            "               ALEX",
            "             ARTHUR",
            "                BOB",
            "             BONNIE",
            "             ARLENE",
            "             BERTHA",
            "             BONNIE",
            "             BERTHA",
            "             ALICIA",
            "          CLAUDETTE",
            "             BERTHA",
            "                BOB",
            "              CESAR",
            "               BILL",
            "               BRET",
            "            ALBERTO",
            "            CHARLEY"
           ],
           "lat": [
            22.8,
            20.6,
            31.6,
            16.9,
            27.7,
            25.6,
            26.4,
            28.3,
            12,
            16.9,
            13.4,
            27,
            34.7,
            28.6,
            26.4,
            12.1,
            34.7,
            19.7,
            12.3,
            12.9
           ],
           "legendgroup": "",
           "lon": [
            -85,
            -85.8,
            -79.1,
            -86.1,
            -79.3,
            -84.4,
            -88.9,
            -75.7,
            -41.2,
            -54.7,
            -26.5,
            -92,
            -70.3,
            -75.8,
            -75.8,
            -68.1,
            -65.8,
            -94.6,
            -23.8,
            -65.3
           ],
           "marker": {
            "color": [
             1,
             1,
             0,
             1,
             1,
             0,
             0,
             0,
             1,
             0,
             1,
             1,
             1,
             1,
             1,
             1,
             1,
             0,
             1,
             1
            ],
            "coloraxis": "coloraxis",
            "size": [
             40,
             40,
             30,
             40,
             40,
             25,
             30,
             25,
             35,
             30,
             40,
             50,
             40,
             35,
             35,
             40,
             50,
             30,
             35,
             35
            ],
            "sizemode": "area",
            "sizeref": 0.3125
           },
           "name": "",
           "showlegend": false,
           "type": "scattergeo"
          }
         ],
         "name": "18"
        },
        {
         "data": [
          {
           "geo": "geo",
           "hoverlabel": {
            "namelength": 0
           },
           "hovertemplate": "<b>%{hovertext}</b><br><br>Hours=24<br>Maximum.Wind=%{marker.size}<br>Latitude=%{lat}<br>Longitude=%{lon}<br>Status=%{marker.color}",
           "hovertext": [
            "            ALBERTO",
            "            ALLISON",
            "               ALEX",
            "               ALEX",
            "             ARTHUR",
            "                BOB",
            "             BONNIE",
            "             ARLENE",
            "             BERTHA",
            "             BONNIE",
            "             BERTHA",
            "             ALICIA",
            "          CLAUDETTE",
            "             BERTHA",
            "                BOB",
            "              CESAR",
            "               BILL",
            "               BRET",
            "            ALBERTO",
            "            CHARLEY"
           ],
           "lat": [
            23.2,
            22,
            31.6,
            17.2,
            27.9,
            25.8,
            26.6,
            29.4,
            12.7,
            17.3,
            14,
            27.1,
            34.8,
            28.8,
            27.1,
            12.3,
            36.3,
            19.8,
            12.7,
            13.8
           ],
           "legendgroup": "",
           "lon": [
            -84.2,
            -86,
            -79.2,
            -87.2,
            -79.2,
            -84.2,
            -89.5,
            -74.4,
            -43.9,
            -57.3,
            -27.8,
            -92.4,
            -69.1,
            -75.4,
            -76.2,
            -69.6,
            -63.6,
            -94.7,
            -25.2,
            -67.6
           ],
           "marker": {
            "color": [
             1,
             1,
             1,
             1,
             1,
             0,
             1,
             1,
             1,
             1,
             1,
             1,
             1,
             1,
             1,
             1,
             1,
             1,
             1,
             1
            ],
            "coloraxis": "coloraxis",
            "size": [
             50,
             50,
             35,
             55,
             45,
             30,
             40,
             35,
             35,
             35,
             40,
             55,
             40,
             40,
             40,
             40,
             60,
             35,
             40,
             40
            ],
            "sizemode": "area",
            "sizeref": 0.3125
           },
           "name": "",
           "showlegend": false,
           "type": "scattergeo"
          }
         ],
         "name": "24"
        },
        {
         "data": [
          {
           "geo": "geo",
           "hoverlabel": {
            "namelength": 0
           },
           "hovertemplate": "<b>%{hovertext}</b><br><br>Hours=30<br>Maximum.Wind=%{marker.size}<br>Latitude=%{lat}<br>Longitude=%{lon}<br>Status=%{marker.color}",
           "hovertext": [
            "            ALBERTO",
            "            ALLISON",
            "               ALEX",
            "               ALEX",
            "             ARTHUR",
            "                BOB",
            "             BONNIE",
            "             ARLENE",
            "             BERTHA",
            "             BONNIE",
            "             BERTHA",
            "             ALICIA",
            "          CLAUDETTE",
            "             BERTHA",
            "                BOB",
            "              CESAR",
            "               BILL",
            "               BRET",
            "            ALBERTO",
            "            CHARLEY"
           ],
           "lat": [
            24,
            23.3,
            31.5,
            18,
            28.2,
            26,
            26.7,
            30.7,
            13.1,
            18.2,
            14.8,
            27.3,
            34.7,
            29.1,
            27.8,
            12.4,
            37.9,
            19.8,
            13.2,
            14.9
           ],
           "legendgroup": "",
           "lon": [
            -83.6,
            -86.3,
            -79.3,
            -89.1,
            -79.1,
            -84,
            -90.3,
            -73.2,
            -46.6,
            -59.6,
            -29.2,
            -92.8,
            -67.7,
            -74.8,
            -76.5,
            -71,
            -61.1,
            -94.7,
            -26.7,
            -69.8
           ],
           "marker": {
            "color": [
             2,
             1,
             1,
             1,
             1,
             0,
             1,
             1,
             1,
             1,
             1,
             1,
             1,
             1,
             1,
             1,
             2,
             1,
             1,
             1
            ],
            "coloraxis": "coloraxis",
            "size": [
             75,
             60,
             35,
             55,
             50,
             30,
             45,
             40,
             35,
             35,
             45,
             60,
             45,
             45,
             45,
             40,
             65,
             40,
             40,
             45
            ],
            "sizemode": "area",
            "sizeref": 0.3125
           },
           "name": "",
           "showlegend": false,
           "type": "scattergeo"
          }
         ],
         "name": "30"
        },
        {
         "data": [
          {
           "geo": "geo",
           "hoverlabel": {
            "namelength": 0
           },
           "hovertemplate": "<b>%{hovertext}</b><br><br>Hours=36<br>Maximum.Wind=%{marker.size}<br>Latitude=%{lat}<br>Longitude=%{lon}<br>Status=%{marker.color}",
           "hovertext": [
            "            ALBERTO",
            "            ALLISON",
            "               ALEX",
            "               ALEX",
            "             ARTHUR",
            "                BOB",
            "             BONNIE",
            "             ARLENE",
            "             BERTHA",
            "             BONNIE",
            "             BERTHA",
            "             ALICIA",
            "          CLAUDETTE",
            "             BERTHA",
            "                BOB",
            "              CESAR",
            "               BILL",
            "               BRET",
            "            ALBERTO",
            "            CHARLEY"
           ],
           "lat": [
            24.8,
            24.7,
            31.4,
            18.5,
            28.7,
            26.2,
            26.8,
            31.4,
            13.7,
            18.7,
            15.4,
            27.4,
            34.5,
            29.6,
            28.4,
            12.4,
            39.6,
            20,
            13.7,
            15.6
           ],
           "legendgroup": "",
           "lon": [
            -83.4,
            -86.2,
            -79.4,
            -90,
            -79,
            -83.8,
            -91,
            -72.3,
            -48.7,
            -61.3,
            -30.8,
            -93.3,
            -66.4,
            -74.2,
            -76.9,
            -72.7,
            -58.4,
            -94.6,
            -28.2,
            -71.8
           ],
           "marker": {
            "color": [
             2,
             2,
             1,
             1,
             1,
             1,
             1,
             1,
             1,
             1,
             1,
             2,
             1,
             1,
             1,
             1,
             2,
             1,
             1,
             1
            ],
            "coloraxis": "coloraxis",
            "size": [
             65,
             65,
             40,
             45,
             55,
             35,
             50,
             40,
             40,
             40,
             45,
             65,
             45,
             55,
             55,
             40,
             65,
             45,
             45,
             55
            ],
            "sizemode": "area",
            "sizeref": 0.3125
           },
           "name": "",
           "showlegend": false,
           "type": "scattergeo"
          }
         ],
         "name": "36"
        },
        {
         "data": [
          {
           "geo": "geo",
           "hoverlabel": {
            "namelength": 0
           },
           "hovertemplate": "<b>%{hovertext}</b><br><br>Hours=42<br>Maximum.Wind=%{marker.size}<br>Latitude=%{lat}<br>Longitude=%{lon}<br>Status=%{marker.color}",
           "hovertext": [
            "            ALBERTO",
            "            ALLISON",
            "               ALEX",
            "               ALEX",
            "             ARTHUR",
            "                BOB",
            "             BONNIE",
            "             ARLENE",
            "             BERTHA",
            "             BONNIE",
            "             BERTHA",
            "             ALICIA",
            "          CLAUDETTE",
            "             BERTHA",
            "                BOB",
            "              CESAR",
            "               BILL",
            "               BRET",
            "            ALBERTO",
            "            CHARLEY"
           ],
           "lat": [
            24.9,
            26.2,
            31.3,
            20,
            29.4,
            26.5,
            27.2,
            32,
            14.2,
            19.1,
            15.8,
            27.7,
            34.4,
            30.2,
            29,
            12.3,
            41.6,
            20.4,
            14.1,
            16
           ],
           "legendgroup": "",
           "lon": [
            -84.1,
            -86.2,
            -79,
            -91.6,
            -79.1,
            -83.4,
            -91.7,
            -71,
            -51,
            -62.9,
            -32.6,
            -93.7,
            -64.9,
            -73.6,
            -77.1,
            -74.5,
            -55.4,
            -94.5,
            -29.8,
            -73.7
           ],
           "marker": {
            "color": [
             1,
             2,
             1,
             1,
             1,
             1,
             1,
             1,
             1,
             1,
             1,
             2,
             1,
             2,
             2,
             1,
             1,
             1,
             1,
             1
            ],
            "coloraxis": "coloraxis",
            "size": [
             55,
             65,
             50,
             50,
             60,
             35,
             55,
             45,
             45,
             45,
             45,
             70,
             50,
             65,
             65,
             45,
             60,
             50,
             45,
             55
            ],
            "sizemode": "area",
            "sizeref": 0.3125
           },
           "name": "",
           "showlegend": false,
           "type": "scattergeo"
          }
         ],
         "name": "42"
        },
        {
         "data": [
          {
           "geo": "geo",
           "hoverlabel": {
            "namelength": 0
           },
           "hovertemplate": "<b>%{hovertext}</b><br><br>Hours=48<br>Maximum.Wind=%{marker.size}<br>Latitude=%{lat}<br>Longitude=%{lon}<br>Status=%{marker.color}",
           "hovertext": [
            "            ALBERTO",
            "            ALLISON",
            "               ALEX",
            "               ALEX",
            "             ARTHUR",
            "                BOB",
            "             BONNIE",
            "             ARLENE",
            "             BERTHA",
            "             BONNIE",
            "             BERTHA",
            "             ALICIA",
            "          CLAUDETTE",
            "             BERTHA",
            "                BOB",
            "              CESAR",
            "               BRET",
            "            ALBERTO",
            "            CHARLEY"
           ],
           "lat": [
            25.5,
            27.6,
            31.8,
            20.3,
            30.1,
            26.6,
            27.7,
            32.4,
            14.9,
            19.5,
            16.3,
            27.9,
            34.5,
            30.8,
            29.7,
            11.9,
            21.2,
            14.5,
            16.3
           ],
           "legendgroup": "",
           "lon": [
            -83.3,
            -86.1,
            -78.7,
            -91.7,
            -79.2,
            -82.9,
            -92.2,
            -69.7,
            -52.9,
            -64.5,
            -34.4,
            -94.2,
            -63.2,
            -73,
            -77,
            -76.1,
            -94.4,
            -31.4,
            -75.4
           ],
           "marker": {
            "color": [
             0,
             2,
             1,
             1,
             2,
             1,
             2,
             1,
             1,
             1,
             1,
             2,
             1,
             2,
             2,
             1,
             1,
             1,
             1
            ],
            "coloraxis": "coloraxis",
            "size": [
             25,
             65,
             50,
             50,
             65,
             40,
             65,
             45,
             50,
             50,
             45,
             75,
             50,
             65,
             70,
             50,
             55,
             55,
             60
            ],
            "sizemode": "area",
            "sizeref": 0.3125
           },
           "name": "",
           "showlegend": false,
           "type": "scattergeo"
          }
         ],
         "name": "48"
        },
        {
         "data": [
          {
           "geo": "geo",
           "hoverlabel": {
            "namelength": 0
           },
           "hovertemplate": "<b>%{hovertext}</b><br><br>Hours=54<br>Maximum.Wind=%{marker.size}<br>Latitude=%{lat}<br>Longitude=%{lon}<br>Status=%{marker.color}",
           "hovertext": [
            "            ALBERTO",
            "            ALLISON",
            "               ALEX",
            "               ALEX",
            "             ARTHUR",
            "                BOB",
            "             BONNIE",
            "             ARLENE",
            "             BERTHA",
            "             BONNIE",
            "             BERTHA",
            "             ALICIA",
            "          CLAUDETTE",
            "             BERTHA",
            "                BOB",
            "              CESAR",
            "               BRET",
            "            ALBERTO",
            "            CHARLEY"
           ],
           "lat": [
            25.5,
            28.5,
            32.4,
            20.7,
            30.9,
            26.4,
            28.2,
            32.6,
            15.6,
            20.3,
            16.4,
            28.1,
            35.1,
            31.3,
            30.5,
            11.7,
            21.9,
            14.5,
            16.7
           ],
           "legendgroup": "",
           "lon": [
            -83,
            -85.6,
            -78.2,
            -91.7,
            -79.1,
            -82.3,
            -92.9,
            -68.3,
            -54.8,
            -65.9,
            -36.4,
            -94.5,
            -61.5,
            -72.2,
            -76.9,
            -77.2,
            -94.5,
            -33.2,
            -76.8
           ],
           "marker": {
            "color": [
             0,
             1,
             1,
             1,
             2,
             1,
             2,
             1,
             1,
             1,
             1,
             2,
             1,
             2,
             2,
             1,
             2,
             2,
             2
            ],
            "coloraxis": "coloraxis",
            "size": [
             25,
             60,
             60,
             55,
             70,
             40,
             70,
             55,
             55,
             55,
             45,
             90,
             55,
             65,
             75,
             50,
             65,
             65,
             65
            ],
            "sizemode": "area",
            "sizeref": 0.3125
           },
           "name": "",
           "showlegend": false,
           "type": "scattergeo"
          }
         ],
         "name": "54"
        },
        {
         "data": [
          {
           "geo": "geo",
           "hoverlabel": {
            "namelength": 0
           },
           "hovertemplate": "<b>%{hovertext}</b><br><br>Hours=60<br>Maximum.Wind=%{marker.size}<br>Latitude=%{lat}<br>Longitude=%{lon}<br>Status=%{marker.color}",
           "hovertext": [
            "            ALBERTO",
            "               ALEX",
            "               ALEX",
            "             ARTHUR",
            "                BOB",
            "             BONNIE",
            "             ARLENE",
            "             BERTHA",
            "             BONNIE",
            "             BERTHA",
            "             ALICIA",
            "          CLAUDETTE",
            "             BERTHA",
            "                BOB",
            "              CESAR",
            "               BRET",
            "            ALBERTO",
            "            CHARLEY"
           ],
           "lat": [
            25.5,
            33,
            21.5,
            31.8,
            26.4,
            29,
            32.9,
            16.4,
            21.1,
            16.6,
            28.4,
            35.5,
            31.9,
            31.5,
            11.6,
            22.5,
            14.6,
            17.4
           ],
           "legendgroup": "",
           "lon": [
            -82.6,
            -77.4,
            -91.9,
            -78.8,
            -81.1,
            -93.7,
            -67,
            -56.9,
            -67.3,
            -38.4,
            -94.8,
            -59.5,
            -71.2,
            -76.6,
            -78.1,
            -94.7,
            -34.4,
            -78.1
           ],
           "marker": {
            "color": [
             0,
             2,
             1,
             2,
             1,
             2,
             1,
             1,
             2,
             1,
             2,
             1,
             1,
             2,
             1,
             2,
             2,
             2
            ],
            "coloraxis": "coloraxis",
            "size": [
             20,
             70,
             55,
             80,
             40,
             75,
             55,
             60,
             65,
             45,
             95,
             55,
             60,
             80,
             60,
             75,
             65,
             65
            ],
            "sizemode": "area",
            "sizeref": 0.3125
           },
           "name": "",
           "showlegend": false,
           "type": "scattergeo"
          }
         ],
         "name": "60"
        },
        {
         "data": [
          {
           "geo": "geo",
           "hoverlabel": {
            "namelength": 0
           },
           "hovertemplate": "<b>%{hovertext}</b><br><br>Hours=66<br>Maximum.Wind=%{marker.size}<br>Latitude=%{lat}<br>Longitude=%{lon}<br>Status=%{marker.color}",
           "hovertext": [
            "               ALEX",
            "               ALEX",
            "             ARTHUR",
            "                BOB",
            "             BONNIE",
            "             ARLENE",
            "             BERTHA",
            "             BONNIE",
            "             BERTHA",
            "             ALICIA",
            "          CLAUDETTE",
            "             BERTHA",
            "                BOB",
            "              CESAR",
            "               BRET",
            "            ALBERTO",
            "            CHARLEY"
           ],
           "lat": [
            34.2,
            22.4,
            32.9,
            27.2,
            29.9,
            33,
            16.5,
            21.8,
            16.8,
            28.9,
            35.3,
            34.7,
            33,
            11.6,
            23.1,
            14.7,
            18.2
           ],
           "legendgroup": "",
           "lon": [
            -76.4,
            -92.7,
            -78.3,
            -80.3,
            -94.3,
            -65.5,
            -58.4,
            -68.7,
            -40.3,
            -95,
            -57.5,
            -68.3,
            -76.1,
            -79.5,
            -94.9,
            -35.4,
            -79.3
           ],
           "marker": {
            "color": [
             2,
             1,
             2,
             1,
             2,
             1,
             2,
             2,
             1,
             2,
             1,
             2,
             2,
             2,
             2,
             2,
             2
            ],
            "coloraxis": "coloraxis",
            "size": [
             85,
             60,
             80,
             40,
             65,
             55,
             70,
             70,
             45,
             100,
             60,
             65,
             85,
             70,
             80,
             70,
             75
            ],
            "sizemode": "area",
            "sizeref": 0.3125
           },
           "name": "",
           "showlegend": false,
           "type": "scattergeo"
          }
         ],
         "name": "66"
        },
        {
         "data": [
          {
           "geo": "geo",
           "hoverlabel": {
            "namelength": 0
           },
           "hovertemplate": "<b>%{hovertext}</b><br><br>Hours=72<br>Maximum.Wind=%{marker.size}<br>Latitude=%{lat}<br>Longitude=%{lon}<br>Status=%{marker.color}",
           "hovertext": [
            "               ALEX",
            "               ALEX",
            "             ARTHUR",
            "                BOB",
            "             ARLENE",
            "             BERTHA",
            "             BONNIE",
            "             BERTHA",
            "             ALICIA",
            "          CLAUDETTE",
            "             BERTHA",
            "                BOB",
            "              CESAR",
            "               BRET",
            "            ALBERTO",
            "            CHARLEY"
           ],
           "lat": [
            35.3,
            22.9,
            34,
            28.3,
            33,
            17,
            22.3,
            17,
            29.7,
            35.1,
            35.7,
            34.6,
            11.8,
            23.8,
            15.2,
            19.2
           ],
           "legendgroup": "",
           "lon": [
            -75.2,
            -93.6,
            -77.3,
            -80.4,
            -64.5,
            -60.1,
            -69.8,
            -42.3,
            -95.5,
            -55,
            -67.5,
            -75.3,
            -81,
            -95,
            -36.6,
            -80.7
           ],
           "marker": {
            "color": [
             2,
             1,
             2,
             1,
             1,
             2,
             2,
             1,
             2,
             1,
             2,
             2,
             2,
             2,
             2,
             2
            ],
            "coloraxis": "coloraxis",
            "size": [
             85,
             60,
             85,
             50,
             55,
             75,
             75,
             45,
             80,
             60,
             65,
             95,
             65,
             90,
             75,
             80
            ],
            "sizemode": "area",
            "sizeref": 0.3125
           },
           "name": "",
           "showlegend": false,
           "type": "scattergeo"
          }
         ],
         "name": "72"
        },
        {
         "data": [
          {
           "geo": "geo",
           "hoverlabel": {
            "namelength": 0
           },
           "hovertemplate": "<b>%{hovertext}</b><br><br>Hours=78<br>Maximum.Wind=%{marker.size}<br>Latitude=%{lat}<br>Longitude=%{lon}<br>Status=%{marker.color}",
           "hovertext": [
            "               ALEX",
            "               ALEX",
            "             ARTHUR",
            "                BOB",
            "             ARLENE",
            "             BERTHA",
            "             BONNIE",
            "             BERTHA",
            "          CLAUDETTE",
            "             BERTHA",
            "                BOB",
            "              CESAR",
            "               BRET",
            "            ALBERTO",
            "            CHARLEY"
           ],
           "lat": [
            36,
            23,
            35.3,
            29.4,
            33,
            17.5,
            23,
            17.6,
            35.2,
            36.6,
            36.5,
            12,
            24.7,
            15.7,
            20.5
           ],
           "legendgroup": "",
           "lon": [
            -73.7,
            -94.4,
            -76,
            -80.4,
            -63.6,
            -61.8,
            -70.5,
            -44.3,
            -52.5,
            -67,
            -74.5,
            -82.6,
            -95.1,
            -38.1,
            -81.6
           ],
           "marker": {
            "color": [
             2,
             2,
             2,
             1,
             1,
             2,
             2,
             1,
             2,
             2,
             2,
             2,
             2,
             2,
             2
            ],
            "coloraxis": "coloraxis",
            "size": [
             80,
             65,
             85,
             60,
             50,
             75,
             85,
             45,
             65,
             70,
             100,
             70,
             120,
             75,
             90
            ],
            "sizemode": "area",
            "sizeref": 0.3125
           },
           "name": "",
           "showlegend": false,
           "type": "scattergeo"
          }
         ],
         "name": "78"
        },
        {
         "data": [
          {
           "geo": "geo",
           "hoverlabel": {
            "namelength": 0
           },
           "hovertemplate": "<b>%{hovertext}</b><br><br>Hours=84<br>Maximum.Wind=%{marker.size}<br>Latitude=%{lat}<br>Longitude=%{lon}<br>Status=%{marker.color}",
           "hovertext": [
            "               ALEX",
            "               ALEX",
            "             ARTHUR",
            "                BOB",
            "             ARLENE",
            "             BERTHA",
            "             BONNIE",
            "             BERTHA",
            "          CLAUDETTE",
            "             BERTHA",
            "                BOB",
            "              CESAR",
            "               BRET",
            "            ALBERTO",
            "            CHARLEY"
           ],
           "lat": [
            37.8,
            23.1,
            36.8,
            30.5,
            32.6,
            18,
            23.4,
            18.4,
            35.3,
            37.5,
            38.9,
            12.3,
            25.5,
            16,
            21.7
           ],
           "legendgroup": "",
           "lon": [
            -68.3,
            -94.8,
            -74.4,
            -80.5,
            -61.8,
            -63.5,
            -71,
            -46.2,
            -50.1,
            -66.5,
            -73,
            -84.2,
            -95.5,
            -39.6,
            -82.2
           ],
           "marker": {
            "color": [
             2,
             2,
             2,
             2,
             1,
             2,
             2,
             1,
             2,
             2,
             2,
             2,
             2,
             2,
             2
            ],
            "coloraxis": "coloraxis",
            "size": [
             95,
             70,
             80,
             65,
             55,
             70,
             90,
             45,
             65,
             65,
             95,
             70,
             125,
             80,
             90
            ],
            "sizemode": "area",
            "sizeref": 0.3125
           },
           "name": "",
           "showlegend": false,
           "type": "scattergeo"
          }
         ],
         "name": "84"
        },
        {
         "data": [
          {
           "geo": "geo",
           "hoverlabel": {
            "namelength": 0
           },
           "hovertemplate": "<b>%{hovertext}</b><br><br>Hours=90<br>Maximum.Wind=%{marker.size}<br>Latitude=%{lat}<br>Longitude=%{lon}<br>Status=%{marker.color}",
           "hovertext": [
            "               ALEX",
            "               ALEX",
            "                BOB",
            "             ARLENE",
            "             BERTHA",
            "             BONNIE",
            "             BERTHA",
            "          CLAUDETTE",
            "             BERTHA",
            "                BOB",
            "              CESAR",
            "               BRET",
            "            ALBERTO",
            "            CHARLEY"
           ],
           "lat": [
            38.5,
            23.5,
            31.6,
            32.4,
            19.4,
            23.8,
            18.8,
            35.5,
            38.3,
            43.8,
            12.7,
            26.2,
            16.2,
            23
           ],
           "legendgroup": "",
           "lon": [
            -66,
            -95.2,
            -80.5,
            -61.3,
            -66.1,
            -71.3,
            -47.9,
            -47.8,
            -65.9,
            -69.6,
            -86.2,
            -96.1,
            -41,
            -82.6
           ],
           "marker": {
            "color": [
             2,
             2,
             2,
             1,
             2,
             2,
             1,
             2,
             2,
             1,
             1,
             2,
             2,
             2
            ],
            "coloraxis": "coloraxis",
            "size": [
             105,
             75,
             65,
             55,
             80,
             95,
             55,
             65,
             65,
             60,
             50,
             125,
             80,
             105
            ],
            "sizemode": "area",
            "sizeref": 0.3125
           },
           "name": "",
           "showlegend": false,
           "type": "scattergeo"
          }
         ],
         "name": "90"
        },
        {
         "data": [
          {
           "geo": "geo",
           "hoverlabel": {
            "namelength": 0
           },
           "hovertemplate": "<b>%{hovertext}</b><br><br>Hours=96<br>Maximum.Wind=%{marker.size}<br>Latitude=%{lat}<br>Longitude=%{lon}<br>Status=%{marker.color}",
           "hovertext": [
            "               ALEX",
            "               ALEX",
            "                BOB",
            "             ARLENE",
            "             BERTHA",
            "             BONNIE",
            "             BERTHA",
            "          CLAUDETTE",
            "             BERTHA",
            "               BRET",
            "            ALBERTO",
            "            CHARLEY"
           ],
           "lat": [
            39.5,
            24.3,
            32.9,
            32.2,
            20.3,
            24.1,
            19.1,
            35.6,
            39.6,
            26.6,
            16.5,
            24.4
           ],
           "legendgroup": "",
           "lon": [
            -63.1,
            -96.2,
            -80.7,
            -60.8,
            -67.7,
            -71.5,
            -49.4,
            -45.2,
            -64.5,
            -96.8,
            -42.2,
            -82.9
           ],
           "marker": {
            "color": [
             2,
             2,
             1,
             1,
             2,
             2,
             2,
             2,
             2,
             2,
             2,
             2
            ],
            "coloraxis": "coloraxis",
            "size": [
             105,
             80,
             55,
             55,
             100,
             100,
             65,
             70,
             65,
             120,
             80,
             95
            ],
            "sizemode": "area",
            "sizeref": 0.3125
           },
           "name": "",
           "showlegend": false,
           "type": "scattergeo"
          }
         ],
         "name": "96"
        },
        {
         "data": [
          {
           "geo": "geo",
           "hoverlabel": {
            "namelength": 0
           },
           "hovertemplate": "<b>%{hovertext}</b><br><br>Hours=102<br>Maximum.Wind=%{marker.size}<br>Latitude=%{lat}<br>Longitude=%{lon}<br>Status=%{marker.color}",
           "hovertext": [
            "               ALEX",
            "               ALEX",
            "             ARLENE",
            "             BERTHA",
            "             BONNIE",
            "             BERTHA",
            "          CLAUDETTE",
            "             BERTHA",
            "            ALBERTO",
            "            CHARLEY"
           ],
           "lat": [
            40.8,
            24.3,
            31.7,
            21.4,
            24.4,
            19.4,
            35.7,
            40.3,
            16.7,
            26.1
           ],
           "legendgroup": "",
           "lon": [
            -59.6,
            -97.3,
            -60.3,
            -69.4,
            -71.7,
            -50.7,
            -42.6,
            -63.7,
            -43.6,
            -82.4
           ],
           "marker": {
            "color": [
             2,
             2,
             1,
             2,
             2,
             2,
             2,
             2,
             2,
             2
            ],
            "coloraxis": "coloraxis",
            "size": [
             100,
             90,
             50,
             100,
             100,
             80,
             70,
             65,
             75,
             125
            ],
            "sizemode": "area",
            "sizeref": 0.3125
           },
           "name": "",
           "showlegend": false,
           "type": "scattergeo"
          }
         ],
         "name": "102"
        },
        {
         "data": [
          {
           "geo": "geo",
           "hoverlabel": {
            "namelength": 0
           },
           "hovertemplate": "<b>%{hovertext}</b><br><br>Hours=108<br>Maximum.Wind=%{marker.size}<br>Latitude=%{lat}<br>Longitude=%{lon}<br>Status=%{marker.color}",
           "hovertext": [
            "               ALEX",
            "             ARLENE",
            "             BERTHA",
            "             BONNIE",
            "             BERTHA",
            "          CLAUDETTE",
            "             BERTHA",
            "            ALBERTO",
            "            CHARLEY"
           ],
           "lat": [
            24.1,
            30.2,
            22.5,
            24.8,
            19.9,
            35.8,
            41.1,
            24.8,
            28.1
           ],
           "legendgroup": "",
           "lon": [
            -98.4,
            -59,
            -71.1,
            -71.8,
            -51.6,
            -40,
            -62.7,
            -52.6,
            -81.6
           ],
           "marker": {
            "color": [
             2,
             1,
             2,
             2,
             2,
             2,
             2,
             2,
             2
            ],
            "coloraxis": "coloraxis",
            "size": [
             75,
             45,
             90,
             100,
             100,
             75,
             65,
             65,
             75
            ],
            "sizemode": "area",
            "sizeref": 0.3125
           },
           "name": "",
           "showlegend": false,
           "type": "scattergeo"
          }
         ],
         "name": "108"
        },
        {
         "data": [
          {
           "geo": "geo",
           "hoverlabel": {
            "namelength": 0
           },
           "hovertemplate": "<b>%{hovertext}</b><br><br>Hours=114<br>Maximum.Wind=%{marker.size}<br>Latitude=%{lat}<br>Longitude=%{lon}<br>Status=%{marker.color}",
           "hovertext": [
            "             ARLENE",
            "             BERTHA",
            "             BONNIE",
            "             BERTHA",
            "          CLAUDETTE",
            "             BERTHA",
            "            ALBERTO"
           ],
           "lat": [
            29.9,
            27.5,
            25.2,
            20.6,
            36.4,
            42.4,
            26.1
           ],
           "legendgroup": "",
           "lon": [
            -58.7,
            -76.4,
            -72.1,
            -52.2,
            -37,
            -61.5,
            -54
           ],
           "marker": {
            "color": [
             1,
             2,
             2,
             2,
             2,
             2,
             2
            ],
            "coloraxis": "coloraxis",
            "size": [
             45,
             75,
             100,
             105,
             75,
             65,
             65
            ],
            "sizemode": "area",
            "sizeref": 0.3125
           },
           "name": "",
           "showlegend": false,
           "type": "scattergeo"
          }
         ],
         "name": "114"
        },
        {
         "data": [
          {
           "geo": "geo",
           "hoverlabel": {
            "namelength": 0
           },
           "hovertemplate": "<b>%{hovertext}</b><br><br>Hours=120<br>Maximum.Wind=%{marker.size}<br>Latitude=%{lat}<br>Longitude=%{lon}<br>Status=%{marker.color}",
           "hovertext": [
            "             ARLENE",
            "             BERTHA",
            "             BONNIE",
            "             BERTHA",
            "          CLAUDETTE",
            "             BERTHA",
            "            ALBERTO"
           ],
           "lat": [
            29.8,
            30,
            25.6,
            21.1,
            37.5,
            44.2,
            27.5
           ],
           "legendgroup": "",
           "lon": [
            -58.2,
            -78,
            -72.4,
            -52.9,
            -34.5,
            -60.5,
            -55.3
           ],
           "marker": {
            "color": [
             1,
             2,
             2,
             2,
             1,
             2,
             2
            ],
            "coloraxis": "coloraxis",
            "size": [
             45,
             70,
             100,
             105,
             60,
             70,
             65
            ],
            "sizemode": "area",
            "sizeref": 0.3125
           },
           "name": "",
           "showlegend": false,
           "type": "scattergeo"
          }
         ],
         "name": "120"
        },
        {
         "data": [
          {
           "geo": "geo",
           "hoverlabel": {
            "namelength": 0
           },
           "hovertemplate": "<b>%{hovertext}</b><br><br>Hours=126<br>Maximum.Wind=%{marker.size}<br>Latitude=%{lat}<br>Longitude=%{lon}<br>Status=%{marker.color}",
           "hovertext": [
            "             ARLENE",
            "             BERTHA",
            "             BONNIE",
            "             BERTHA",
            "            ALBERTO"
           ],
           "lat": [
            29.8,
            32.2,
            26.1,
            21.8,
            28.8
           ],
           "legendgroup": "",
           "lon": [
            -57.8,
            -78.4,
            -72.8,
            -53.5,
            -56.7
           ],
           "marker": {
            "color": [
             1,
             2,
             2,
             2,
             2
            ],
            "coloraxis": "coloraxis",
            "size": [
             45,
             85,
             100,
             90,
             65
            ],
            "sizemode": "area",
            "sizeref": 0.3125
           },
           "name": "",
           "showlegend": false,
           "type": "scattergeo"
          }
         ],
         "name": "126"
        },
        {
         "data": [
          {
           "geo": "geo",
           "hoverlabel": {
            "namelength": 0
           },
           "hovertemplate": "<b>%{hovertext}</b><br><br>Hours=132<br>Maximum.Wind=%{marker.size}<br>Latitude=%{lat}<br>Longitude=%{lon}<br>Status=%{marker.color}",
           "hovertext": [
            "             ARLENE",
            "             BERTHA",
            "             BONNIE",
            "             BERTHA",
            "            ALBERTO"
           ],
           "lat": [
            29.9,
            33.6,
            26.9,
            25.2,
            29.9
           ],
           "legendgroup": "",
           "lon": [
            -57.3,
            -78.1,
            -73.2,
            -58.6,
            -57.7
           ],
           "marker": {
            "color": [
             1,
             2,
             2,
             2,
             2
            ],
            "coloraxis": "coloraxis",
            "size": [
             40,
             90,
             100,
             90,
             70
            ],
            "sizemode": "area",
            "sizeref": 0.3125
           },
           "name": "",
           "showlegend": false,
           "type": "scattergeo"
          }
         ],
         "name": "132"
        },
        {
         "data": [
          {
           "geo": "geo",
           "hoverlabel": {
            "namelength": 0
           },
           "hovertemplate": "<b>%{hovertext}</b><br><br>Hours=138<br>Maximum.Wind=%{marker.size}<br>Latitude=%{lat}<br>Longitude=%{lon}<br>Status=%{marker.color}",
           "hovertext": [
            "             ARLENE",
            "             BERTHA",
            "             BONNIE",
            "             BERTHA",
            "            ALBERTO"
           ],
           "lat": [
            33.3,
            35,
            27.8,
            25.7,
            31.1
           ],
           "legendgroup": "",
           "lon": [
            -53.5,
            -77.6,
            -73.8,
            -59.1,
            -58.4
           ],
           "marker": {
            "color": [
             1,
             2,
             2,
             2,
             2
            ],
            "coloraxis": "coloraxis",
            "size": [
             35,
             65,
             100,
             90,
             75
            ],
            "sizemode": "area",
            "sizeref": 0.3125
           },
           "name": "",
           "showlegend": false,
           "type": "scattergeo"
          }
         ],
         "name": "138"
        },
        {
         "data": [
          {
           "geo": "geo",
           "hoverlabel": {
            "namelength": 0
           },
           "hovertemplate": "<b>%{hovertext}</b><br><br>Hours=144<br>Maximum.Wind=%{marker.size}<br>Latitude=%{lat}<br>Longitude=%{lon}<br>Status=%{marker.color}",
           "hovertext": [
            "             ARLENE",
            "             BERTHA",
            "             BONNIE",
            "             BERTHA",
            "            ALBERTO"
           ],
           "lat": [
            34,
            42.1,
            28.8,
            26.3,
            32.2
           ],
           "legendgroup": "",
           "lon": [
            -52.2,
            -71.9,
            -74.7,
            -59.8,
            -58.6
           ],
           "marker": {
            "color": [
             1,
             1,
             2,
             2,
             2
            ],
            "coloraxis": "coloraxis",
            "size": [
             35,
             60,
             100,
             80,
             80
            ],
            "sizemode": "area",
            "sizeref": 0.3125
           },
           "name": "",
           "showlegend": false,
           "type": "scattergeo"
          }
         ],
         "name": "144"
        },
        {
         "data": [
          {
           "geo": "geo",
           "hoverlabel": {
            "namelength": 0
           },
           "hovertemplate": "<b>%{hovertext}</b><br><br>Hours=150<br>Maximum.Wind=%{marker.size}<br>Latitude=%{lat}<br>Longitude=%{lon}<br>Status=%{marker.color}",
           "hovertext": [
            "             ARLENE",
            "             BERTHA",
            "             BONNIE",
            "             BERTHA",
            "            ALBERTO"
           ],
           "lat": [
            34.8,
            44.1,
            29.8,
            28.3,
            33.3
           ],
           "legendgroup": "",
           "lon": [
            -50.8,
            -69,
            -75.6,
            -61.8,
            -58.5
           ],
           "marker": {
            "color": [
             1,
             1,
             2,
             2,
             2
            ],
            "coloraxis": "coloraxis",
            "size": [
             35,
             55,
             100,
             75,
             85
            ],
            "sizemode": "area",
            "sizeref": 0.3125
           },
           "name": "",
           "showlegend": false,
           "type": "scattergeo"
          }
         ],
         "name": "150"
        },
        {
         "data": [
          {
           "geo": "geo",
           "hoverlabel": {
            "namelength": 0
           },
           "hovertemplate": "<b>%{hovertext}</b><br><br>Hours=156<br>Maximum.Wind=%{marker.size}<br>Latitude=%{lat}<br>Longitude=%{lon}<br>Status=%{marker.color}",
           "hovertext": [
            "             ARLENE",
            "             BONNIE",
            "             BERTHA",
            "            ALBERTO"
           ],
           "lat": [
            35.4,
            30.8,
            28.8,
            34.3
           ],
           "legendgroup": "",
           "lon": [
            -49.5,
            -76.4,
            -62.1,
            -58
           ],
           "marker": {
            "color": [
             1,
             2,
             2,
             2
            ],
            "coloraxis": "coloraxis",
            "size": [
             35,
             100,
             80,
             90
            ],
            "sizemode": "area",
            "sizeref": 0.3125
           },
           "name": "",
           "showlegend": false,
           "type": "scattergeo"
          }
         ],
         "name": "156"
        },
        {
         "data": [
          {
           "geo": "geo",
           "hoverlabel": {
            "namelength": 0
           },
           "hovertemplate": "<b>%{hovertext}</b><br><br>Hours=162<br>Maximum.Wind=%{marker.size}<br>Latitude=%{lat}<br>Longitude=%{lon}<br>Status=%{marker.color}",
           "hovertext": [
            "             ARLENE",
            "             BONNIE",
            "             BERTHA",
            "            ALBERTO"
           ],
           "lat": [
            35.5,
            31.7,
            29.3,
            35.1
           ],
           "legendgroup": "",
           "lon": [
            -47.5,
            -77.3,
            -62.3,
            -56.7
           ],
           "marker": {
            "color": [
             1,
             2,
             2,
             2
            ],
            "coloraxis": "coloraxis",
            "size": [
             35,
             100,
             80,
             100
            ],
            "sizemode": "area",
            "sizeref": 0.3125
           },
           "name": "",
           "showlegend": false,
           "type": "scattergeo"
          }
         ],
         "name": "162"
        },
        {
         "data": [
          {
           "geo": "geo",
           "hoverlabel": {
            "namelength": 0
           },
           "hovertemplate": "<b>%{hovertext}</b><br><br>Hours=168<br>Maximum.Wind=%{marker.size}<br>Latitude=%{lat}<br>Longitude=%{lon}<br>Status=%{marker.color}",
           "hovertext": [
            "             ARLENE",
            "             BONNIE",
            "             BERTHA",
            "            ALBERTO"
           ],
           "lat": [
            35,
            32.7,
            29.5,
            35.9
           ],
           "legendgroup": "",
           "lon": [
            -46,
            -77.8,
            -62.5,
            -55.3
           ],
           "marker": {
            "color": [
             1,
             2,
             2,
             2
            ],
            "coloraxis": "coloraxis",
            "size": [
             35,
             100,
             80,
             110
            ],
            "sizemode": "area",
            "sizeref": 0.3125
           },
           "name": "",
           "showlegend": false,
           "type": "scattergeo"
          }
         ],
         "name": "168"
        },
        {
         "data": [
          {
           "geo": "geo",
           "hoverlabel": {
            "namelength": 0
           },
           "hovertemplate": "<b>%{hovertext}</b><br><br>Hours=174<br>Maximum.Wind=%{marker.size}<br>Latitude=%{lat}<br>Longitude=%{lon}<br>Status=%{marker.color}",
           "hovertext": [
            "             ARLENE",
            "             BONNIE",
            "             BERTHA",
            "            ALBERTO"
           ],
           "lat": [
            34.5,
            33.4,
            29.7,
            36.8
           ],
           "legendgroup": "",
           "lon": [
            -44.5,
            -77.8,
            -62.5,
            -53.8
           ],
           "marker": {
            "color": [
             1,
             2,
             2,
             2
            ],
            "coloraxis": "coloraxis",
            "size": [
             40,
             100,
             75,
             110
            ],
            "sizemode": "area",
            "sizeref": 0.3125
           },
           "name": "",
           "showlegend": false,
           "type": "scattergeo"
          }
         ],
         "name": "174"
        },
        {
         "data": [
          {
           "geo": "geo",
           "hoverlabel": {
            "namelength": 0
           },
           "hovertemplate": "<b>%{hovertext}</b><br><br>Hours=180<br>Maximum.Wind=%{marker.size}<br>Latitude=%{lat}<br>Longitude=%{lon}<br>Status=%{marker.color}",
           "hovertext": [
            "             ARLENE",
            "             BONNIE",
            "             BERTHA",
            "            ALBERTO"
           ],
           "lat": [
            34,
            34,
            29.9,
            37.4
           ],
           "legendgroup": "",
           "lon": [
            -43.5,
            -77.7,
            -62.7,
            -52
           ],
           "marker": {
            "color": [
             1,
             2,
             1,
             2
            ],
            "coloraxis": "coloraxis",
            "size": [
             40,
             95,
             60,
             105
            ],
            "sizemode": "area",
            "sizeref": 0.3125
           },
           "name": "",
           "showlegend": false,
           "type": "scattergeo"
          }
         ],
         "name": "180"
        },
        {
         "data": [
          {
           "geo": "geo",
           "hoverlabel": {
            "namelength": 0
           },
           "hovertemplate": "<b>%{hovertext}</b><br><br>Hours=186<br>Maximum.Wind=%{marker.size}<br>Latitude=%{lat}<br>Longitude=%{lon}<br>Status=%{marker.color}",
           "hovertext": [
            "             ARLENE",
            "             BONNIE",
            "             BERTHA",
            "            ALBERTO"
           ],
           "lat": [
            33.8,
            36.7,
            31.6,
            36.6
           ],
           "legendgroup": "",
           "lon": [
            -43,
            -74.3,
            -63.8,
            -38.9
           ],
           "marker": {
            "color": [
             1,
             2,
             1,
             1
            ],
            "coloraxis": "coloraxis",
            "size": [
             50,
             65,
             55,
             40
            ],
            "sizemode": "area",
            "sizeref": 0.3125
           },
           "name": "",
           "showlegend": false,
           "type": "scattergeo"
          }
         ],
         "name": "186"
        },
        {
         "data": [
          {
           "geo": "geo",
           "hoverlabel": {
            "namelength": 0
           },
           "hovertemplate": "<b>%{hovertext}</b><br><br>Hours=192<br>Maximum.Wind=%{marker.size}<br>Latitude=%{lat}<br>Longitude=%{lon}<br>Status=%{marker.color}",
           "hovertext": [
            "             ARLENE",
            "             BONNIE",
            "             BERTHA",
            "            ALBERTO"
           ],
           "lat": [
            33.7,
            37.3,
            32.5,
            34.6
           ],
           "legendgroup": "",
           "lon": [
            -42.7,
            -73.2,
            -64.1,
            -41.3
           ],
           "marker": {
            "color": [
             1,
             1,
             1,
             1
            ],
            "coloraxis": "coloraxis",
            "size": [
             55,
             60,
             60,
             40
            ],
            "sizemode": "area",
            "sizeref": 0.3125
           },
           "name": "",
           "showlegend": false,
           "type": "scattergeo"
          }
         ],
         "name": "192"
        },
        {
         "data": [
          {
           "geo": "geo",
           "hoverlabel": {
            "namelength": 0
           },
           "hovertemplate": "<b>%{hovertext}</b><br><br>Hours=198<br>Maximum.Wind=%{marker.size}<br>Latitude=%{lat}<br>Longitude=%{lon}<br>Status=%{marker.color}",
           "hovertext": [
            "             ARLENE",
            "             BONNIE",
            "             BERTHA",
            "            ALBERTO"
           ],
           "lat": [
            33.6,
            41.6,
            33.5,
            33.9
           ],
           "legendgroup": "",
           "lon": [
            -42.3,
            -64.8,
            -63.8,
            -42.4
           ],
           "marker": {
            "color": [
             1,
             1,
             1,
             1
            ],
            "coloraxis": "coloraxis",
            "size": [
             55,
             45,
             60,
             40
            ],
            "sizemode": "area",
            "sizeref": 0.3125
           },
           "name": "",
           "showlegend": false,
           "type": "scattergeo"
          }
         ],
         "name": "198"
        },
        {
         "data": [
          {
           "geo": "geo",
           "hoverlabel": {
            "namelength": 0
           },
           "hovertemplate": "<b>%{hovertext}</b><br><br>Hours=204<br>Maximum.Wind=%{marker.size}<br>Latitude=%{lat}<br>Longitude=%{lon}<br>Status=%{marker.color}",
           "hovertext": [
            "             ARLENE",
            "             BONNIE",
            "             BERTHA",
            "            ALBERTO"
           ],
           "lat": [
            33.5,
            42.9,
            34.3,
            33.4
           ],
           "legendgroup": "",
           "lon": [
            -42,
            -61.5,
            -63.5,
            -43.5
           ],
           "marker": {
            "color": [
             1,
             1,
             1,
             1
            ],
            "coloraxis": "coloraxis",
            "size": [
             55,
             45,
             60,
             45
            ],
            "sizemode": "area",
            "sizeref": 0.3125
           },
           "name": "",
           "showlegend": false,
           "type": "scattergeo"
          }
         ],
         "name": "204"
        },
        {
         "data": [
          {
           "geo": "geo",
           "hoverlabel": {
            "namelength": 0
           },
           "hovertemplate": "<b>%{hovertext}</b><br><br>Hours=210<br>Maximum.Wind=%{marker.size}<br>Latitude=%{lat}<br>Longitude=%{lon}<br>Status=%{marker.color}",
           "hovertext": [
            "             ARLENE",
            "             BONNIE",
            "             BERTHA",
            "            ALBERTO"
           ],
           "lat": [
            34.5,
            44.3,
            35.3,
            33
           ],
           "legendgroup": "",
           "lon": [
            -42.5,
            -57,
            -63,
            -44.2
           ],
           "marker": {
            "color": [
             1,
             1,
             1,
             1
            ],
            "coloraxis": "coloraxis",
            "size": [
             60,
             45,
             60,
             45
            ],
            "sizemode": "area",
            "sizeref": 0.3125
           },
           "name": "",
           "showlegend": false,
           "type": "scattergeo"
          }
         ],
         "name": "210"
        },
        {
         "data": [
          {
           "geo": "geo",
           "hoverlabel": {
            "namelength": 0
           },
           "hovertemplate": "<b>%{hovertext}</b><br><br>Hours=216<br>Maximum.Wind=%{marker.size}<br>Latitude=%{lat}<br>Longitude=%{lon}<br>Status=%{marker.color}",
           "hovertext": [
            "             ARLENE",
            "             BONNIE",
            "             BERTHA",
            "            ALBERTO"
           ],
           "lat": [
            35.5,
            44.5,
            36.2,
            33
           ],
           "legendgroup": "",
           "lon": [
            -43,
            -53.5,
            -62.5,
            -44.9
           ],
           "marker": {
            "color": [
             1,
             1,
             1,
             1
            ],
            "coloraxis": "coloraxis",
            "size": [
             60,
             45,
             60,
             50
            ],
            "sizemode": "area",
            "sizeref": 0.3125
           },
           "name": "",
           "showlegend": false,
           "type": "scattergeo"
          }
         ],
         "name": "216"
        },
        {
         "data": [
          {
           "geo": "geo",
           "hoverlabel": {
            "namelength": 0
           },
           "hovertemplate": "<b>%{hovertext}</b><br><br>Hours=222<br>Maximum.Wind=%{marker.size}<br>Latitude=%{lat}<br>Longitude=%{lon}<br>Status=%{marker.color}",
           "hovertext": [
            "             ARLENE",
            "             BERTHA",
            "            ALBERTO"
           ],
           "lat": [
            36.5,
            36.7,
            33
           ],
           "legendgroup": "",
           "lon": [
            -43,
            -61.8,
            -45.8
           ],
           "marker": {
            "color": [
             2,
             1,
             1
            ],
            "coloraxis": "coloraxis",
            "size": [
             65,
             60,
             50
            ],
            "sizemode": "area",
            "sizeref": 0.3125
           },
           "name": "",
           "showlegend": false,
           "type": "scattergeo"
          }
         ],
         "name": "222"
        },
        {
         "data": [
          {
           "geo": "geo",
           "hoverlabel": {
            "namelength": 0
           },
           "hovertemplate": "<b>%{hovertext}</b><br><br>Hours=228<br>Maximum.Wind=%{marker.size}<br>Latitude=%{lat}<br>Longitude=%{lon}<br>Status=%{marker.color}",
           "hovertext": [
            "             ARLENE",
            "             BERTHA",
            "            ALBERTO"
           ],
           "lat": [
            38,
            36.8,
            33.2
           ],
           "legendgroup": "",
           "lon": [
            -43,
            -61.3,
            -46.5
           ],
           "marker": {
            "color": [
             2,
             1,
             1
            ],
            "coloraxis": "coloraxis",
            "size": [
             65,
             60,
             55
            ],
            "sizemode": "area",
            "sizeref": 0.3125
           },
           "name": "",
           "showlegend": false,
           "type": "scattergeo"
          }
         ],
         "name": "228"
        },
        {
         "data": [
          {
           "geo": "geo",
           "hoverlabel": {
            "namelength": 0
           },
           "hovertemplate": "<b>%{hovertext}</b><br><br>Hours=234<br>Maximum.Wind=%{marker.size}<br>Latitude=%{lat}<br>Longitude=%{lon}<br>Status=%{marker.color}",
           "hovertext": [
            "             ARLENE",
            "             BERTHA",
            "            ALBERTO"
           ],
           "lat": [
            39.5,
            36.8,
            33.6
           ],
           "legendgroup": "",
           "lon": [
            -42.5,
            -60.9,
            -47.1
           ],
           "marker": {
            "color": [
             2,
             1,
             1
            ],
            "coloraxis": "coloraxis",
            "size": [
             65,
             60,
             55
            ],
            "sizemode": "area",
            "sizeref": 0.3125
           },
           "name": "",
           "showlegend": false,
           "type": "scattergeo"
          }
         ],
         "name": "234"
        },
        {
         "data": [
          {
           "geo": "geo",
           "hoverlabel": {
            "namelength": 0
           },
           "hovertemplate": "<b>%{hovertext}</b><br><br>Hours=240<br>Maximum.Wind=%{marker.size}<br>Latitude=%{lat}<br>Longitude=%{lon}<br>Status=%{marker.color}",
           "hovertext": [
            "             ARLENE",
            "             BERTHA",
            "            ALBERTO"
           ],
           "lat": [
            41.5,
            36.3,
            34.2
           ],
           "legendgroup": "",
           "lon": [
            -41,
            -60.7,
            -47.6
           ],
           "marker": {
            "color": [
             2,
             1,
             1
            ],
            "coloraxis": "coloraxis",
            "size": [
             65,
             60,
             60
            ],
            "sizemode": "area",
            "sizeref": 0.3125
           },
           "name": "",
           "showlegend": false,
           "type": "scattergeo"
          }
         ],
         "name": "240"
        },
        {
         "data": [
          {
           "geo": "geo",
           "hoverlabel": {
            "namelength": 0
           },
           "hovertemplate": "<b>%{hovertext}</b><br><br>Hours=246<br>Maximum.Wind=%{marker.size}<br>Latitude=%{lat}<br>Longitude=%{lon}<br>Status=%{marker.color}",
           "hovertext": [
            "             ARLENE",
            "             BERTHA",
            "            ALBERTO"
           ],
           "lat": [
            44,
            35.7,
            34.7
           ],
           "legendgroup": "",
           "lon": [
            -39,
            -60.3,
            -48
           ],
           "marker": {
            "color": [
             2,
             1,
             2
            ],
            "coloraxis": "coloraxis",
            "size": [
             65,
             55,
             65
            ],
            "sizemode": "area",
            "sizeref": 0.3125
           },
           "name": "",
           "showlegend": false,
           "type": "scattergeo"
          }
         ],
         "name": "246"
        },
        {
         "data": [
          {
           "geo": "geo",
           "hoverlabel": {
            "namelength": 0
           },
           "hovertemplate": "<b>%{hovertext}</b><br><br>Hours=252<br>Maximum.Wind=%{marker.size}<br>Latitude=%{lat}<br>Longitude=%{lon}<br>Status=%{marker.color}",
           "hovertext": [
            "             ARLENE",
            "             BERTHA",
            "            ALBERTO"
           ],
           "lat": [
            46.5,
            33.7,
            34.9
           ],
           "legendgroup": "",
           "lon": [
            -36.5,
            -56,
            -48.1
           ],
           "marker": {
            "color": [
             2,
             1,
             2
            ],
            "coloraxis": "coloraxis",
            "size": [
             65,
             50,
             75
            ],
            "sizemode": "area",
            "sizeref": 0.3125
           },
           "name": "",
           "showlegend": false,
           "type": "scattergeo"
          }
         ],
         "name": "252"
        },
        {
         "data": [
          {
           "geo": "geo",
           "hoverlabel": {
            "namelength": 0
           },
           "hovertemplate": "<b>%{hovertext}</b><br><br>Hours=258<br>Maximum.Wind=%{marker.size}<br>Latitude=%{lat}<br>Longitude=%{lon}<br>Status=%{marker.color}",
           "hovertext": [
            "             ARLENE",
            "             BERTHA",
            "            ALBERTO"
           ],
           "lat": [
            48.5,
            34.4,
            35.3
           ],
           "legendgroup": "",
           "lon": [
            -33,
            -54.4,
            -48.2
           ],
           "marker": {
            "color": [
             2,
             1,
             2
            ],
            "coloraxis": "coloraxis",
            "size": [
             65,
             55,
             80
            ],
            "sizemode": "area",
            "sizeref": 0.3125
           },
           "name": "",
           "showlegend": false,
           "type": "scattergeo"
          }
         ],
         "name": "258"
        },
        {
         "data": [
          {
           "geo": "geo",
           "hoverlabel": {
            "namelength": 0
           },
           "hovertemplate": "<b>%{hovertext}</b><br><br>Hours=264<br>Maximum.Wind=%{marker.size}<br>Latitude=%{lat}<br>Longitude=%{lon}<br>Status=%{marker.color}",
           "hovertext": [
            "             BERTHA",
            "            ALBERTO"
           ],
           "lat": [
            35.5,
            35.6
           ],
           "legendgroup": "",
           "lon": [
            -53,
            -48.2
           ],
           "marker": {
            "color": [
             1,
             2
            ],
            "coloraxis": "coloraxis",
            "size": [
             55,
             85
            ],
            "sizemode": "area",
            "sizeref": 0.3125
           },
           "name": "",
           "showlegend": false,
           "type": "scattergeo"
          }
         ],
         "name": "264"
        },
        {
         "data": [
          {
           "geo": "geo",
           "hoverlabel": {
            "namelength": 0
           },
           "hovertemplate": "<b>%{hovertext}</b><br><br>Hours=270<br>Maximum.Wind=%{marker.size}<br>Latitude=%{lat}<br>Longitude=%{lon}<br>Status=%{marker.color}",
           "hovertext": [
            "             BERTHA",
            "            ALBERTO"
           ],
           "lat": [
            36.9,
            36
           ],
           "legendgroup": "",
           "lon": [
            -51.5,
            -48.2
           ],
           "marker": {
            "color": [
             2,
             2
            ],
            "coloraxis": "coloraxis",
            "size": [
             65,
             90
            ],
            "sizemode": "area",
            "sizeref": 0.3125
           },
           "name": "",
           "showlegend": false,
           "type": "scattergeo"
          }
         ],
         "name": "270"
        },
        {
         "data": [
          {
           "geo": "geo",
           "hoverlabel": {
            "namelength": 0
           },
           "hovertemplate": "<b>%{hovertext}</b><br><br>Hours=276<br>Maximum.Wind=%{marker.size}<br>Latitude=%{lat}<br>Longitude=%{lon}<br>Status=%{marker.color}",
           "hovertext": [
            "             BERTHA",
            "            ALBERTO"
           ],
           "lat": [
            38.6,
            36.4
           ],
           "legendgroup": "",
           "lon": [
            -49.7,
            -48.1
           ],
           "marker": {
            "color": [
             2,
             2
            ],
            "coloraxis": "coloraxis",
            "size": [
             65,
             90
            ],
            "sizemode": "area",
            "sizeref": 0.3125
           },
           "name": "",
           "showlegend": false,
           "type": "scattergeo"
          }
         ],
         "name": "276"
        },
        {
         "data": [
          {
           "geo": "geo",
           "hoverlabel": {
            "namelength": 0
           },
           "hovertemplate": "<b>%{hovertext}</b><br><br>Hours=282<br>Maximum.Wind=%{marker.size}<br>Latitude=%{lat}<br>Longitude=%{lon}<br>Status=%{marker.color}",
           "hovertext": [
            "             BERTHA",
            "            ALBERTO"
           ],
           "lat": [
            40.4,
            36.7
           ],
           "legendgroup": "",
           "lon": [
            -48,
            -48
           ],
           "marker": {
            "color": [
             2,
             2
            ],
            "coloraxis": "coloraxis",
            "size": [
             65,
             90
            ],
            "sizemode": "area",
            "sizeref": 0.3125
           },
           "name": "",
           "showlegend": false,
           "type": "scattergeo"
          }
         ],
         "name": "282"
        },
        {
         "data": [
          {
           "geo": "geo",
           "hoverlabel": {
            "namelength": 0
           },
           "hovertemplate": "<b>%{hovertext}</b><br><br>Hours=288<br>Maximum.Wind=%{marker.size}<br>Latitude=%{lat}<br>Longitude=%{lon}<br>Status=%{marker.color}",
           "hovertext": [
            "             BERTHA",
            "            ALBERTO"
           ],
           "lat": [
            42.1,
            37.1
           ],
           "legendgroup": "",
           "lon": [
            -46.3,
            -47.9
           ],
           "marker": {
            "color": [
             2,
             2
            ],
            "coloraxis": "coloraxis",
            "size": [
             65,
             85
            ],
            "sizemode": "area",
            "sizeref": 0.3125
           },
           "name": "",
           "showlegend": false,
           "type": "scattergeo"
          }
         ],
         "name": "288"
        },
        {
         "data": [
          {
           "geo": "geo",
           "hoverlabel": {
            "namelength": 0
           },
           "hovertemplate": "<b>%{hovertext}</b><br><br>Hours=294<br>Maximum.Wind=%{marker.size}<br>Latitude=%{lat}<br>Longitude=%{lon}<br>Status=%{marker.color}",
           "hovertext": [
            "             BERTHA",
            "            ALBERTO"
           ],
           "lat": [
            43.7,
            38.3
           ],
           "legendgroup": "",
           "lon": [
            -44.3,
            -47.3
           ],
           "marker": {
            "color": [
             2,
             2
            ],
            "coloraxis": "coloraxis",
            "size": [
             65,
             80
            ],
            "sizemode": "area",
            "sizeref": 0.3125
           },
           "name": "",
           "showlegend": false,
           "type": "scattergeo"
          }
         ],
         "name": "294"
        },
        {
         "data": [
          {
           "geo": "geo",
           "hoverlabel": {
            "namelength": 0
           },
           "hovertemplate": "<b>%{hovertext}</b><br><br>Hours=300<br>Maximum.Wind=%{marker.size}<br>Latitude=%{lat}<br>Longitude=%{lon}<br>Status=%{marker.color}",
           "hovertext": [
            "             BERTHA",
            "            ALBERTO"
           ],
           "lat": [
            45.3,
            41.2
           ],
           "legendgroup": "",
           "lon": [
            -42.4,
            -45.9
           ],
           "marker": {
            "color": [
             1,
             2
            ],
            "coloraxis": "coloraxis",
            "size": [
             60,
             75
            ],
            "sizemode": "area",
            "sizeref": 0.3125
           },
           "name": "",
           "showlegend": false,
           "type": "scattergeo"
          }
         ],
         "name": "300"
        }
       ],
       "layout": {
        "coloraxis": {
         "cmax": 2,
         "cmin": 0,
         "colorbar": {
          "title": {
           "text": "Status"
          }
         },
         "colorscale": [
          [
           0,
           "rgb(0,0,255)"
          ],
          [
           1,
           "rgb(255,0,0)"
          ]
         ]
        },
        "geo": {
         "center": {},
         "domain": {
          "x": [
           0,
           1
          ],
          "y": [
           0,
           1
          ]
         }
        },
        "height": 600,
        "legend": {
         "itemsizing": "constant",
         "tracegroupgap": 0
        },
        "sliders": [
         {
          "active": 0,
          "currentvalue": {
           "prefix": "Hours="
          },
          "len": 0.9,
          "pad": {
           "b": 10,
           "t": 60
          },
          "steps": [
           {
            "args": [
             [
              "0"
             ],
             {
              "frame": {
               "duration": 0,
               "redraw": true
              },
              "fromcurrent": true,
              "mode": "immediate",
              "transition": {
               "duration": 0,
               "easing": "linear"
              }
             }
            ],
            "label": "0",
            "method": "animate"
           },
           {
            "args": [
             [
              "6"
             ],
             {
              "frame": {
               "duration": 0,
               "redraw": true
              },
              "fromcurrent": true,
              "mode": "immediate",
              "transition": {
               "duration": 0,
               "easing": "linear"
              }
             }
            ],
            "label": "6",
            "method": "animate"
           },
           {
            "args": [
             [
              "12"
             ],
             {
              "frame": {
               "duration": 0,
               "redraw": true
              },
              "fromcurrent": true,
              "mode": "immediate",
              "transition": {
               "duration": 0,
               "easing": "linear"
              }
             }
            ],
            "label": "12",
            "method": "animate"
           },
           {
            "args": [
             [
              "18"
             ],
             {
              "frame": {
               "duration": 0,
               "redraw": true
              },
              "fromcurrent": true,
              "mode": "immediate",
              "transition": {
               "duration": 0,
               "easing": "linear"
              }
             }
            ],
            "label": "18",
            "method": "animate"
           },
           {
            "args": [
             [
              "24"
             ],
             {
              "frame": {
               "duration": 0,
               "redraw": true
              },
              "fromcurrent": true,
              "mode": "immediate",
              "transition": {
               "duration": 0,
               "easing": "linear"
              }
             }
            ],
            "label": "24",
            "method": "animate"
           },
           {
            "args": [
             [
              "30"
             ],
             {
              "frame": {
               "duration": 0,
               "redraw": true
              },
              "fromcurrent": true,
              "mode": "immediate",
              "transition": {
               "duration": 0,
               "easing": "linear"
              }
             }
            ],
            "label": "30",
            "method": "animate"
           },
           {
            "args": [
             [
              "36"
             ],
             {
              "frame": {
               "duration": 0,
               "redraw": true
              },
              "fromcurrent": true,
              "mode": "immediate",
              "transition": {
               "duration": 0,
               "easing": "linear"
              }
             }
            ],
            "label": "36",
            "method": "animate"
           },
           {
            "args": [
             [
              "42"
             ],
             {
              "frame": {
               "duration": 0,
               "redraw": true
              },
              "fromcurrent": true,
              "mode": "immediate",
              "transition": {
               "duration": 0,
               "easing": "linear"
              }
             }
            ],
            "label": "42",
            "method": "animate"
           },
           {
            "args": [
             [
              "48"
             ],
             {
              "frame": {
               "duration": 0,
               "redraw": true
              },
              "fromcurrent": true,
              "mode": "immediate",
              "transition": {
               "duration": 0,
               "easing": "linear"
              }
             }
            ],
            "label": "48",
            "method": "animate"
           },
           {
            "args": [
             [
              "54"
             ],
             {
              "frame": {
               "duration": 0,
               "redraw": true
              },
              "fromcurrent": true,
              "mode": "immediate",
              "transition": {
               "duration": 0,
               "easing": "linear"
              }
             }
            ],
            "label": "54",
            "method": "animate"
           },
           {
            "args": [
             [
              "60"
             ],
             {
              "frame": {
               "duration": 0,
               "redraw": true
              },
              "fromcurrent": true,
              "mode": "immediate",
              "transition": {
               "duration": 0,
               "easing": "linear"
              }
             }
            ],
            "label": "60",
            "method": "animate"
           },
           {
            "args": [
             [
              "66"
             ],
             {
              "frame": {
               "duration": 0,
               "redraw": true
              },
              "fromcurrent": true,
              "mode": "immediate",
              "transition": {
               "duration": 0,
               "easing": "linear"
              }
             }
            ],
            "label": "66",
            "method": "animate"
           },
           {
            "args": [
             [
              "72"
             ],
             {
              "frame": {
               "duration": 0,
               "redraw": true
              },
              "fromcurrent": true,
              "mode": "immediate",
              "transition": {
               "duration": 0,
               "easing": "linear"
              }
             }
            ],
            "label": "72",
            "method": "animate"
           },
           {
            "args": [
             [
              "78"
             ],
             {
              "frame": {
               "duration": 0,
               "redraw": true
              },
              "fromcurrent": true,
              "mode": "immediate",
              "transition": {
               "duration": 0,
               "easing": "linear"
              }
             }
            ],
            "label": "78",
            "method": "animate"
           },
           {
            "args": [
             [
              "84"
             ],
             {
              "frame": {
               "duration": 0,
               "redraw": true
              },
              "fromcurrent": true,
              "mode": "immediate",
              "transition": {
               "duration": 0,
               "easing": "linear"
              }
             }
            ],
            "label": "84",
            "method": "animate"
           },
           {
            "args": [
             [
              "90"
             ],
             {
              "frame": {
               "duration": 0,
               "redraw": true
              },
              "fromcurrent": true,
              "mode": "immediate",
              "transition": {
               "duration": 0,
               "easing": "linear"
              }
             }
            ],
            "label": "90",
            "method": "animate"
           },
           {
            "args": [
             [
              "96"
             ],
             {
              "frame": {
               "duration": 0,
               "redraw": true
              },
              "fromcurrent": true,
              "mode": "immediate",
              "transition": {
               "duration": 0,
               "easing": "linear"
              }
             }
            ],
            "label": "96",
            "method": "animate"
           },
           {
            "args": [
             [
              "102"
             ],
             {
              "frame": {
               "duration": 0,
               "redraw": true
              },
              "fromcurrent": true,
              "mode": "immediate",
              "transition": {
               "duration": 0,
               "easing": "linear"
              }
             }
            ],
            "label": "102",
            "method": "animate"
           },
           {
            "args": [
             [
              "108"
             ],
             {
              "frame": {
               "duration": 0,
               "redraw": true
              },
              "fromcurrent": true,
              "mode": "immediate",
              "transition": {
               "duration": 0,
               "easing": "linear"
              }
             }
            ],
            "label": "108",
            "method": "animate"
           },
           {
            "args": [
             [
              "114"
             ],
             {
              "frame": {
               "duration": 0,
               "redraw": true
              },
              "fromcurrent": true,
              "mode": "immediate",
              "transition": {
               "duration": 0,
               "easing": "linear"
              }
             }
            ],
            "label": "114",
            "method": "animate"
           },
           {
            "args": [
             [
              "120"
             ],
             {
              "frame": {
               "duration": 0,
               "redraw": true
              },
              "fromcurrent": true,
              "mode": "immediate",
              "transition": {
               "duration": 0,
               "easing": "linear"
              }
             }
            ],
            "label": "120",
            "method": "animate"
           },
           {
            "args": [
             [
              "126"
             ],
             {
              "frame": {
               "duration": 0,
               "redraw": true
              },
              "fromcurrent": true,
              "mode": "immediate",
              "transition": {
               "duration": 0,
               "easing": "linear"
              }
             }
            ],
            "label": "126",
            "method": "animate"
           },
           {
            "args": [
             [
              "132"
             ],
             {
              "frame": {
               "duration": 0,
               "redraw": true
              },
              "fromcurrent": true,
              "mode": "immediate",
              "transition": {
               "duration": 0,
               "easing": "linear"
              }
             }
            ],
            "label": "132",
            "method": "animate"
           },
           {
            "args": [
             [
              "138"
             ],
             {
              "frame": {
               "duration": 0,
               "redraw": true
              },
              "fromcurrent": true,
              "mode": "immediate",
              "transition": {
               "duration": 0,
               "easing": "linear"
              }
             }
            ],
            "label": "138",
            "method": "animate"
           },
           {
            "args": [
             [
              "144"
             ],
             {
              "frame": {
               "duration": 0,
               "redraw": true
              },
              "fromcurrent": true,
              "mode": "immediate",
              "transition": {
               "duration": 0,
               "easing": "linear"
              }
             }
            ],
            "label": "144",
            "method": "animate"
           },
           {
            "args": [
             [
              "150"
             ],
             {
              "frame": {
               "duration": 0,
               "redraw": true
              },
              "fromcurrent": true,
              "mode": "immediate",
              "transition": {
               "duration": 0,
               "easing": "linear"
              }
             }
            ],
            "label": "150",
            "method": "animate"
           },
           {
            "args": [
             [
              "156"
             ],
             {
              "frame": {
               "duration": 0,
               "redraw": true
              },
              "fromcurrent": true,
              "mode": "immediate",
              "transition": {
               "duration": 0,
               "easing": "linear"
              }
             }
            ],
            "label": "156",
            "method": "animate"
           },
           {
            "args": [
             [
              "162"
             ],
             {
              "frame": {
               "duration": 0,
               "redraw": true
              },
              "fromcurrent": true,
              "mode": "immediate",
              "transition": {
               "duration": 0,
               "easing": "linear"
              }
             }
            ],
            "label": "162",
            "method": "animate"
           },
           {
            "args": [
             [
              "168"
             ],
             {
              "frame": {
               "duration": 0,
               "redraw": true
              },
              "fromcurrent": true,
              "mode": "immediate",
              "transition": {
               "duration": 0,
               "easing": "linear"
              }
             }
            ],
            "label": "168",
            "method": "animate"
           },
           {
            "args": [
             [
              "174"
             ],
             {
              "frame": {
               "duration": 0,
               "redraw": true
              },
              "fromcurrent": true,
              "mode": "immediate",
              "transition": {
               "duration": 0,
               "easing": "linear"
              }
             }
            ],
            "label": "174",
            "method": "animate"
           },
           {
            "args": [
             [
              "180"
             ],
             {
              "frame": {
               "duration": 0,
               "redraw": true
              },
              "fromcurrent": true,
              "mode": "immediate",
              "transition": {
               "duration": 0,
               "easing": "linear"
              }
             }
            ],
            "label": "180",
            "method": "animate"
           },
           {
            "args": [
             [
              "186"
             ],
             {
              "frame": {
               "duration": 0,
               "redraw": true
              },
              "fromcurrent": true,
              "mode": "immediate",
              "transition": {
               "duration": 0,
               "easing": "linear"
              }
             }
            ],
            "label": "186",
            "method": "animate"
           },
           {
            "args": [
             [
              "192"
             ],
             {
              "frame": {
               "duration": 0,
               "redraw": true
              },
              "fromcurrent": true,
              "mode": "immediate",
              "transition": {
               "duration": 0,
               "easing": "linear"
              }
             }
            ],
            "label": "192",
            "method": "animate"
           },
           {
            "args": [
             [
              "198"
             ],
             {
              "frame": {
               "duration": 0,
               "redraw": true
              },
              "fromcurrent": true,
              "mode": "immediate",
              "transition": {
               "duration": 0,
               "easing": "linear"
              }
             }
            ],
            "label": "198",
            "method": "animate"
           },
           {
            "args": [
             [
              "204"
             ],
             {
              "frame": {
               "duration": 0,
               "redraw": true
              },
              "fromcurrent": true,
              "mode": "immediate",
              "transition": {
               "duration": 0,
               "easing": "linear"
              }
             }
            ],
            "label": "204",
            "method": "animate"
           },
           {
            "args": [
             [
              "210"
             ],
             {
              "frame": {
               "duration": 0,
               "redraw": true
              },
              "fromcurrent": true,
              "mode": "immediate",
              "transition": {
               "duration": 0,
               "easing": "linear"
              }
             }
            ],
            "label": "210",
            "method": "animate"
           },
           {
            "args": [
             [
              "216"
             ],
             {
              "frame": {
               "duration": 0,
               "redraw": true
              },
              "fromcurrent": true,
              "mode": "immediate",
              "transition": {
               "duration": 0,
               "easing": "linear"
              }
             }
            ],
            "label": "216",
            "method": "animate"
           },
           {
            "args": [
             [
              "222"
             ],
             {
              "frame": {
               "duration": 0,
               "redraw": true
              },
              "fromcurrent": true,
              "mode": "immediate",
              "transition": {
               "duration": 0,
               "easing": "linear"
              }
             }
            ],
            "label": "222",
            "method": "animate"
           },
           {
            "args": [
             [
              "228"
             ],
             {
              "frame": {
               "duration": 0,
               "redraw": true
              },
              "fromcurrent": true,
              "mode": "immediate",
              "transition": {
               "duration": 0,
               "easing": "linear"
              }
             }
            ],
            "label": "228",
            "method": "animate"
           },
           {
            "args": [
             [
              "234"
             ],
             {
              "frame": {
               "duration": 0,
               "redraw": true
              },
              "fromcurrent": true,
              "mode": "immediate",
              "transition": {
               "duration": 0,
               "easing": "linear"
              }
             }
            ],
            "label": "234",
            "method": "animate"
           },
           {
            "args": [
             [
              "240"
             ],
             {
              "frame": {
               "duration": 0,
               "redraw": true
              },
              "fromcurrent": true,
              "mode": "immediate",
              "transition": {
               "duration": 0,
               "easing": "linear"
              }
             }
            ],
            "label": "240",
            "method": "animate"
           },
           {
            "args": [
             [
              "246"
             ],
             {
              "frame": {
               "duration": 0,
               "redraw": true
              },
              "fromcurrent": true,
              "mode": "immediate",
              "transition": {
               "duration": 0,
               "easing": "linear"
              }
             }
            ],
            "label": "246",
            "method": "animate"
           },
           {
            "args": [
             [
              "252"
             ],
             {
              "frame": {
               "duration": 0,
               "redraw": true
              },
              "fromcurrent": true,
              "mode": "immediate",
              "transition": {
               "duration": 0,
               "easing": "linear"
              }
             }
            ],
            "label": "252",
            "method": "animate"
           },
           {
            "args": [
             [
              "258"
             ],
             {
              "frame": {
               "duration": 0,
               "redraw": true
              },
              "fromcurrent": true,
              "mode": "immediate",
              "transition": {
               "duration": 0,
               "easing": "linear"
              }
             }
            ],
            "label": "258",
            "method": "animate"
           },
           {
            "args": [
             [
              "264"
             ],
             {
              "frame": {
               "duration": 0,
               "redraw": true
              },
              "fromcurrent": true,
              "mode": "immediate",
              "transition": {
               "duration": 0,
               "easing": "linear"
              }
             }
            ],
            "label": "264",
            "method": "animate"
           },
           {
            "args": [
             [
              "270"
             ],
             {
              "frame": {
               "duration": 0,
               "redraw": true
              },
              "fromcurrent": true,
              "mode": "immediate",
              "transition": {
               "duration": 0,
               "easing": "linear"
              }
             }
            ],
            "label": "270",
            "method": "animate"
           },
           {
            "args": [
             [
              "276"
             ],
             {
              "frame": {
               "duration": 0,
               "redraw": true
              },
              "fromcurrent": true,
              "mode": "immediate",
              "transition": {
               "duration": 0,
               "easing": "linear"
              }
             }
            ],
            "label": "276",
            "method": "animate"
           },
           {
            "args": [
             [
              "282"
             ],
             {
              "frame": {
               "duration": 0,
               "redraw": true
              },
              "fromcurrent": true,
              "mode": "immediate",
              "transition": {
               "duration": 0,
               "easing": "linear"
              }
             }
            ],
            "label": "282",
            "method": "animate"
           },
           {
            "args": [
             [
              "288"
             ],
             {
              "frame": {
               "duration": 0,
               "redraw": true
              },
              "fromcurrent": true,
              "mode": "immediate",
              "transition": {
               "duration": 0,
               "easing": "linear"
              }
             }
            ],
            "label": "288",
            "method": "animate"
           },
           {
            "args": [
             [
              "294"
             ],
             {
              "frame": {
               "duration": 0,
               "redraw": true
              },
              "fromcurrent": true,
              "mode": "immediate",
              "transition": {
               "duration": 0,
               "easing": "linear"
              }
             }
            ],
            "label": "294",
            "method": "animate"
           },
           {
            "args": [
             [
              "300"
             ],
             {
              "frame": {
               "duration": 0,
               "redraw": true
              },
              "fromcurrent": true,
              "mode": "immediate",
              "transition": {
               "duration": 0,
               "easing": "linear"
              }
             }
            ],
            "label": "300",
            "method": "animate"
           }
          ],
          "x": 0.1,
          "xanchor": "left",
          "y": 0,
          "yanchor": "top"
         }
        ],
        "template": {
         "data": {
          "bar": [
           {
            "error_x": {
             "color": "rgb(51,51,51)"
            },
            "error_y": {
             "color": "rgb(51,51,51)"
            },
            "marker": {
             "line": {
              "color": "rgb(237,237,237)",
              "width": 0.5
             }
            },
            "type": "bar"
           }
          ],
          "barpolar": [
           {
            "marker": {
             "line": {
              "color": "rgb(237,237,237)",
              "width": 0.5
             }
            },
            "type": "barpolar"
           }
          ],
          "carpet": [
           {
            "aaxis": {
             "endlinecolor": "rgb(51,51,51)",
             "gridcolor": "white",
             "linecolor": "white",
             "minorgridcolor": "white",
             "startlinecolor": "rgb(51,51,51)"
            },
            "baxis": {
             "endlinecolor": "rgb(51,51,51)",
             "gridcolor": "white",
             "linecolor": "white",
             "minorgridcolor": "white",
             "startlinecolor": "rgb(51,51,51)"
            },
            "type": "carpet"
           }
          ],
          "choropleth": [
           {
            "colorbar": {
             "outlinewidth": 0,
             "tickcolor": "rgb(237,237,237)",
             "ticklen": 6,
             "ticks": "inside"
            },
            "type": "choropleth"
           }
          ],
          "contour": [
           {
            "colorbar": {
             "outlinewidth": 0,
             "tickcolor": "rgb(237,237,237)",
             "ticklen": 6,
             "ticks": "inside"
            },
            "colorscale": [
             [
              0,
              "rgb(20,44,66)"
             ],
             [
              1,
              "rgb(90,179,244)"
             ]
            ],
            "type": "contour"
           }
          ],
          "contourcarpet": [
           {
            "colorbar": {
             "outlinewidth": 0,
             "tickcolor": "rgb(237,237,237)",
             "ticklen": 6,
             "ticks": "inside"
            },
            "type": "contourcarpet"
           }
          ],
          "heatmap": [
           {
            "colorbar": {
             "outlinewidth": 0,
             "tickcolor": "rgb(237,237,237)",
             "ticklen": 6,
             "ticks": "inside"
            },
            "colorscale": [
             [
              0,
              "rgb(20,44,66)"
             ],
             [
              1,
              "rgb(90,179,244)"
             ]
            ],
            "type": "heatmap"
           }
          ],
          "heatmapgl": [
           {
            "colorbar": {
             "outlinewidth": 0,
             "tickcolor": "rgb(237,237,237)",
             "ticklen": 6,
             "ticks": "inside"
            },
            "colorscale": [
             [
              0,
              "rgb(20,44,66)"
             ],
             [
              1,
              "rgb(90,179,244)"
             ]
            ],
            "type": "heatmapgl"
           }
          ],
          "histogram": [
           {
            "marker": {
             "colorbar": {
              "outlinewidth": 0,
              "tickcolor": "rgb(237,237,237)",
              "ticklen": 6,
              "ticks": "inside"
             }
            },
            "type": "histogram"
           }
          ],
          "histogram2d": [
           {
            "colorbar": {
             "outlinewidth": 0,
             "tickcolor": "rgb(237,237,237)",
             "ticklen": 6,
             "ticks": "inside"
            },
            "colorscale": [
             [
              0,
              "rgb(20,44,66)"
             ],
             [
              1,
              "rgb(90,179,244)"
             ]
            ],
            "type": "histogram2d"
           }
          ],
          "histogram2dcontour": [
           {
            "colorbar": {
             "outlinewidth": 0,
             "tickcolor": "rgb(237,237,237)",
             "ticklen": 6,
             "ticks": "inside"
            },
            "colorscale": [
             [
              0,
              "rgb(20,44,66)"
             ],
             [
              1,
              "rgb(90,179,244)"
             ]
            ],
            "type": "histogram2dcontour"
           }
          ],
          "mesh3d": [
           {
            "colorbar": {
             "outlinewidth": 0,
             "tickcolor": "rgb(237,237,237)",
             "ticklen": 6,
             "ticks": "inside"
            },
            "type": "mesh3d"
           }
          ],
          "parcoords": [
           {
            "line": {
             "colorbar": {
              "outlinewidth": 0,
              "tickcolor": "rgb(237,237,237)",
              "ticklen": 6,
              "ticks": "inside"
             }
            },
            "type": "parcoords"
           }
          ],
          "pie": [
           {
            "automargin": true,
            "type": "pie"
           }
          ],
          "scatter": [
           {
            "marker": {
             "colorbar": {
              "outlinewidth": 0,
              "tickcolor": "rgb(237,237,237)",
              "ticklen": 6,
              "ticks": "inside"
             }
            },
            "type": "scatter"
           }
          ],
          "scatter3d": [
           {
            "line": {
             "colorbar": {
              "outlinewidth": 0,
              "tickcolor": "rgb(237,237,237)",
              "ticklen": 6,
              "ticks": "inside"
             }
            },
            "marker": {
             "colorbar": {
              "outlinewidth": 0,
              "tickcolor": "rgb(237,237,237)",
              "ticklen": 6,
              "ticks": "inside"
             }
            },
            "type": "scatter3d"
           }
          ],
          "scattercarpet": [
           {
            "marker": {
             "colorbar": {
              "outlinewidth": 0,
              "tickcolor": "rgb(237,237,237)",
              "ticklen": 6,
              "ticks": "inside"
             }
            },
            "type": "scattercarpet"
           }
          ],
          "scattergeo": [
           {
            "marker": {
             "colorbar": {
              "outlinewidth": 0,
              "tickcolor": "rgb(237,237,237)",
              "ticklen": 6,
              "ticks": "inside"
             }
            },
            "type": "scattergeo"
           }
          ],
          "scattergl": [
           {
            "marker": {
             "colorbar": {
              "outlinewidth": 0,
              "tickcolor": "rgb(237,237,237)",
              "ticklen": 6,
              "ticks": "inside"
             }
            },
            "type": "scattergl"
           }
          ],
          "scattermapbox": [
           {
            "marker": {
             "colorbar": {
              "outlinewidth": 0,
              "tickcolor": "rgb(237,237,237)",
              "ticklen": 6,
              "ticks": "inside"
             }
            },
            "type": "scattermapbox"
           }
          ],
          "scatterpolar": [
           {
            "marker": {
             "colorbar": {
              "outlinewidth": 0,
              "tickcolor": "rgb(237,237,237)",
              "ticklen": 6,
              "ticks": "inside"
             }
            },
            "type": "scatterpolar"
           }
          ],
          "scatterpolargl": [
           {
            "marker": {
             "colorbar": {
              "outlinewidth": 0,
              "tickcolor": "rgb(237,237,237)",
              "ticklen": 6,
              "ticks": "inside"
             }
            },
            "type": "scatterpolargl"
           }
          ],
          "scatterternary": [
           {
            "marker": {
             "colorbar": {
              "outlinewidth": 0,
              "tickcolor": "rgb(237,237,237)",
              "ticklen": 6,
              "ticks": "inside"
             }
            },
            "type": "scatterternary"
           }
          ],
          "surface": [
           {
            "colorbar": {
             "outlinewidth": 0,
             "tickcolor": "rgb(237,237,237)",
             "ticklen": 6,
             "ticks": "inside"
            },
            "colorscale": [
             [
              0,
              "rgb(20,44,66)"
             ],
             [
              1,
              "rgb(90,179,244)"
             ]
            ],
            "type": "surface"
           }
          ],
          "table": [
           {
            "cells": {
             "fill": {
              "color": "rgb(237,237,237)"
             },
             "line": {
              "color": "white"
             }
            },
            "header": {
             "fill": {
              "color": "rgb(217,217,217)"
             },
             "line": {
              "color": "white"
             }
            },
            "type": "table"
           }
          ]
         },
         "layout": {
          "annotationdefaults": {
           "arrowhead": 0,
           "arrowwidth": 1
          },
          "coloraxis": {
           "colorbar": {
            "outlinewidth": 0,
            "tickcolor": "rgb(237,237,237)",
            "ticklen": 6,
            "ticks": "inside"
           }
          },
          "colorscale": {
           "sequential": [
            [
             0,
             "rgb(20,44,66)"
            ],
            [
             1,
             "rgb(90,179,244)"
            ]
           ],
           "sequentialminus": [
            [
             0,
             "rgb(20,44,66)"
            ],
            [
             1,
             "rgb(90,179,244)"
            ]
           ]
          },
          "colorway": [
           "#F8766D",
           "#A3A500",
           "#00BF7D",
           "#00B0F6",
           "#E76BF3"
          ],
          "font": {
           "color": "rgb(51,51,51)"
          },
          "geo": {
           "bgcolor": "white",
           "lakecolor": "white",
           "landcolor": "rgb(237,237,237)",
           "showlakes": true,
           "showland": true,
           "subunitcolor": "white"
          },
          "hoverlabel": {
           "align": "left"
          },
          "hovermode": "closest",
          "paper_bgcolor": "white",
          "plot_bgcolor": "rgb(237,237,237)",
          "polar": {
           "angularaxis": {
            "gridcolor": "white",
            "linecolor": "white",
            "showgrid": true,
            "tickcolor": "rgb(51,51,51)",
            "ticks": "outside"
           },
           "bgcolor": "rgb(237,237,237)",
           "radialaxis": {
            "gridcolor": "white",
            "linecolor": "white",
            "showgrid": true,
            "tickcolor": "rgb(51,51,51)",
            "ticks": "outside"
           }
          },
          "scene": {
           "xaxis": {
            "backgroundcolor": "rgb(237,237,237)",
            "gridcolor": "white",
            "gridwidth": 2,
            "linecolor": "white",
            "showbackground": true,
            "showgrid": true,
            "tickcolor": "rgb(51,51,51)",
            "ticks": "outside",
            "zerolinecolor": "white"
           },
           "yaxis": {
            "backgroundcolor": "rgb(237,237,237)",
            "gridcolor": "white",
            "gridwidth": 2,
            "linecolor": "white",
            "showbackground": true,
            "showgrid": true,
            "tickcolor": "rgb(51,51,51)",
            "ticks": "outside",
            "zerolinecolor": "white"
           },
           "zaxis": {
            "backgroundcolor": "rgb(237,237,237)",
            "gridcolor": "white",
            "gridwidth": 2,
            "linecolor": "white",
            "showbackground": true,
            "showgrid": true,
            "tickcolor": "rgb(51,51,51)",
            "ticks": "outside",
            "zerolinecolor": "white"
           }
          },
          "shapedefaults": {
           "fillcolor": "black",
           "line": {
            "width": 0
           },
           "opacity": 0.3
          },
          "ternary": {
           "aaxis": {
            "gridcolor": "white",
            "linecolor": "white",
            "showgrid": true,
            "tickcolor": "rgb(51,51,51)",
            "ticks": "outside"
           },
           "baxis": {
            "gridcolor": "white",
            "linecolor": "white",
            "showgrid": true,
            "tickcolor": "rgb(51,51,51)",
            "ticks": "outside"
           },
           "bgcolor": "rgb(237,237,237)",
           "caxis": {
            "gridcolor": "white",
            "linecolor": "white",
            "showgrid": true,
            "tickcolor": "rgb(51,51,51)",
            "ticks": "outside"
           }
          },
          "xaxis": {
           "automargin": true,
           "gridcolor": "white",
           "linecolor": "white",
           "showgrid": true,
           "tickcolor": "rgb(51,51,51)",
           "ticks": "outside",
           "title": {
            "standoff": 15
           },
           "zerolinecolor": "white"
          },
          "yaxis": {
           "automargin": true,
           "gridcolor": "white",
           "linecolor": "white",
           "showgrid": true,
           "tickcolor": "rgb(51,51,51)",
           "ticks": "outside",
           "title": {
            "standoff": 15
           },
           "zerolinecolor": "white"
          }
         }
        },
        "title": {
         "text": "Weather Event Developments Over Time"
        },
        "updatemenus": [
         {
          "buttons": [
           {
            "args": [
             null,
             {
              "frame": {
               "duration": 500,
               "redraw": true
              },
              "fromcurrent": true,
              "mode": "immediate",
              "transition": {
               "duration": 500,
               "easing": "linear"
              }
             }
            ],
            "label": "&#9654;",
            "method": "animate"
           },
           {
            "args": [
             [
              null
             ],
             {
              "frame": {
               "duration": 0,
               "redraw": true
              },
              "fromcurrent": true,
              "mode": "immediate",
              "transition": {
               "duration": 0,
               "easing": "linear"
              }
             }
            ],
            "label": "&#9724;",
            "method": "animate"
           }
          ],
          "direction": "left",
          "pad": {
           "r": 10,
           "t": 70
          },
          "showactive": false,
          "type": "buttons",
          "x": 0.1,
          "xanchor": "right",
          "y": 0,
          "yanchor": "top"
         }
        ]
       }
      },
      "text/html": [
       "<div>\n",
       "        \n",
       "        \n",
       "            <div id=\"09d517c5-432a-4acb-a427-8069443209d8\" class=\"plotly-graph-div\" style=\"height:600px; width:100%;\"></div>\n",
       "            <script type=\"text/javascript\">\n",
       "                require([\"plotly\"], function(Plotly) {\n",
       "                    window.PLOTLYENV=window.PLOTLYENV || {};\n",
       "                    \n",
       "                if (document.getElementById(\"09d517c5-432a-4acb-a427-8069443209d8\")) {\n",
       "                    Plotly.newPlot(\n",
       "                        '09d517c5-432a-4acb-a427-8069443209d8',\n",
       "                        [{\"geo\": \"geo\", \"hoverlabel\": {\"namelength\": 0}, \"hovertemplate\": \"<b>%{hovertext}</b><br><br>Hours=0<br>Maximum.Wind=%{marker.size}<br>Latitude=%{lat}<br>Longitude=%{lon}<br>Status=%{marker.color}\", \"hovertext\": [\"            ALBERTO\", \"            ALLISON\", \"               ALEX\", \"               ALEX\", \"             ARTHUR\", \"                BOB\", \"             BONNIE\", \"             ARLENE\", \"             BERTHA\", \"             BONNIE\", \"             BERTHA\", \"             ALICIA\", \"          CLAUDETTE\", \"             BERTHA\", \"                BOB\", \"              CESAR\", \"               BILL\", \"               BRET\", \"            ALBERTO\", \"            CHARLEY\"], \"lat\": [21.7, 17.4, 30.3, 16.4, 27.7, 26.0, 25.6, 25.0, 9.8, 14.7, 12.7, 27.3, 34.0, 29.3, 25.6, 11.8, 30.4, 19.5, 10.8, 11.4], \"legendgroup\": \"\", \"lon\": [-87.1, -84.3, -78.3, -83.1, -78.9, -85.0, -87.2, -78.0, -34.0, -48.1, -22.9, -90.5, -74.0, -75.6, -74.3, -62.6, -69.9, -94.4, -18.0, -59.2], \"marker\": {\"color\": [0, 0, 0, 0, 0, 0, 0, 0, 0, 0, 0, 0, 1, 0, 0, 0, 0, 0, 0, 0], \"coloraxis\": \"coloraxis\", \"size\": [20, 30, 25, 30, 30, 25, 25, 25, 30, 25, 30, 30, 35, 30, 25, 25, 30, 30, 25, 30], \"sizemode\": \"area\", \"sizeref\": 0.3125}, \"name\": \"\", \"showlegend\": false, \"type\": \"scattergeo\"}],\n",
       "                        {\"coloraxis\": {\"cmax\": 2, \"cmin\": 0, \"colorbar\": {\"title\": {\"text\": \"Status\"}}, \"colorscale\": [[0.0, \"rgb(0,0,255)\"], [1.0, \"rgb(255,0,0)\"]]}, \"geo\": {\"center\": {}, \"domain\": {\"x\": [0.0, 1.0], \"y\": [0.0, 1.0]}}, \"height\": 600, \"legend\": {\"itemsizing\": \"constant\", \"tracegroupgap\": 0}, \"sliders\": [{\"active\": 0, \"currentvalue\": {\"prefix\": \"Hours=\"}, \"len\": 0.9, \"pad\": {\"b\": 10, \"t\": 60}, \"steps\": [{\"args\": [[\"0\"], {\"frame\": {\"duration\": 0, \"redraw\": true}, \"fromcurrent\": true, \"mode\": \"immediate\", \"transition\": {\"duration\": 0, \"easing\": \"linear\"}}], \"label\": \"0\", \"method\": \"animate\"}, {\"args\": [[\"6\"], {\"frame\": {\"duration\": 0, \"redraw\": true}, \"fromcurrent\": true, \"mode\": \"immediate\", \"transition\": {\"duration\": 0, \"easing\": \"linear\"}}], \"label\": \"6\", \"method\": \"animate\"}, {\"args\": [[\"12\"], {\"frame\": {\"duration\": 0, \"redraw\": true}, \"fromcurrent\": true, \"mode\": \"immediate\", \"transition\": {\"duration\": 0, \"easing\": \"linear\"}}], \"label\": \"12\", \"method\": \"animate\"}, {\"args\": [[\"18\"], {\"frame\": {\"duration\": 0, \"redraw\": true}, \"fromcurrent\": true, \"mode\": \"immediate\", \"transition\": {\"duration\": 0, \"easing\": \"linear\"}}], \"label\": \"18\", \"method\": \"animate\"}, {\"args\": [[\"24\"], {\"frame\": {\"duration\": 0, \"redraw\": true}, \"fromcurrent\": true, \"mode\": \"immediate\", \"transition\": {\"duration\": 0, \"easing\": \"linear\"}}], \"label\": \"24\", \"method\": \"animate\"}, {\"args\": [[\"30\"], {\"frame\": {\"duration\": 0, \"redraw\": true}, \"fromcurrent\": true, \"mode\": \"immediate\", \"transition\": {\"duration\": 0, \"easing\": \"linear\"}}], \"label\": \"30\", \"method\": \"animate\"}, {\"args\": [[\"36\"], {\"frame\": {\"duration\": 0, \"redraw\": true}, \"fromcurrent\": true, \"mode\": \"immediate\", \"transition\": {\"duration\": 0, \"easing\": \"linear\"}}], \"label\": \"36\", \"method\": \"animate\"}, {\"args\": [[\"42\"], {\"frame\": {\"duration\": 0, \"redraw\": true}, \"fromcurrent\": true, \"mode\": \"immediate\", \"transition\": {\"duration\": 0, \"easing\": \"linear\"}}], \"label\": \"42\", \"method\": \"animate\"}, {\"args\": [[\"48\"], {\"frame\": {\"duration\": 0, \"redraw\": true}, \"fromcurrent\": true, \"mode\": \"immediate\", \"transition\": {\"duration\": 0, \"easing\": \"linear\"}}], \"label\": \"48\", \"method\": \"animate\"}, {\"args\": [[\"54\"], {\"frame\": {\"duration\": 0, \"redraw\": true}, \"fromcurrent\": true, \"mode\": \"immediate\", \"transition\": {\"duration\": 0, \"easing\": \"linear\"}}], \"label\": \"54\", \"method\": \"animate\"}, {\"args\": [[\"60\"], {\"frame\": {\"duration\": 0, \"redraw\": true}, \"fromcurrent\": true, \"mode\": \"immediate\", \"transition\": {\"duration\": 0, \"easing\": \"linear\"}}], \"label\": \"60\", \"method\": \"animate\"}, {\"args\": [[\"66\"], {\"frame\": {\"duration\": 0, \"redraw\": true}, \"fromcurrent\": true, \"mode\": \"immediate\", \"transition\": {\"duration\": 0, \"easing\": \"linear\"}}], \"label\": \"66\", \"method\": \"animate\"}, {\"args\": [[\"72\"], {\"frame\": {\"duration\": 0, \"redraw\": true}, \"fromcurrent\": true, \"mode\": \"immediate\", \"transition\": {\"duration\": 0, \"easing\": \"linear\"}}], \"label\": \"72\", \"method\": \"animate\"}, {\"args\": [[\"78\"], {\"frame\": {\"duration\": 0, \"redraw\": true}, \"fromcurrent\": true, \"mode\": \"immediate\", \"transition\": {\"duration\": 0, \"easing\": \"linear\"}}], \"label\": \"78\", \"method\": \"animate\"}, {\"args\": [[\"84\"], {\"frame\": {\"duration\": 0, \"redraw\": true}, \"fromcurrent\": true, \"mode\": \"immediate\", \"transition\": {\"duration\": 0, \"easing\": \"linear\"}}], \"label\": \"84\", \"method\": \"animate\"}, {\"args\": [[\"90\"], {\"frame\": {\"duration\": 0, \"redraw\": true}, \"fromcurrent\": true, \"mode\": \"immediate\", \"transition\": {\"duration\": 0, \"easing\": \"linear\"}}], \"label\": \"90\", \"method\": \"animate\"}, {\"args\": [[\"96\"], {\"frame\": {\"duration\": 0, \"redraw\": true}, \"fromcurrent\": true, \"mode\": \"immediate\", \"transition\": {\"duration\": 0, \"easing\": \"linear\"}}], \"label\": \"96\", \"method\": \"animate\"}, {\"args\": [[\"102\"], {\"frame\": {\"duration\": 0, \"redraw\": true}, \"fromcurrent\": true, \"mode\": \"immediate\", \"transition\": {\"duration\": 0, \"easing\": \"linear\"}}], \"label\": \"102\", \"method\": \"animate\"}, {\"args\": [[\"108\"], {\"frame\": {\"duration\": 0, \"redraw\": true}, \"fromcurrent\": true, \"mode\": \"immediate\", \"transition\": {\"duration\": 0, \"easing\": \"linear\"}}], \"label\": \"108\", \"method\": \"animate\"}, {\"args\": [[\"114\"], {\"frame\": {\"duration\": 0, \"redraw\": true}, \"fromcurrent\": true, \"mode\": \"immediate\", \"transition\": {\"duration\": 0, \"easing\": \"linear\"}}], \"label\": \"114\", \"method\": \"animate\"}, {\"args\": [[\"120\"], {\"frame\": {\"duration\": 0, \"redraw\": true}, \"fromcurrent\": true, \"mode\": \"immediate\", \"transition\": {\"duration\": 0, \"easing\": \"linear\"}}], \"label\": \"120\", \"method\": \"animate\"}, {\"args\": [[\"126\"], {\"frame\": {\"duration\": 0, \"redraw\": true}, \"fromcurrent\": true, \"mode\": \"immediate\", \"transition\": {\"duration\": 0, \"easing\": \"linear\"}}], \"label\": \"126\", \"method\": \"animate\"}, {\"args\": [[\"132\"], {\"frame\": {\"duration\": 0, \"redraw\": true}, \"fromcurrent\": true, \"mode\": \"immediate\", \"transition\": {\"duration\": 0, \"easing\": \"linear\"}}], \"label\": \"132\", \"method\": \"animate\"}, {\"args\": [[\"138\"], {\"frame\": {\"duration\": 0, \"redraw\": true}, \"fromcurrent\": true, \"mode\": \"immediate\", \"transition\": {\"duration\": 0, \"easing\": \"linear\"}}], \"label\": \"138\", \"method\": \"animate\"}, {\"args\": [[\"144\"], {\"frame\": {\"duration\": 0, \"redraw\": true}, \"fromcurrent\": true, \"mode\": \"immediate\", \"transition\": {\"duration\": 0, \"easing\": \"linear\"}}], \"label\": \"144\", \"method\": \"animate\"}, {\"args\": [[\"150\"], {\"frame\": {\"duration\": 0, \"redraw\": true}, \"fromcurrent\": true, \"mode\": \"immediate\", \"transition\": {\"duration\": 0, \"easing\": \"linear\"}}], \"label\": \"150\", \"method\": \"animate\"}, {\"args\": [[\"156\"], {\"frame\": {\"duration\": 0, \"redraw\": true}, \"fromcurrent\": true, \"mode\": \"immediate\", \"transition\": {\"duration\": 0, \"easing\": \"linear\"}}], \"label\": \"156\", \"method\": \"animate\"}, {\"args\": [[\"162\"], {\"frame\": {\"duration\": 0, \"redraw\": true}, \"fromcurrent\": true, \"mode\": \"immediate\", \"transition\": {\"duration\": 0, \"easing\": \"linear\"}}], \"label\": \"162\", \"method\": \"animate\"}, {\"args\": [[\"168\"], {\"frame\": {\"duration\": 0, \"redraw\": true}, \"fromcurrent\": true, \"mode\": \"immediate\", \"transition\": {\"duration\": 0, \"easing\": \"linear\"}}], \"label\": \"168\", \"method\": \"animate\"}, {\"args\": [[\"174\"], {\"frame\": {\"duration\": 0, \"redraw\": true}, \"fromcurrent\": true, \"mode\": \"immediate\", \"transition\": {\"duration\": 0, \"easing\": \"linear\"}}], \"label\": \"174\", \"method\": \"animate\"}, {\"args\": [[\"180\"], {\"frame\": {\"duration\": 0, \"redraw\": true}, \"fromcurrent\": true, \"mode\": \"immediate\", \"transition\": {\"duration\": 0, \"easing\": \"linear\"}}], \"label\": \"180\", \"method\": \"animate\"}, {\"args\": [[\"186\"], {\"frame\": {\"duration\": 0, \"redraw\": true}, \"fromcurrent\": true, \"mode\": \"immediate\", \"transition\": {\"duration\": 0, \"easing\": \"linear\"}}], \"label\": \"186\", \"method\": \"animate\"}, {\"args\": [[\"192\"], {\"frame\": {\"duration\": 0, \"redraw\": true}, \"fromcurrent\": true, \"mode\": \"immediate\", \"transition\": {\"duration\": 0, \"easing\": \"linear\"}}], \"label\": \"192\", \"method\": \"animate\"}, {\"args\": [[\"198\"], {\"frame\": {\"duration\": 0, \"redraw\": true}, \"fromcurrent\": true, \"mode\": \"immediate\", \"transition\": {\"duration\": 0, \"easing\": \"linear\"}}], \"label\": \"198\", \"method\": \"animate\"}, {\"args\": [[\"204\"], {\"frame\": {\"duration\": 0, \"redraw\": true}, \"fromcurrent\": true, \"mode\": \"immediate\", \"transition\": {\"duration\": 0, \"easing\": \"linear\"}}], \"label\": \"204\", \"method\": \"animate\"}, {\"args\": [[\"210\"], {\"frame\": {\"duration\": 0, \"redraw\": true}, \"fromcurrent\": true, \"mode\": \"immediate\", \"transition\": {\"duration\": 0, \"easing\": \"linear\"}}], \"label\": \"210\", \"method\": \"animate\"}, {\"args\": [[\"216\"], {\"frame\": {\"duration\": 0, \"redraw\": true}, \"fromcurrent\": true, \"mode\": \"immediate\", \"transition\": {\"duration\": 0, \"easing\": \"linear\"}}], \"label\": \"216\", \"method\": \"animate\"}, {\"args\": [[\"222\"], {\"frame\": {\"duration\": 0, \"redraw\": true}, \"fromcurrent\": true, \"mode\": \"immediate\", \"transition\": {\"duration\": 0, \"easing\": \"linear\"}}], \"label\": \"222\", \"method\": \"animate\"}, {\"args\": [[\"228\"], {\"frame\": {\"duration\": 0, \"redraw\": true}, \"fromcurrent\": true, \"mode\": \"immediate\", \"transition\": {\"duration\": 0, \"easing\": \"linear\"}}], \"label\": \"228\", \"method\": \"animate\"}, {\"args\": [[\"234\"], {\"frame\": {\"duration\": 0, \"redraw\": true}, \"fromcurrent\": true, \"mode\": \"immediate\", \"transition\": {\"duration\": 0, \"easing\": \"linear\"}}], \"label\": \"234\", \"method\": \"animate\"}, {\"args\": [[\"240\"], {\"frame\": {\"duration\": 0, \"redraw\": true}, \"fromcurrent\": true, \"mode\": \"immediate\", \"transition\": {\"duration\": 0, \"easing\": \"linear\"}}], \"label\": \"240\", \"method\": \"animate\"}, {\"args\": [[\"246\"], {\"frame\": {\"duration\": 0, \"redraw\": true}, \"fromcurrent\": true, \"mode\": \"immediate\", \"transition\": {\"duration\": 0, \"easing\": \"linear\"}}], \"label\": \"246\", \"method\": \"animate\"}, {\"args\": [[\"252\"], {\"frame\": {\"duration\": 0, \"redraw\": true}, \"fromcurrent\": true, \"mode\": \"immediate\", \"transition\": {\"duration\": 0, \"easing\": \"linear\"}}], \"label\": \"252\", \"method\": \"animate\"}, {\"args\": [[\"258\"], {\"frame\": {\"duration\": 0, \"redraw\": true}, \"fromcurrent\": true, \"mode\": \"immediate\", \"transition\": {\"duration\": 0, \"easing\": \"linear\"}}], \"label\": \"258\", \"method\": \"animate\"}, {\"args\": [[\"264\"], {\"frame\": {\"duration\": 0, \"redraw\": true}, \"fromcurrent\": true, \"mode\": \"immediate\", \"transition\": {\"duration\": 0, \"easing\": \"linear\"}}], \"label\": \"264\", \"method\": \"animate\"}, {\"args\": [[\"270\"], {\"frame\": {\"duration\": 0, \"redraw\": true}, \"fromcurrent\": true, \"mode\": \"immediate\", \"transition\": {\"duration\": 0, \"easing\": \"linear\"}}], \"label\": \"270\", \"method\": \"animate\"}, {\"args\": [[\"276\"], {\"frame\": {\"duration\": 0, \"redraw\": true}, \"fromcurrent\": true, \"mode\": \"immediate\", \"transition\": {\"duration\": 0, \"easing\": \"linear\"}}], \"label\": \"276\", \"method\": \"animate\"}, {\"args\": [[\"282\"], {\"frame\": {\"duration\": 0, \"redraw\": true}, \"fromcurrent\": true, \"mode\": \"immediate\", \"transition\": {\"duration\": 0, \"easing\": \"linear\"}}], \"label\": \"282\", \"method\": \"animate\"}, {\"args\": [[\"288\"], {\"frame\": {\"duration\": 0, \"redraw\": true}, \"fromcurrent\": true, \"mode\": \"immediate\", \"transition\": {\"duration\": 0, \"easing\": \"linear\"}}], \"label\": \"288\", \"method\": \"animate\"}, {\"args\": [[\"294\"], {\"frame\": {\"duration\": 0, \"redraw\": true}, \"fromcurrent\": true, \"mode\": \"immediate\", \"transition\": {\"duration\": 0, \"easing\": \"linear\"}}], \"label\": \"294\", \"method\": \"animate\"}, {\"args\": [[\"300\"], {\"frame\": {\"duration\": 0, \"redraw\": true}, \"fromcurrent\": true, \"mode\": \"immediate\", \"transition\": {\"duration\": 0, \"easing\": \"linear\"}}], \"label\": \"300\", \"method\": \"animate\"}], \"x\": 0.1, \"xanchor\": \"left\", \"y\": 0, \"yanchor\": \"top\"}], \"template\": {\"data\": {\"bar\": [{\"error_x\": {\"color\": \"rgb(51,51,51)\"}, \"error_y\": {\"color\": \"rgb(51,51,51)\"}, \"marker\": {\"line\": {\"color\": \"rgb(237,237,237)\", \"width\": 0.5}}, \"type\": \"bar\"}], \"barpolar\": [{\"marker\": {\"line\": {\"color\": \"rgb(237,237,237)\", \"width\": 0.5}}, \"type\": \"barpolar\"}], \"carpet\": [{\"aaxis\": {\"endlinecolor\": \"rgb(51,51,51)\", \"gridcolor\": \"white\", \"linecolor\": \"white\", \"minorgridcolor\": \"white\", \"startlinecolor\": \"rgb(51,51,51)\"}, \"baxis\": {\"endlinecolor\": \"rgb(51,51,51)\", \"gridcolor\": \"white\", \"linecolor\": \"white\", \"minorgridcolor\": \"white\", \"startlinecolor\": \"rgb(51,51,51)\"}, \"type\": \"carpet\"}], \"choropleth\": [{\"colorbar\": {\"outlinewidth\": 0, \"tickcolor\": \"rgb(237,237,237)\", \"ticklen\": 6, \"ticks\": \"inside\"}, \"type\": \"choropleth\"}], \"contour\": [{\"colorbar\": {\"outlinewidth\": 0, \"tickcolor\": \"rgb(237,237,237)\", \"ticklen\": 6, \"ticks\": \"inside\"}, \"colorscale\": [[0, \"rgb(20,44,66)\"], [1, \"rgb(90,179,244)\"]], \"type\": \"contour\"}], \"contourcarpet\": [{\"colorbar\": {\"outlinewidth\": 0, \"tickcolor\": \"rgb(237,237,237)\", \"ticklen\": 6, \"ticks\": \"inside\"}, \"type\": \"contourcarpet\"}], \"heatmap\": [{\"colorbar\": {\"outlinewidth\": 0, \"tickcolor\": \"rgb(237,237,237)\", \"ticklen\": 6, \"ticks\": \"inside\"}, \"colorscale\": [[0, \"rgb(20,44,66)\"], [1, \"rgb(90,179,244)\"]], \"type\": \"heatmap\"}], \"heatmapgl\": [{\"colorbar\": {\"outlinewidth\": 0, \"tickcolor\": \"rgb(237,237,237)\", \"ticklen\": 6, \"ticks\": \"inside\"}, \"colorscale\": [[0, \"rgb(20,44,66)\"], [1, \"rgb(90,179,244)\"]], \"type\": \"heatmapgl\"}], \"histogram\": [{\"marker\": {\"colorbar\": {\"outlinewidth\": 0, \"tickcolor\": \"rgb(237,237,237)\", \"ticklen\": 6, \"ticks\": \"inside\"}}, \"type\": \"histogram\"}], \"histogram2d\": [{\"colorbar\": {\"outlinewidth\": 0, \"tickcolor\": \"rgb(237,237,237)\", \"ticklen\": 6, \"ticks\": \"inside\"}, \"colorscale\": [[0, \"rgb(20,44,66)\"], [1, \"rgb(90,179,244)\"]], \"type\": \"histogram2d\"}], \"histogram2dcontour\": [{\"colorbar\": {\"outlinewidth\": 0, \"tickcolor\": \"rgb(237,237,237)\", \"ticklen\": 6, \"ticks\": \"inside\"}, \"colorscale\": [[0, \"rgb(20,44,66)\"], [1, \"rgb(90,179,244)\"]], \"type\": \"histogram2dcontour\"}], \"mesh3d\": [{\"colorbar\": {\"outlinewidth\": 0, \"tickcolor\": \"rgb(237,237,237)\", \"ticklen\": 6, \"ticks\": \"inside\"}, \"type\": \"mesh3d\"}], \"parcoords\": [{\"line\": {\"colorbar\": {\"outlinewidth\": 0, \"tickcolor\": \"rgb(237,237,237)\", \"ticklen\": 6, \"ticks\": \"inside\"}}, \"type\": \"parcoords\"}], \"pie\": [{\"automargin\": true, \"type\": \"pie\"}], \"scatter\": [{\"marker\": {\"colorbar\": {\"outlinewidth\": 0, \"tickcolor\": \"rgb(237,237,237)\", \"ticklen\": 6, \"ticks\": \"inside\"}}, \"type\": \"scatter\"}], \"scatter3d\": [{\"line\": {\"colorbar\": {\"outlinewidth\": 0, \"tickcolor\": \"rgb(237,237,237)\", \"ticklen\": 6, \"ticks\": \"inside\"}}, \"marker\": {\"colorbar\": {\"outlinewidth\": 0, \"tickcolor\": \"rgb(237,237,237)\", \"ticklen\": 6, \"ticks\": \"inside\"}}, \"type\": \"scatter3d\"}], \"scattercarpet\": [{\"marker\": {\"colorbar\": {\"outlinewidth\": 0, \"tickcolor\": \"rgb(237,237,237)\", \"ticklen\": 6, \"ticks\": \"inside\"}}, \"type\": \"scattercarpet\"}], \"scattergeo\": [{\"marker\": {\"colorbar\": {\"outlinewidth\": 0, \"tickcolor\": \"rgb(237,237,237)\", \"ticklen\": 6, \"ticks\": \"inside\"}}, \"type\": \"scattergeo\"}], \"scattergl\": [{\"marker\": {\"colorbar\": {\"outlinewidth\": 0, \"tickcolor\": \"rgb(237,237,237)\", \"ticklen\": 6, \"ticks\": \"inside\"}}, \"type\": \"scattergl\"}], \"scattermapbox\": [{\"marker\": {\"colorbar\": {\"outlinewidth\": 0, \"tickcolor\": \"rgb(237,237,237)\", \"ticklen\": 6, \"ticks\": \"inside\"}}, \"type\": \"scattermapbox\"}], \"scatterpolar\": [{\"marker\": {\"colorbar\": {\"outlinewidth\": 0, \"tickcolor\": \"rgb(237,237,237)\", \"ticklen\": 6, \"ticks\": \"inside\"}}, \"type\": \"scatterpolar\"}], \"scatterpolargl\": [{\"marker\": {\"colorbar\": {\"outlinewidth\": 0, \"tickcolor\": \"rgb(237,237,237)\", \"ticklen\": 6, \"ticks\": \"inside\"}}, \"type\": \"scatterpolargl\"}], \"scatterternary\": [{\"marker\": {\"colorbar\": {\"outlinewidth\": 0, \"tickcolor\": \"rgb(237,237,237)\", \"ticklen\": 6, \"ticks\": \"inside\"}}, \"type\": \"scatterternary\"}], \"surface\": [{\"colorbar\": {\"outlinewidth\": 0, \"tickcolor\": \"rgb(237,237,237)\", \"ticklen\": 6, \"ticks\": \"inside\"}, \"colorscale\": [[0, \"rgb(20,44,66)\"], [1, \"rgb(90,179,244)\"]], \"type\": \"surface\"}], \"table\": [{\"cells\": {\"fill\": {\"color\": \"rgb(237,237,237)\"}, \"line\": {\"color\": \"white\"}}, \"header\": {\"fill\": {\"color\": \"rgb(217,217,217)\"}, \"line\": {\"color\": \"white\"}}, \"type\": \"table\"}]}, \"layout\": {\"annotationdefaults\": {\"arrowhead\": 0, \"arrowwidth\": 1}, \"coloraxis\": {\"colorbar\": {\"outlinewidth\": 0, \"tickcolor\": \"rgb(237,237,237)\", \"ticklen\": 6, \"ticks\": \"inside\"}}, \"colorscale\": {\"sequential\": [[0, \"rgb(20,44,66)\"], [1, \"rgb(90,179,244)\"]], \"sequentialminus\": [[0, \"rgb(20,44,66)\"], [1, \"rgb(90,179,244)\"]]}, \"colorway\": [\"#F8766D\", \"#A3A500\", \"#00BF7D\", \"#00B0F6\", \"#E76BF3\"], \"font\": {\"color\": \"rgb(51,51,51)\"}, \"geo\": {\"bgcolor\": \"white\", \"lakecolor\": \"white\", \"landcolor\": \"rgb(237,237,237)\", \"showlakes\": true, \"showland\": true, \"subunitcolor\": \"white\"}, \"hoverlabel\": {\"align\": \"left\"}, \"hovermode\": \"closest\", \"paper_bgcolor\": \"white\", \"plot_bgcolor\": \"rgb(237,237,237)\", \"polar\": {\"angularaxis\": {\"gridcolor\": \"white\", \"linecolor\": \"white\", \"showgrid\": true, \"tickcolor\": \"rgb(51,51,51)\", \"ticks\": \"outside\"}, \"bgcolor\": \"rgb(237,237,237)\", \"radialaxis\": {\"gridcolor\": \"white\", \"linecolor\": \"white\", \"showgrid\": true, \"tickcolor\": \"rgb(51,51,51)\", \"ticks\": \"outside\"}}, \"scene\": {\"xaxis\": {\"backgroundcolor\": \"rgb(237,237,237)\", \"gridcolor\": \"white\", \"gridwidth\": 2, \"linecolor\": \"white\", \"showbackground\": true, \"showgrid\": true, \"tickcolor\": \"rgb(51,51,51)\", \"ticks\": \"outside\", \"zerolinecolor\": \"white\"}, \"yaxis\": {\"backgroundcolor\": \"rgb(237,237,237)\", \"gridcolor\": \"white\", \"gridwidth\": 2, \"linecolor\": \"white\", \"showbackground\": true, \"showgrid\": true, \"tickcolor\": \"rgb(51,51,51)\", \"ticks\": \"outside\", \"zerolinecolor\": \"white\"}, \"zaxis\": {\"backgroundcolor\": \"rgb(237,237,237)\", \"gridcolor\": \"white\", \"gridwidth\": 2, \"linecolor\": \"white\", \"showbackground\": true, \"showgrid\": true, \"tickcolor\": \"rgb(51,51,51)\", \"ticks\": \"outside\", \"zerolinecolor\": \"white\"}}, \"shapedefaults\": {\"fillcolor\": \"black\", \"line\": {\"width\": 0}, \"opacity\": 0.3}, \"ternary\": {\"aaxis\": {\"gridcolor\": \"white\", \"linecolor\": \"white\", \"showgrid\": true, \"tickcolor\": \"rgb(51,51,51)\", \"ticks\": \"outside\"}, \"baxis\": {\"gridcolor\": \"white\", \"linecolor\": \"white\", \"showgrid\": true, \"tickcolor\": \"rgb(51,51,51)\", \"ticks\": \"outside\"}, \"bgcolor\": \"rgb(237,237,237)\", \"caxis\": {\"gridcolor\": \"white\", \"linecolor\": \"white\", \"showgrid\": true, \"tickcolor\": \"rgb(51,51,51)\", \"ticks\": \"outside\"}}, \"xaxis\": {\"automargin\": true, \"gridcolor\": \"white\", \"linecolor\": \"white\", \"showgrid\": true, \"tickcolor\": \"rgb(51,51,51)\", \"ticks\": \"outside\", \"title\": {\"standoff\": 15}, \"zerolinecolor\": \"white\"}, \"yaxis\": {\"automargin\": true, \"gridcolor\": \"white\", \"linecolor\": \"white\", \"showgrid\": true, \"tickcolor\": \"rgb(51,51,51)\", \"ticks\": \"outside\", \"title\": {\"standoff\": 15}, \"zerolinecolor\": \"white\"}}}, \"title\": {\"text\": \"Weather Event Developments Over Time\"}, \"updatemenus\": [{\"buttons\": [{\"args\": [null, {\"frame\": {\"duration\": 500, \"redraw\": true}, \"fromcurrent\": true, \"mode\": \"immediate\", \"transition\": {\"duration\": 500, \"easing\": \"linear\"}}], \"label\": \"&#9654;\", \"method\": \"animate\"}, {\"args\": [[null], {\"frame\": {\"duration\": 0, \"redraw\": true}, \"fromcurrent\": true, \"mode\": \"immediate\", \"transition\": {\"duration\": 0, \"easing\": \"linear\"}}], \"label\": \"&#9724;\", \"method\": \"animate\"}], \"direction\": \"left\", \"pad\": {\"r\": 10, \"t\": 70}, \"showactive\": false, \"type\": \"buttons\", \"x\": 0.1, \"xanchor\": \"right\", \"y\": 0, \"yanchor\": \"top\"}]},\n",
       "                        {\"responsive\": true}\n",
       "                    ).then(function(){\n",
       "                            Plotly.addFrames('09d517c5-432a-4acb-a427-8069443209d8', [{\"data\": [{\"geo\": \"geo\", \"hoverlabel\": {\"namelength\": 0}, \"hovertemplate\": \"<b>%{hovertext}</b><br><br>Hours=0<br>Maximum.Wind=%{marker.size}<br>Latitude=%{lat}<br>Longitude=%{lon}<br>Status=%{marker.color}\", \"hovertext\": [\"            ALBERTO\", \"            ALLISON\", \"               ALEX\", \"               ALEX\", \"             ARTHUR\", \"                BOB\", \"             BONNIE\", \"             ARLENE\", \"             BERTHA\", \"             BONNIE\", \"             BERTHA\", \"             ALICIA\", \"          CLAUDETTE\", \"             BERTHA\", \"                BOB\", \"              CESAR\", \"               BILL\", \"               BRET\", \"            ALBERTO\", \"            CHARLEY\"], \"lat\": [21.7, 17.4, 30.3, 16.4, 27.7, 26.0, 25.6, 25.0, 9.8, 14.7, 12.7, 27.3, 34.0, 29.3, 25.6, 11.8, 30.4, 19.5, 10.8, 11.4], \"legendgroup\": \"\", \"lon\": [-87.1, -84.3, -78.3, -83.1, -78.9, -85.0, -87.2, -78.0, -34.0, -48.1, -22.9, -90.5, -74.0, -75.6, -74.3, -62.6, -69.9, -94.4, -18.0, -59.2], \"marker\": {\"color\": [0, 0, 0, 0, 0, 0, 0, 0, 0, 0, 0, 0, 1, 0, 0, 0, 0, 0, 0, 0], \"coloraxis\": \"coloraxis\", \"size\": [20, 30, 25, 30, 30, 25, 25, 25, 30, 25, 30, 30, 35, 30, 25, 25, 30, 30, 25, 30], \"sizemode\": \"area\", \"sizeref\": 0.3125}, \"name\": \"\", \"showlegend\": false, \"type\": \"scattergeo\"}], \"name\": \"0\"}, {\"data\": [{\"geo\": \"geo\", \"hoverlabel\": {\"namelength\": 0}, \"hovertemplate\": \"<b>%{hovertext}</b><br><br>Hours=6<br>Maximum.Wind=%{marker.size}<br>Latitude=%{lat}<br>Longitude=%{lon}<br>Status=%{marker.color}\", \"hovertext\": [\"            ALBERTO\", \"            ALLISON\", \"               ALEX\", \"               ALEX\", \"             ARTHUR\", \"                BOB\", \"             BONNIE\", \"             ARLENE\", \"             BERTHA\", \"             BONNIE\", \"             BERTHA\", \"             ALICIA\", \"          CLAUDETTE\", \"             BERTHA\", \"                BOB\", \"              CESAR\", \"               BILL\", \"               BRET\", \"            ALBERTO\", \"            CHARLEY\"], \"lat\": [22.2, 18.3, 31.0, 16.6, 27.5, 25.8, 25.7, 26.2, 10.2, 15.4, 13.1, 27.2, 34.3, 29.1, 25.7, 11.9, 31.8, 19.5, 11.5, 11.7], \"legendgroup\": \"\", \"lon\": [-86.5, -84.9, -78.8, -83.9, -79.1, -84.9, -87.8, -78.2, -36.3, -50.1, -24.0, -91.0, -72.7, -75.8, -74.9, -64.7, -68.9, -94.5, -20.1, -61.1], \"marker\": {\"color\": [0, 0, 0, 0, 0, 0, 0, 0, 0, 0, 1, 1, 1, 0, 0, 0, 1, 0, 0, 0], \"coloraxis\": \"coloraxis\", \"size\": [25, 30, 25, 30, 30, 25, 25, 25, 30, 30, 35, 40, 35, 30, 25, 25, 40, 30, 30, 30], \"sizemode\": \"area\", \"sizeref\": 0.3125}, \"name\": \"\", \"showlegend\": false, \"type\": \"scattergeo\"}], \"name\": \"6\"}, {\"data\": [{\"geo\": \"geo\", \"hoverlabel\": {\"namelength\": 0}, \"hovertemplate\": \"<b>%{hovertext}</b><br><br>Hours=12<br>Maximum.Wind=%{marker.size}<br>Latitude=%{lat}<br>Longitude=%{lon}<br>Status=%{marker.color}\", \"hovertext\": [\"            ALBERTO\", \"            ALLISON\", \"               ALEX\", \"               ALEX\", \"             ARTHUR\", \"                BOB\", \"             BONNIE\", \"             ARLENE\", \"             BERTHA\", \"             BONNIE\", \"             BERTHA\", \"             ALICIA\", \"          CLAUDETTE\", \"             BERTHA\", \"                BOB\", \"              CESAR\", \"               BILL\", \"               BRET\", \"            ALBERTO\", \"            CHARLEY\"], \"lat\": [22.6, 19.3, 31.5, 16.7, 27.5, 25.6, 26.0, 27.2, 11.0, 16.2, 13.2, 27.1, 34.5, 28.8, 25.9, 11.9, 33.1, 19.6, 12.0, 12.2], \"legendgroup\": \"\", \"lon\": [-85.8, -85.7, -79.0, -84.9, -79.2, -84.7, -88.4, -77.2, -39.0, -52.2, -25.2, -91.5, -71.5, -76.0, -75.4, -66.5, -67.6, -94.6, -22.3, -63.2], \"marker\": {\"color\": [0, 1, 0, 1, 1, 0, 0, 0, 1, 0, 1, 1, 1, 0, 0, 0, 1, 0, 1, 0], \"coloraxis\": \"coloraxis\", \"size\": [30, 35, 25, 40, 35, 25, 25, 25, 35, 30, 35, 45, 35, 30, 30, 30, 45, 30, 35, 30], \"sizemode\": \"area\", \"sizeref\": 0.3125}, \"name\": \"\", \"showlegend\": false, \"type\": \"scattergeo\"}], \"name\": \"12\"}, {\"data\": [{\"geo\": \"geo\", \"hoverlabel\": {\"namelength\": 0}, \"hovertemplate\": \"<b>%{hovertext}</b><br><br>Hours=18<br>Maximum.Wind=%{marker.size}<br>Latitude=%{lat}<br>Longitude=%{lon}<br>Status=%{marker.color}\", \"hovertext\": [\"            ALBERTO\", \"            ALLISON\", \"               ALEX\", \"               ALEX\", \"             ARTHUR\", \"                BOB\", \"             BONNIE\", \"             ARLENE\", \"             BERTHA\", \"             BONNIE\", \"             BERTHA\", \"             ALICIA\", \"          CLAUDETTE\", \"             BERTHA\", \"                BOB\", \"              CESAR\", \"               BILL\", \"               BRET\", \"            ALBERTO\", \"            CHARLEY\"], \"lat\": [22.8, 20.6, 31.6, 16.9, 27.7, 25.6, 26.4, 28.3, 12.0, 16.9, 13.4, 27.0, 34.7, 28.6, 26.4, 12.1, 34.7, 19.7, 12.3, 12.9], \"legendgroup\": \"\", \"lon\": [-85.0, -85.8, -79.1, -86.1, -79.3, -84.4, -88.9, -75.7, -41.2, -54.7, -26.5, -92.0, -70.3, -75.8, -75.8, -68.1, -65.8, -94.6, -23.8, -65.3], \"marker\": {\"color\": [1, 1, 0, 1, 1, 0, 0, 0, 1, 0, 1, 1, 1, 1, 1, 1, 1, 0, 1, 1], \"coloraxis\": \"coloraxis\", \"size\": [40, 40, 30, 40, 40, 25, 30, 25, 35, 30, 40, 50, 40, 35, 35, 40, 50, 30, 35, 35], \"sizemode\": \"area\", \"sizeref\": 0.3125}, \"name\": \"\", \"showlegend\": false, \"type\": \"scattergeo\"}], \"name\": \"18\"}, {\"data\": [{\"geo\": \"geo\", \"hoverlabel\": {\"namelength\": 0}, \"hovertemplate\": \"<b>%{hovertext}</b><br><br>Hours=24<br>Maximum.Wind=%{marker.size}<br>Latitude=%{lat}<br>Longitude=%{lon}<br>Status=%{marker.color}\", \"hovertext\": [\"            ALBERTO\", \"            ALLISON\", \"               ALEX\", \"               ALEX\", \"             ARTHUR\", \"                BOB\", \"             BONNIE\", \"             ARLENE\", \"             BERTHA\", \"             BONNIE\", \"             BERTHA\", \"             ALICIA\", \"          CLAUDETTE\", \"             BERTHA\", \"                BOB\", \"              CESAR\", \"               BILL\", \"               BRET\", \"            ALBERTO\", \"            CHARLEY\"], \"lat\": [23.2, 22.0, 31.6, 17.2, 27.9, 25.8, 26.6, 29.4, 12.7, 17.3, 14.0, 27.1, 34.8, 28.8, 27.1, 12.3, 36.3, 19.8, 12.7, 13.8], \"legendgroup\": \"\", \"lon\": [-84.2, -86.0, -79.2, -87.2, -79.2, -84.2, -89.5, -74.4, -43.9, -57.3, -27.8, -92.4, -69.1, -75.4, -76.2, -69.6, -63.6, -94.7, -25.2, -67.6], \"marker\": {\"color\": [1, 1, 1, 1, 1, 0, 1, 1, 1, 1, 1, 1, 1, 1, 1, 1, 1, 1, 1, 1], \"coloraxis\": \"coloraxis\", \"size\": [50, 50, 35, 55, 45, 30, 40, 35, 35, 35, 40, 55, 40, 40, 40, 40, 60, 35, 40, 40], \"sizemode\": \"area\", \"sizeref\": 0.3125}, \"name\": \"\", \"showlegend\": false, \"type\": \"scattergeo\"}], \"name\": \"24\"}, {\"data\": [{\"geo\": \"geo\", \"hoverlabel\": {\"namelength\": 0}, \"hovertemplate\": \"<b>%{hovertext}</b><br><br>Hours=30<br>Maximum.Wind=%{marker.size}<br>Latitude=%{lat}<br>Longitude=%{lon}<br>Status=%{marker.color}\", \"hovertext\": [\"            ALBERTO\", \"            ALLISON\", \"               ALEX\", \"               ALEX\", \"             ARTHUR\", \"                BOB\", \"             BONNIE\", \"             ARLENE\", \"             BERTHA\", \"             BONNIE\", \"             BERTHA\", \"             ALICIA\", \"          CLAUDETTE\", \"             BERTHA\", \"                BOB\", \"              CESAR\", \"               BILL\", \"               BRET\", \"            ALBERTO\", \"            CHARLEY\"], \"lat\": [24.0, 23.3, 31.5, 18.0, 28.2, 26.0, 26.7, 30.7, 13.1, 18.2, 14.8, 27.3, 34.7, 29.1, 27.8, 12.4, 37.9, 19.8, 13.2, 14.9], \"legendgroup\": \"\", \"lon\": [-83.6, -86.3, -79.3, -89.1, -79.1, -84.0, -90.3, -73.2, -46.6, -59.6, -29.2, -92.8, -67.7, -74.8, -76.5, -71.0, -61.1, -94.7, -26.7, -69.8], \"marker\": {\"color\": [2, 1, 1, 1, 1, 0, 1, 1, 1, 1, 1, 1, 1, 1, 1, 1, 2, 1, 1, 1], \"coloraxis\": \"coloraxis\", \"size\": [75, 60, 35, 55, 50, 30, 45, 40, 35, 35, 45, 60, 45, 45, 45, 40, 65, 40, 40, 45], \"sizemode\": \"area\", \"sizeref\": 0.3125}, \"name\": \"\", \"showlegend\": false, \"type\": \"scattergeo\"}], \"name\": \"30\"}, {\"data\": [{\"geo\": \"geo\", \"hoverlabel\": {\"namelength\": 0}, \"hovertemplate\": \"<b>%{hovertext}</b><br><br>Hours=36<br>Maximum.Wind=%{marker.size}<br>Latitude=%{lat}<br>Longitude=%{lon}<br>Status=%{marker.color}\", \"hovertext\": [\"            ALBERTO\", \"            ALLISON\", \"               ALEX\", \"               ALEX\", \"             ARTHUR\", \"                BOB\", \"             BONNIE\", \"             ARLENE\", \"             BERTHA\", \"             BONNIE\", \"             BERTHA\", \"             ALICIA\", \"          CLAUDETTE\", \"             BERTHA\", \"                BOB\", \"              CESAR\", \"               BILL\", \"               BRET\", \"            ALBERTO\", \"            CHARLEY\"], \"lat\": [24.8, 24.7, 31.4, 18.5, 28.7, 26.2, 26.8, 31.4, 13.7, 18.7, 15.4, 27.4, 34.5, 29.6, 28.4, 12.4, 39.6, 20.0, 13.7, 15.6], \"legendgroup\": \"\", \"lon\": [-83.4, -86.2, -79.4, -90.0, -79.0, -83.8, -91.0, -72.3, -48.7, -61.3, -30.8, -93.3, -66.4, -74.2, -76.9, -72.7, -58.4, -94.6, -28.2, -71.8], \"marker\": {\"color\": [2, 2, 1, 1, 1, 1, 1, 1, 1, 1, 1, 2, 1, 1, 1, 1, 2, 1, 1, 1], \"coloraxis\": \"coloraxis\", \"size\": [65, 65, 40, 45, 55, 35, 50, 40, 40, 40, 45, 65, 45, 55, 55, 40, 65, 45, 45, 55], \"sizemode\": \"area\", \"sizeref\": 0.3125}, \"name\": \"\", \"showlegend\": false, \"type\": \"scattergeo\"}], \"name\": \"36\"}, {\"data\": [{\"geo\": \"geo\", \"hoverlabel\": {\"namelength\": 0}, \"hovertemplate\": \"<b>%{hovertext}</b><br><br>Hours=42<br>Maximum.Wind=%{marker.size}<br>Latitude=%{lat}<br>Longitude=%{lon}<br>Status=%{marker.color}\", \"hovertext\": [\"            ALBERTO\", \"            ALLISON\", \"               ALEX\", \"               ALEX\", \"             ARTHUR\", \"                BOB\", \"             BONNIE\", \"             ARLENE\", \"             BERTHA\", \"             BONNIE\", \"             BERTHA\", \"             ALICIA\", \"          CLAUDETTE\", \"             BERTHA\", \"                BOB\", \"              CESAR\", \"               BILL\", \"               BRET\", \"            ALBERTO\", \"            CHARLEY\"], \"lat\": [24.9, 26.2, 31.3, 20.0, 29.4, 26.5, 27.2, 32.0, 14.2, 19.1, 15.8, 27.7, 34.4, 30.2, 29.0, 12.3, 41.6, 20.4, 14.1, 16.0], \"legendgroup\": \"\", \"lon\": [-84.1, -86.2, -79.0, -91.6, -79.1, -83.4, -91.7, -71.0, -51.0, -62.9, -32.6, -93.7, -64.9, -73.6, -77.1, -74.5, -55.4, -94.5, -29.8, -73.7], \"marker\": {\"color\": [1, 2, 1, 1, 1, 1, 1, 1, 1, 1, 1, 2, 1, 2, 2, 1, 1, 1, 1, 1], \"coloraxis\": \"coloraxis\", \"size\": [55, 65, 50, 50, 60, 35, 55, 45, 45, 45, 45, 70, 50, 65, 65, 45, 60, 50, 45, 55], \"sizemode\": \"area\", \"sizeref\": 0.3125}, \"name\": \"\", \"showlegend\": false, \"type\": \"scattergeo\"}], \"name\": \"42\"}, {\"data\": [{\"geo\": \"geo\", \"hoverlabel\": {\"namelength\": 0}, \"hovertemplate\": \"<b>%{hovertext}</b><br><br>Hours=48<br>Maximum.Wind=%{marker.size}<br>Latitude=%{lat}<br>Longitude=%{lon}<br>Status=%{marker.color}\", \"hovertext\": [\"            ALBERTO\", \"            ALLISON\", \"               ALEX\", \"               ALEX\", \"             ARTHUR\", \"                BOB\", \"             BONNIE\", \"             ARLENE\", \"             BERTHA\", \"             BONNIE\", \"             BERTHA\", \"             ALICIA\", \"          CLAUDETTE\", \"             BERTHA\", \"                BOB\", \"              CESAR\", \"               BRET\", \"            ALBERTO\", \"            CHARLEY\"], \"lat\": [25.5, 27.6, 31.8, 20.3, 30.1, 26.6, 27.7, 32.4, 14.9, 19.5, 16.3, 27.9, 34.5, 30.8, 29.7, 11.9, 21.2, 14.5, 16.3], \"legendgroup\": \"\", \"lon\": [-83.3, -86.1, -78.7, -91.7, -79.2, -82.9, -92.2, -69.7, -52.9, -64.5, -34.4, -94.2, -63.2, -73.0, -77.0, -76.1, -94.4, -31.4, -75.4], \"marker\": {\"color\": [0, 2, 1, 1, 2, 1, 2, 1, 1, 1, 1, 2, 1, 2, 2, 1, 1, 1, 1], \"coloraxis\": \"coloraxis\", \"size\": [25, 65, 50, 50, 65, 40, 65, 45, 50, 50, 45, 75, 50, 65, 70, 50, 55, 55, 60], \"sizemode\": \"area\", \"sizeref\": 0.3125}, \"name\": \"\", \"showlegend\": false, \"type\": \"scattergeo\"}], \"name\": \"48\"}, {\"data\": [{\"geo\": \"geo\", \"hoverlabel\": {\"namelength\": 0}, \"hovertemplate\": \"<b>%{hovertext}</b><br><br>Hours=54<br>Maximum.Wind=%{marker.size}<br>Latitude=%{lat}<br>Longitude=%{lon}<br>Status=%{marker.color}\", \"hovertext\": [\"            ALBERTO\", \"            ALLISON\", \"               ALEX\", \"               ALEX\", \"             ARTHUR\", \"                BOB\", \"             BONNIE\", \"             ARLENE\", \"             BERTHA\", \"             BONNIE\", \"             BERTHA\", \"             ALICIA\", \"          CLAUDETTE\", \"             BERTHA\", \"                BOB\", \"              CESAR\", \"               BRET\", \"            ALBERTO\", \"            CHARLEY\"], \"lat\": [25.5, 28.5, 32.4, 20.7, 30.9, 26.4, 28.2, 32.6, 15.6, 20.3, 16.4, 28.1, 35.1, 31.3, 30.5, 11.7, 21.9, 14.5, 16.7], \"legendgroup\": \"\", \"lon\": [-83.0, -85.6, -78.2, -91.7, -79.1, -82.3, -92.9, -68.3, -54.8, -65.9, -36.4, -94.5, -61.5, -72.2, -76.9, -77.2, -94.5, -33.2, -76.8], \"marker\": {\"color\": [0, 1, 1, 1, 2, 1, 2, 1, 1, 1, 1, 2, 1, 2, 2, 1, 2, 2, 2], \"coloraxis\": \"coloraxis\", \"size\": [25, 60, 60, 55, 70, 40, 70, 55, 55, 55, 45, 90, 55, 65, 75, 50, 65, 65, 65], \"sizemode\": \"area\", \"sizeref\": 0.3125}, \"name\": \"\", \"showlegend\": false, \"type\": \"scattergeo\"}], \"name\": \"54\"}, {\"data\": [{\"geo\": \"geo\", \"hoverlabel\": {\"namelength\": 0}, \"hovertemplate\": \"<b>%{hovertext}</b><br><br>Hours=60<br>Maximum.Wind=%{marker.size}<br>Latitude=%{lat}<br>Longitude=%{lon}<br>Status=%{marker.color}\", \"hovertext\": [\"            ALBERTO\", \"               ALEX\", \"               ALEX\", \"             ARTHUR\", \"                BOB\", \"             BONNIE\", \"             ARLENE\", \"             BERTHA\", \"             BONNIE\", \"             BERTHA\", \"             ALICIA\", \"          CLAUDETTE\", \"             BERTHA\", \"                BOB\", \"              CESAR\", \"               BRET\", \"            ALBERTO\", \"            CHARLEY\"], \"lat\": [25.5, 33.0, 21.5, 31.8, 26.4, 29.0, 32.9, 16.4, 21.1, 16.6, 28.4, 35.5, 31.9, 31.5, 11.6, 22.5, 14.6, 17.4], \"legendgroup\": \"\", \"lon\": [-82.6, -77.4, -91.9, -78.8, -81.1, -93.7, -67.0, -56.9, -67.3, -38.4, -94.8, -59.5, -71.2, -76.6, -78.1, -94.7, -34.4, -78.1], \"marker\": {\"color\": [0, 2, 1, 2, 1, 2, 1, 1, 2, 1, 2, 1, 1, 2, 1, 2, 2, 2], \"coloraxis\": \"coloraxis\", \"size\": [20, 70, 55, 80, 40, 75, 55, 60, 65, 45, 95, 55, 60, 80, 60, 75, 65, 65], \"sizemode\": \"area\", \"sizeref\": 0.3125}, \"name\": \"\", \"showlegend\": false, \"type\": \"scattergeo\"}], \"name\": \"60\"}, {\"data\": [{\"geo\": \"geo\", \"hoverlabel\": {\"namelength\": 0}, \"hovertemplate\": \"<b>%{hovertext}</b><br><br>Hours=66<br>Maximum.Wind=%{marker.size}<br>Latitude=%{lat}<br>Longitude=%{lon}<br>Status=%{marker.color}\", \"hovertext\": [\"               ALEX\", \"               ALEX\", \"             ARTHUR\", \"                BOB\", \"             BONNIE\", \"             ARLENE\", \"             BERTHA\", \"             BONNIE\", \"             BERTHA\", \"             ALICIA\", \"          CLAUDETTE\", \"             BERTHA\", \"                BOB\", \"              CESAR\", \"               BRET\", \"            ALBERTO\", \"            CHARLEY\"], \"lat\": [34.2, 22.4, 32.9, 27.2, 29.9, 33.0, 16.5, 21.8, 16.8, 28.9, 35.3, 34.7, 33.0, 11.6, 23.1, 14.7, 18.2], \"legendgroup\": \"\", \"lon\": [-76.4, -92.7, -78.3, -80.3, -94.3, -65.5, -58.4, -68.7, -40.3, -95.0, -57.5, -68.3, -76.1, -79.5, -94.9, -35.4, -79.3], \"marker\": {\"color\": [2, 1, 2, 1, 2, 1, 2, 2, 1, 2, 1, 2, 2, 2, 2, 2, 2], \"coloraxis\": \"coloraxis\", \"size\": [85, 60, 80, 40, 65, 55, 70, 70, 45, 100, 60, 65, 85, 70, 80, 70, 75], \"sizemode\": \"area\", \"sizeref\": 0.3125}, \"name\": \"\", \"showlegend\": false, \"type\": \"scattergeo\"}], \"name\": \"66\"}, {\"data\": [{\"geo\": \"geo\", \"hoverlabel\": {\"namelength\": 0}, \"hovertemplate\": \"<b>%{hovertext}</b><br><br>Hours=72<br>Maximum.Wind=%{marker.size}<br>Latitude=%{lat}<br>Longitude=%{lon}<br>Status=%{marker.color}\", \"hovertext\": [\"               ALEX\", \"               ALEX\", \"             ARTHUR\", \"                BOB\", \"             ARLENE\", \"             BERTHA\", \"             BONNIE\", \"             BERTHA\", \"             ALICIA\", \"          CLAUDETTE\", \"             BERTHA\", \"                BOB\", \"              CESAR\", \"               BRET\", \"            ALBERTO\", \"            CHARLEY\"], \"lat\": [35.3, 22.9, 34.0, 28.3, 33.0, 17.0, 22.3, 17.0, 29.7, 35.1, 35.7, 34.6, 11.8, 23.8, 15.2, 19.2], \"legendgroup\": \"\", \"lon\": [-75.2, -93.6, -77.3, -80.4, -64.5, -60.1, -69.8, -42.3, -95.5, -55.0, -67.5, -75.3, -81.0, -95.0, -36.6, -80.7], \"marker\": {\"color\": [2, 1, 2, 1, 1, 2, 2, 1, 2, 1, 2, 2, 2, 2, 2, 2], \"coloraxis\": \"coloraxis\", \"size\": [85, 60, 85, 50, 55, 75, 75, 45, 80, 60, 65, 95, 65, 90, 75, 80], \"sizemode\": \"area\", \"sizeref\": 0.3125}, \"name\": \"\", \"showlegend\": false, \"type\": \"scattergeo\"}], \"name\": \"72\"}, {\"data\": [{\"geo\": \"geo\", \"hoverlabel\": {\"namelength\": 0}, \"hovertemplate\": \"<b>%{hovertext}</b><br><br>Hours=78<br>Maximum.Wind=%{marker.size}<br>Latitude=%{lat}<br>Longitude=%{lon}<br>Status=%{marker.color}\", \"hovertext\": [\"               ALEX\", \"               ALEX\", \"             ARTHUR\", \"                BOB\", \"             ARLENE\", \"             BERTHA\", \"             BONNIE\", \"             BERTHA\", \"          CLAUDETTE\", \"             BERTHA\", \"                BOB\", \"              CESAR\", \"               BRET\", \"            ALBERTO\", \"            CHARLEY\"], \"lat\": [36.0, 23.0, 35.3, 29.4, 33.0, 17.5, 23.0, 17.6, 35.2, 36.6, 36.5, 12.0, 24.7, 15.7, 20.5], \"legendgroup\": \"\", \"lon\": [-73.7, -94.4, -76.0, -80.4, -63.6, -61.8, -70.5, -44.3, -52.5, -67.0, -74.5, -82.6, -95.1, -38.1, -81.6], \"marker\": {\"color\": [2, 2, 2, 1, 1, 2, 2, 1, 2, 2, 2, 2, 2, 2, 2], \"coloraxis\": \"coloraxis\", \"size\": [80, 65, 85, 60, 50, 75, 85, 45, 65, 70, 100, 70, 120, 75, 90], \"sizemode\": \"area\", \"sizeref\": 0.3125}, \"name\": \"\", \"showlegend\": false, \"type\": \"scattergeo\"}], \"name\": \"78\"}, {\"data\": [{\"geo\": \"geo\", \"hoverlabel\": {\"namelength\": 0}, \"hovertemplate\": \"<b>%{hovertext}</b><br><br>Hours=84<br>Maximum.Wind=%{marker.size}<br>Latitude=%{lat}<br>Longitude=%{lon}<br>Status=%{marker.color}\", \"hovertext\": [\"               ALEX\", \"               ALEX\", \"             ARTHUR\", \"                BOB\", \"             ARLENE\", \"             BERTHA\", \"             BONNIE\", \"             BERTHA\", \"          CLAUDETTE\", \"             BERTHA\", \"                BOB\", \"              CESAR\", \"               BRET\", \"            ALBERTO\", \"            CHARLEY\"], \"lat\": [37.8, 23.1, 36.8, 30.5, 32.6, 18.0, 23.4, 18.4, 35.3, 37.5, 38.9, 12.3, 25.5, 16.0, 21.7], \"legendgroup\": \"\", \"lon\": [-68.3, -94.8, -74.4, -80.5, -61.8, -63.5, -71.0, -46.2, -50.1, -66.5, -73.0, -84.2, -95.5, -39.6, -82.2], \"marker\": {\"color\": [2, 2, 2, 2, 1, 2, 2, 1, 2, 2, 2, 2, 2, 2, 2], \"coloraxis\": \"coloraxis\", \"size\": [95, 70, 80, 65, 55, 70, 90, 45, 65, 65, 95, 70, 125, 80, 90], \"sizemode\": \"area\", \"sizeref\": 0.3125}, \"name\": \"\", \"showlegend\": false, \"type\": \"scattergeo\"}], \"name\": \"84\"}, {\"data\": [{\"geo\": \"geo\", \"hoverlabel\": {\"namelength\": 0}, \"hovertemplate\": \"<b>%{hovertext}</b><br><br>Hours=90<br>Maximum.Wind=%{marker.size}<br>Latitude=%{lat}<br>Longitude=%{lon}<br>Status=%{marker.color}\", \"hovertext\": [\"               ALEX\", \"               ALEX\", \"                BOB\", \"             ARLENE\", \"             BERTHA\", \"             BONNIE\", \"             BERTHA\", \"          CLAUDETTE\", \"             BERTHA\", \"                BOB\", \"              CESAR\", \"               BRET\", \"            ALBERTO\", \"            CHARLEY\"], \"lat\": [38.5, 23.5, 31.6, 32.4, 19.4, 23.8, 18.8, 35.5, 38.3, 43.8, 12.7, 26.2, 16.2, 23.0], \"legendgroup\": \"\", \"lon\": [-66.0, -95.2, -80.5, -61.3, -66.1, -71.3, -47.9, -47.8, -65.9, -69.6, -86.2, -96.1, -41.0, -82.6], \"marker\": {\"color\": [2, 2, 2, 1, 2, 2, 1, 2, 2, 1, 1, 2, 2, 2], \"coloraxis\": \"coloraxis\", \"size\": [105, 75, 65, 55, 80, 95, 55, 65, 65, 60, 50, 125, 80, 105], \"sizemode\": \"area\", \"sizeref\": 0.3125}, \"name\": \"\", \"showlegend\": false, \"type\": \"scattergeo\"}], \"name\": \"90\"}, {\"data\": [{\"geo\": \"geo\", \"hoverlabel\": {\"namelength\": 0}, \"hovertemplate\": \"<b>%{hovertext}</b><br><br>Hours=96<br>Maximum.Wind=%{marker.size}<br>Latitude=%{lat}<br>Longitude=%{lon}<br>Status=%{marker.color}\", \"hovertext\": [\"               ALEX\", \"               ALEX\", \"                BOB\", \"             ARLENE\", \"             BERTHA\", \"             BONNIE\", \"             BERTHA\", \"          CLAUDETTE\", \"             BERTHA\", \"               BRET\", \"            ALBERTO\", \"            CHARLEY\"], \"lat\": [39.5, 24.3, 32.9, 32.2, 20.3, 24.1, 19.1, 35.6, 39.6, 26.6, 16.5, 24.4], \"legendgroup\": \"\", \"lon\": [-63.1, -96.2, -80.7, -60.8, -67.7, -71.5, -49.4, -45.2, -64.5, -96.8, -42.2, -82.9], \"marker\": {\"color\": [2, 2, 1, 1, 2, 2, 2, 2, 2, 2, 2, 2], \"coloraxis\": \"coloraxis\", \"size\": [105, 80, 55, 55, 100, 100, 65, 70, 65, 120, 80, 95], \"sizemode\": \"area\", \"sizeref\": 0.3125}, \"name\": \"\", \"showlegend\": false, \"type\": \"scattergeo\"}], \"name\": \"96\"}, {\"data\": [{\"geo\": \"geo\", \"hoverlabel\": {\"namelength\": 0}, \"hovertemplate\": \"<b>%{hovertext}</b><br><br>Hours=102<br>Maximum.Wind=%{marker.size}<br>Latitude=%{lat}<br>Longitude=%{lon}<br>Status=%{marker.color}\", \"hovertext\": [\"               ALEX\", \"               ALEX\", \"             ARLENE\", \"             BERTHA\", \"             BONNIE\", \"             BERTHA\", \"          CLAUDETTE\", \"             BERTHA\", \"            ALBERTO\", \"            CHARLEY\"], \"lat\": [40.8, 24.3, 31.7, 21.4, 24.4, 19.4, 35.7, 40.3, 16.7, 26.1], \"legendgroup\": \"\", \"lon\": [-59.6, -97.3, -60.3, -69.4, -71.7, -50.7, -42.6, -63.7, -43.6, -82.4], \"marker\": {\"color\": [2, 2, 1, 2, 2, 2, 2, 2, 2, 2], \"coloraxis\": \"coloraxis\", \"size\": [100, 90, 50, 100, 100, 80, 70, 65, 75, 125], \"sizemode\": \"area\", \"sizeref\": 0.3125}, \"name\": \"\", \"showlegend\": false, \"type\": \"scattergeo\"}], \"name\": \"102\"}, {\"data\": [{\"geo\": \"geo\", \"hoverlabel\": {\"namelength\": 0}, \"hovertemplate\": \"<b>%{hovertext}</b><br><br>Hours=108<br>Maximum.Wind=%{marker.size}<br>Latitude=%{lat}<br>Longitude=%{lon}<br>Status=%{marker.color}\", \"hovertext\": [\"               ALEX\", \"             ARLENE\", \"             BERTHA\", \"             BONNIE\", \"             BERTHA\", \"          CLAUDETTE\", \"             BERTHA\", \"            ALBERTO\", \"            CHARLEY\"], \"lat\": [24.1, 30.2, 22.5, 24.8, 19.9, 35.8, 41.1, 24.8, 28.1], \"legendgroup\": \"\", \"lon\": [-98.4, -59.0, -71.1, -71.8, -51.6, -40.0, -62.7, -52.6, -81.6], \"marker\": {\"color\": [2, 1, 2, 2, 2, 2, 2, 2, 2], \"coloraxis\": \"coloraxis\", \"size\": [75, 45, 90, 100, 100, 75, 65, 65, 75], \"sizemode\": \"area\", \"sizeref\": 0.3125}, \"name\": \"\", \"showlegend\": false, \"type\": \"scattergeo\"}], \"name\": \"108\"}, {\"data\": [{\"geo\": \"geo\", \"hoverlabel\": {\"namelength\": 0}, \"hovertemplate\": \"<b>%{hovertext}</b><br><br>Hours=114<br>Maximum.Wind=%{marker.size}<br>Latitude=%{lat}<br>Longitude=%{lon}<br>Status=%{marker.color}\", \"hovertext\": [\"             ARLENE\", \"             BERTHA\", \"             BONNIE\", \"             BERTHA\", \"          CLAUDETTE\", \"             BERTHA\", \"            ALBERTO\"], \"lat\": [29.9, 27.5, 25.2, 20.6, 36.4, 42.4, 26.1], \"legendgroup\": \"\", \"lon\": [-58.7, -76.4, -72.1, -52.2, -37.0, -61.5, -54.0], \"marker\": {\"color\": [1, 2, 2, 2, 2, 2, 2], \"coloraxis\": \"coloraxis\", \"size\": [45, 75, 100, 105, 75, 65, 65], \"sizemode\": \"area\", \"sizeref\": 0.3125}, \"name\": \"\", \"showlegend\": false, \"type\": \"scattergeo\"}], \"name\": \"114\"}, {\"data\": [{\"geo\": \"geo\", \"hoverlabel\": {\"namelength\": 0}, \"hovertemplate\": \"<b>%{hovertext}</b><br><br>Hours=120<br>Maximum.Wind=%{marker.size}<br>Latitude=%{lat}<br>Longitude=%{lon}<br>Status=%{marker.color}\", \"hovertext\": [\"             ARLENE\", \"             BERTHA\", \"             BONNIE\", \"             BERTHA\", \"          CLAUDETTE\", \"             BERTHA\", \"            ALBERTO\"], \"lat\": [29.8, 30.0, 25.6, 21.1, 37.5, 44.2, 27.5], \"legendgroup\": \"\", \"lon\": [-58.2, -78.0, -72.4, -52.9, -34.5, -60.5, -55.3], \"marker\": {\"color\": [1, 2, 2, 2, 1, 2, 2], \"coloraxis\": \"coloraxis\", \"size\": [45, 70, 100, 105, 60, 70, 65], \"sizemode\": \"area\", \"sizeref\": 0.3125}, \"name\": \"\", \"showlegend\": false, \"type\": \"scattergeo\"}], \"name\": \"120\"}, {\"data\": [{\"geo\": \"geo\", \"hoverlabel\": {\"namelength\": 0}, \"hovertemplate\": \"<b>%{hovertext}</b><br><br>Hours=126<br>Maximum.Wind=%{marker.size}<br>Latitude=%{lat}<br>Longitude=%{lon}<br>Status=%{marker.color}\", \"hovertext\": [\"             ARLENE\", \"             BERTHA\", \"             BONNIE\", \"             BERTHA\", \"            ALBERTO\"], \"lat\": [29.8, 32.2, 26.1, 21.8, 28.8], \"legendgroup\": \"\", \"lon\": [-57.8, -78.4, -72.8, -53.5, -56.7], \"marker\": {\"color\": [1, 2, 2, 2, 2], \"coloraxis\": \"coloraxis\", \"size\": [45, 85, 100, 90, 65], \"sizemode\": \"area\", \"sizeref\": 0.3125}, \"name\": \"\", \"showlegend\": false, \"type\": \"scattergeo\"}], \"name\": \"126\"}, {\"data\": [{\"geo\": \"geo\", \"hoverlabel\": {\"namelength\": 0}, \"hovertemplate\": \"<b>%{hovertext}</b><br><br>Hours=132<br>Maximum.Wind=%{marker.size}<br>Latitude=%{lat}<br>Longitude=%{lon}<br>Status=%{marker.color}\", \"hovertext\": [\"             ARLENE\", \"             BERTHA\", \"             BONNIE\", \"             BERTHA\", \"            ALBERTO\"], \"lat\": [29.9, 33.6, 26.9, 25.2, 29.9], \"legendgroup\": \"\", \"lon\": [-57.3, -78.1, -73.2, -58.6, -57.7], \"marker\": {\"color\": [1, 2, 2, 2, 2], \"coloraxis\": \"coloraxis\", \"size\": [40, 90, 100, 90, 70], \"sizemode\": \"area\", \"sizeref\": 0.3125}, \"name\": \"\", \"showlegend\": false, \"type\": \"scattergeo\"}], \"name\": \"132\"}, {\"data\": [{\"geo\": \"geo\", \"hoverlabel\": {\"namelength\": 0}, \"hovertemplate\": \"<b>%{hovertext}</b><br><br>Hours=138<br>Maximum.Wind=%{marker.size}<br>Latitude=%{lat}<br>Longitude=%{lon}<br>Status=%{marker.color}\", \"hovertext\": [\"             ARLENE\", \"             BERTHA\", \"             BONNIE\", \"             BERTHA\", \"            ALBERTO\"], \"lat\": [33.3, 35.0, 27.8, 25.7, 31.1], \"legendgroup\": \"\", \"lon\": [-53.5, -77.6, -73.8, -59.1, -58.4], \"marker\": {\"color\": [1, 2, 2, 2, 2], \"coloraxis\": \"coloraxis\", \"size\": [35, 65, 100, 90, 75], \"sizemode\": \"area\", \"sizeref\": 0.3125}, \"name\": \"\", \"showlegend\": false, \"type\": \"scattergeo\"}], \"name\": \"138\"}, {\"data\": [{\"geo\": \"geo\", \"hoverlabel\": {\"namelength\": 0}, \"hovertemplate\": \"<b>%{hovertext}</b><br><br>Hours=144<br>Maximum.Wind=%{marker.size}<br>Latitude=%{lat}<br>Longitude=%{lon}<br>Status=%{marker.color}\", \"hovertext\": [\"             ARLENE\", \"             BERTHA\", \"             BONNIE\", \"             BERTHA\", \"            ALBERTO\"], \"lat\": [34.0, 42.1, 28.8, 26.3, 32.2], \"legendgroup\": \"\", \"lon\": [-52.2, -71.9, -74.7, -59.8, -58.6], \"marker\": {\"color\": [1, 1, 2, 2, 2], \"coloraxis\": \"coloraxis\", \"size\": [35, 60, 100, 80, 80], \"sizemode\": \"area\", \"sizeref\": 0.3125}, \"name\": \"\", \"showlegend\": false, \"type\": \"scattergeo\"}], \"name\": \"144\"}, {\"data\": [{\"geo\": \"geo\", \"hoverlabel\": {\"namelength\": 0}, \"hovertemplate\": \"<b>%{hovertext}</b><br><br>Hours=150<br>Maximum.Wind=%{marker.size}<br>Latitude=%{lat}<br>Longitude=%{lon}<br>Status=%{marker.color}\", \"hovertext\": [\"             ARLENE\", \"             BERTHA\", \"             BONNIE\", \"             BERTHA\", \"            ALBERTO\"], \"lat\": [34.8, 44.1, 29.8, 28.3, 33.3], \"legendgroup\": \"\", \"lon\": [-50.8, -69.0, -75.6, -61.8, -58.5], \"marker\": {\"color\": [1, 1, 2, 2, 2], \"coloraxis\": \"coloraxis\", \"size\": [35, 55, 100, 75, 85], \"sizemode\": \"area\", \"sizeref\": 0.3125}, \"name\": \"\", \"showlegend\": false, \"type\": \"scattergeo\"}], \"name\": \"150\"}, {\"data\": [{\"geo\": \"geo\", \"hoverlabel\": {\"namelength\": 0}, \"hovertemplate\": \"<b>%{hovertext}</b><br><br>Hours=156<br>Maximum.Wind=%{marker.size}<br>Latitude=%{lat}<br>Longitude=%{lon}<br>Status=%{marker.color}\", \"hovertext\": [\"             ARLENE\", \"             BONNIE\", \"             BERTHA\", \"            ALBERTO\"], \"lat\": [35.4, 30.8, 28.8, 34.3], \"legendgroup\": \"\", \"lon\": [-49.5, -76.4, -62.1, -58.0], \"marker\": {\"color\": [1, 2, 2, 2], \"coloraxis\": \"coloraxis\", \"size\": [35, 100, 80, 90], \"sizemode\": \"area\", \"sizeref\": 0.3125}, \"name\": \"\", \"showlegend\": false, \"type\": \"scattergeo\"}], \"name\": \"156\"}, {\"data\": [{\"geo\": \"geo\", \"hoverlabel\": {\"namelength\": 0}, \"hovertemplate\": \"<b>%{hovertext}</b><br><br>Hours=162<br>Maximum.Wind=%{marker.size}<br>Latitude=%{lat}<br>Longitude=%{lon}<br>Status=%{marker.color}\", \"hovertext\": [\"             ARLENE\", \"             BONNIE\", \"             BERTHA\", \"            ALBERTO\"], \"lat\": [35.5, 31.7, 29.3, 35.1], \"legendgroup\": \"\", \"lon\": [-47.5, -77.3, -62.3, -56.7], \"marker\": {\"color\": [1, 2, 2, 2], \"coloraxis\": \"coloraxis\", \"size\": [35, 100, 80, 100], \"sizemode\": \"area\", \"sizeref\": 0.3125}, \"name\": \"\", \"showlegend\": false, \"type\": \"scattergeo\"}], \"name\": \"162\"}, {\"data\": [{\"geo\": \"geo\", \"hoverlabel\": {\"namelength\": 0}, \"hovertemplate\": \"<b>%{hovertext}</b><br><br>Hours=168<br>Maximum.Wind=%{marker.size}<br>Latitude=%{lat}<br>Longitude=%{lon}<br>Status=%{marker.color}\", \"hovertext\": [\"             ARLENE\", \"             BONNIE\", \"             BERTHA\", \"            ALBERTO\"], \"lat\": [35.0, 32.7, 29.5, 35.9], \"legendgroup\": \"\", \"lon\": [-46.0, -77.8, -62.5, -55.3], \"marker\": {\"color\": [1, 2, 2, 2], \"coloraxis\": \"coloraxis\", \"size\": [35, 100, 80, 110], \"sizemode\": \"area\", \"sizeref\": 0.3125}, \"name\": \"\", \"showlegend\": false, \"type\": \"scattergeo\"}], \"name\": \"168\"}, {\"data\": [{\"geo\": \"geo\", \"hoverlabel\": {\"namelength\": 0}, \"hovertemplate\": \"<b>%{hovertext}</b><br><br>Hours=174<br>Maximum.Wind=%{marker.size}<br>Latitude=%{lat}<br>Longitude=%{lon}<br>Status=%{marker.color}\", \"hovertext\": [\"             ARLENE\", \"             BONNIE\", \"             BERTHA\", \"            ALBERTO\"], \"lat\": [34.5, 33.4, 29.7, 36.8], \"legendgroup\": \"\", \"lon\": [-44.5, -77.8, -62.5, -53.8], \"marker\": {\"color\": [1, 2, 2, 2], \"coloraxis\": \"coloraxis\", \"size\": [40, 100, 75, 110], \"sizemode\": \"area\", \"sizeref\": 0.3125}, \"name\": \"\", \"showlegend\": false, \"type\": \"scattergeo\"}], \"name\": \"174\"}, {\"data\": [{\"geo\": \"geo\", \"hoverlabel\": {\"namelength\": 0}, \"hovertemplate\": \"<b>%{hovertext}</b><br><br>Hours=180<br>Maximum.Wind=%{marker.size}<br>Latitude=%{lat}<br>Longitude=%{lon}<br>Status=%{marker.color}\", \"hovertext\": [\"             ARLENE\", \"             BONNIE\", \"             BERTHA\", \"            ALBERTO\"], \"lat\": [34.0, 34.0, 29.9, 37.4], \"legendgroup\": \"\", \"lon\": [-43.5, -77.7, -62.7, -52.0], \"marker\": {\"color\": [1, 2, 1, 2], \"coloraxis\": \"coloraxis\", \"size\": [40, 95, 60, 105], \"sizemode\": \"area\", \"sizeref\": 0.3125}, \"name\": \"\", \"showlegend\": false, \"type\": \"scattergeo\"}], \"name\": \"180\"}, {\"data\": [{\"geo\": \"geo\", \"hoverlabel\": {\"namelength\": 0}, \"hovertemplate\": \"<b>%{hovertext}</b><br><br>Hours=186<br>Maximum.Wind=%{marker.size}<br>Latitude=%{lat}<br>Longitude=%{lon}<br>Status=%{marker.color}\", \"hovertext\": [\"             ARLENE\", \"             BONNIE\", \"             BERTHA\", \"            ALBERTO\"], \"lat\": [33.8, 36.7, 31.6, 36.6], \"legendgroup\": \"\", \"lon\": [-43.0, -74.3, -63.8, -38.9], \"marker\": {\"color\": [1, 2, 1, 1], \"coloraxis\": \"coloraxis\", \"size\": [50, 65, 55, 40], \"sizemode\": \"area\", \"sizeref\": 0.3125}, \"name\": \"\", \"showlegend\": false, \"type\": \"scattergeo\"}], \"name\": \"186\"}, {\"data\": [{\"geo\": \"geo\", \"hoverlabel\": {\"namelength\": 0}, \"hovertemplate\": \"<b>%{hovertext}</b><br><br>Hours=192<br>Maximum.Wind=%{marker.size}<br>Latitude=%{lat}<br>Longitude=%{lon}<br>Status=%{marker.color}\", \"hovertext\": [\"             ARLENE\", \"             BONNIE\", \"             BERTHA\", \"            ALBERTO\"], \"lat\": [33.7, 37.3, 32.5, 34.6], \"legendgroup\": \"\", \"lon\": [-42.7, -73.2, -64.1, -41.3], \"marker\": {\"color\": [1, 1, 1, 1], \"coloraxis\": \"coloraxis\", \"size\": [55, 60, 60, 40], \"sizemode\": \"area\", \"sizeref\": 0.3125}, \"name\": \"\", \"showlegend\": false, \"type\": \"scattergeo\"}], \"name\": \"192\"}, {\"data\": [{\"geo\": \"geo\", \"hoverlabel\": {\"namelength\": 0}, \"hovertemplate\": \"<b>%{hovertext}</b><br><br>Hours=198<br>Maximum.Wind=%{marker.size}<br>Latitude=%{lat}<br>Longitude=%{lon}<br>Status=%{marker.color}\", \"hovertext\": [\"             ARLENE\", \"             BONNIE\", \"             BERTHA\", \"            ALBERTO\"], \"lat\": [33.6, 41.6, 33.5, 33.9], \"legendgroup\": \"\", \"lon\": [-42.3, -64.8, -63.8, -42.4], \"marker\": {\"color\": [1, 1, 1, 1], \"coloraxis\": \"coloraxis\", \"size\": [55, 45, 60, 40], \"sizemode\": \"area\", \"sizeref\": 0.3125}, \"name\": \"\", \"showlegend\": false, \"type\": \"scattergeo\"}], \"name\": \"198\"}, {\"data\": [{\"geo\": \"geo\", \"hoverlabel\": {\"namelength\": 0}, \"hovertemplate\": \"<b>%{hovertext}</b><br><br>Hours=204<br>Maximum.Wind=%{marker.size}<br>Latitude=%{lat}<br>Longitude=%{lon}<br>Status=%{marker.color}\", \"hovertext\": [\"             ARLENE\", \"             BONNIE\", \"             BERTHA\", \"            ALBERTO\"], \"lat\": [33.5, 42.9, 34.3, 33.4], \"legendgroup\": \"\", \"lon\": [-42.0, -61.5, -63.5, -43.5], \"marker\": {\"color\": [1, 1, 1, 1], \"coloraxis\": \"coloraxis\", \"size\": [55, 45, 60, 45], \"sizemode\": \"area\", \"sizeref\": 0.3125}, \"name\": \"\", \"showlegend\": false, \"type\": \"scattergeo\"}], \"name\": \"204\"}, {\"data\": [{\"geo\": \"geo\", \"hoverlabel\": {\"namelength\": 0}, \"hovertemplate\": \"<b>%{hovertext}</b><br><br>Hours=210<br>Maximum.Wind=%{marker.size}<br>Latitude=%{lat}<br>Longitude=%{lon}<br>Status=%{marker.color}\", \"hovertext\": [\"             ARLENE\", \"             BONNIE\", \"             BERTHA\", \"            ALBERTO\"], \"lat\": [34.5, 44.3, 35.3, 33.0], \"legendgroup\": \"\", \"lon\": [-42.5, -57.0, -63.0, -44.2], \"marker\": {\"color\": [1, 1, 1, 1], \"coloraxis\": \"coloraxis\", \"size\": [60, 45, 60, 45], \"sizemode\": \"area\", \"sizeref\": 0.3125}, \"name\": \"\", \"showlegend\": false, \"type\": \"scattergeo\"}], \"name\": \"210\"}, {\"data\": [{\"geo\": \"geo\", \"hoverlabel\": {\"namelength\": 0}, \"hovertemplate\": \"<b>%{hovertext}</b><br><br>Hours=216<br>Maximum.Wind=%{marker.size}<br>Latitude=%{lat}<br>Longitude=%{lon}<br>Status=%{marker.color}\", \"hovertext\": [\"             ARLENE\", \"             BONNIE\", \"             BERTHA\", \"            ALBERTO\"], \"lat\": [35.5, 44.5, 36.2, 33.0], \"legendgroup\": \"\", \"lon\": [-43.0, -53.5, -62.5, -44.9], \"marker\": {\"color\": [1, 1, 1, 1], \"coloraxis\": \"coloraxis\", \"size\": [60, 45, 60, 50], \"sizemode\": \"area\", \"sizeref\": 0.3125}, \"name\": \"\", \"showlegend\": false, \"type\": \"scattergeo\"}], \"name\": \"216\"}, {\"data\": [{\"geo\": \"geo\", \"hoverlabel\": {\"namelength\": 0}, \"hovertemplate\": \"<b>%{hovertext}</b><br><br>Hours=222<br>Maximum.Wind=%{marker.size}<br>Latitude=%{lat}<br>Longitude=%{lon}<br>Status=%{marker.color}\", \"hovertext\": [\"             ARLENE\", \"             BERTHA\", \"            ALBERTO\"], \"lat\": [36.5, 36.7, 33.0], \"legendgroup\": \"\", \"lon\": [-43.0, -61.8, -45.8], \"marker\": {\"color\": [2, 1, 1], \"coloraxis\": \"coloraxis\", \"size\": [65, 60, 50], \"sizemode\": \"area\", \"sizeref\": 0.3125}, \"name\": \"\", \"showlegend\": false, \"type\": \"scattergeo\"}], \"name\": \"222\"}, {\"data\": [{\"geo\": \"geo\", \"hoverlabel\": {\"namelength\": 0}, \"hovertemplate\": \"<b>%{hovertext}</b><br><br>Hours=228<br>Maximum.Wind=%{marker.size}<br>Latitude=%{lat}<br>Longitude=%{lon}<br>Status=%{marker.color}\", \"hovertext\": [\"             ARLENE\", \"             BERTHA\", \"            ALBERTO\"], \"lat\": [38.0, 36.8, 33.2], \"legendgroup\": \"\", \"lon\": [-43.0, -61.3, -46.5], \"marker\": {\"color\": [2, 1, 1], \"coloraxis\": \"coloraxis\", \"size\": [65, 60, 55], \"sizemode\": \"area\", \"sizeref\": 0.3125}, \"name\": \"\", \"showlegend\": false, \"type\": \"scattergeo\"}], \"name\": \"228\"}, {\"data\": [{\"geo\": \"geo\", \"hoverlabel\": {\"namelength\": 0}, \"hovertemplate\": \"<b>%{hovertext}</b><br><br>Hours=234<br>Maximum.Wind=%{marker.size}<br>Latitude=%{lat}<br>Longitude=%{lon}<br>Status=%{marker.color}\", \"hovertext\": [\"             ARLENE\", \"             BERTHA\", \"            ALBERTO\"], \"lat\": [39.5, 36.8, 33.6], \"legendgroup\": \"\", \"lon\": [-42.5, -60.9, -47.1], \"marker\": {\"color\": [2, 1, 1], \"coloraxis\": \"coloraxis\", \"size\": [65, 60, 55], \"sizemode\": \"area\", \"sizeref\": 0.3125}, \"name\": \"\", \"showlegend\": false, \"type\": \"scattergeo\"}], \"name\": \"234\"}, {\"data\": [{\"geo\": \"geo\", \"hoverlabel\": {\"namelength\": 0}, \"hovertemplate\": \"<b>%{hovertext}</b><br><br>Hours=240<br>Maximum.Wind=%{marker.size}<br>Latitude=%{lat}<br>Longitude=%{lon}<br>Status=%{marker.color}\", \"hovertext\": [\"             ARLENE\", \"             BERTHA\", \"            ALBERTO\"], \"lat\": [41.5, 36.3, 34.2], \"legendgroup\": \"\", \"lon\": [-41.0, -60.7, -47.6], \"marker\": {\"color\": [2, 1, 1], \"coloraxis\": \"coloraxis\", \"size\": [65, 60, 60], \"sizemode\": \"area\", \"sizeref\": 0.3125}, \"name\": \"\", \"showlegend\": false, \"type\": \"scattergeo\"}], \"name\": \"240\"}, {\"data\": [{\"geo\": \"geo\", \"hoverlabel\": {\"namelength\": 0}, \"hovertemplate\": \"<b>%{hovertext}</b><br><br>Hours=246<br>Maximum.Wind=%{marker.size}<br>Latitude=%{lat}<br>Longitude=%{lon}<br>Status=%{marker.color}\", \"hovertext\": [\"             ARLENE\", \"             BERTHA\", \"            ALBERTO\"], \"lat\": [44.0, 35.7, 34.7], \"legendgroup\": \"\", \"lon\": [-39.0, -60.3, -48.0], \"marker\": {\"color\": [2, 1, 2], \"coloraxis\": \"coloraxis\", \"size\": [65, 55, 65], \"sizemode\": \"area\", \"sizeref\": 0.3125}, \"name\": \"\", \"showlegend\": false, \"type\": \"scattergeo\"}], \"name\": \"246\"}, {\"data\": [{\"geo\": \"geo\", \"hoverlabel\": {\"namelength\": 0}, \"hovertemplate\": \"<b>%{hovertext}</b><br><br>Hours=252<br>Maximum.Wind=%{marker.size}<br>Latitude=%{lat}<br>Longitude=%{lon}<br>Status=%{marker.color}\", \"hovertext\": [\"             ARLENE\", \"             BERTHA\", \"            ALBERTO\"], \"lat\": [46.5, 33.7, 34.9], \"legendgroup\": \"\", \"lon\": [-36.5, -56.0, -48.1], \"marker\": {\"color\": [2, 1, 2], \"coloraxis\": \"coloraxis\", \"size\": [65, 50, 75], \"sizemode\": \"area\", \"sizeref\": 0.3125}, \"name\": \"\", \"showlegend\": false, \"type\": \"scattergeo\"}], \"name\": \"252\"}, {\"data\": [{\"geo\": \"geo\", \"hoverlabel\": {\"namelength\": 0}, \"hovertemplate\": \"<b>%{hovertext}</b><br><br>Hours=258<br>Maximum.Wind=%{marker.size}<br>Latitude=%{lat}<br>Longitude=%{lon}<br>Status=%{marker.color}\", \"hovertext\": [\"             ARLENE\", \"             BERTHA\", \"            ALBERTO\"], \"lat\": [48.5, 34.4, 35.3], \"legendgroup\": \"\", \"lon\": [-33.0, -54.4, -48.2], \"marker\": {\"color\": [2, 1, 2], \"coloraxis\": \"coloraxis\", \"size\": [65, 55, 80], \"sizemode\": \"area\", \"sizeref\": 0.3125}, \"name\": \"\", \"showlegend\": false, \"type\": \"scattergeo\"}], \"name\": \"258\"}, {\"data\": [{\"geo\": \"geo\", \"hoverlabel\": {\"namelength\": 0}, \"hovertemplate\": \"<b>%{hovertext}</b><br><br>Hours=264<br>Maximum.Wind=%{marker.size}<br>Latitude=%{lat}<br>Longitude=%{lon}<br>Status=%{marker.color}\", \"hovertext\": [\"             BERTHA\", \"            ALBERTO\"], \"lat\": [35.5, 35.6], \"legendgroup\": \"\", \"lon\": [-53.0, -48.2], \"marker\": {\"color\": [1, 2], \"coloraxis\": \"coloraxis\", \"size\": [55, 85], \"sizemode\": \"area\", \"sizeref\": 0.3125}, \"name\": \"\", \"showlegend\": false, \"type\": \"scattergeo\"}], \"name\": \"264\"}, {\"data\": [{\"geo\": \"geo\", \"hoverlabel\": {\"namelength\": 0}, \"hovertemplate\": \"<b>%{hovertext}</b><br><br>Hours=270<br>Maximum.Wind=%{marker.size}<br>Latitude=%{lat}<br>Longitude=%{lon}<br>Status=%{marker.color}\", \"hovertext\": [\"             BERTHA\", \"            ALBERTO\"], \"lat\": [36.9, 36.0], \"legendgroup\": \"\", \"lon\": [-51.5, -48.2], \"marker\": {\"color\": [2, 2], \"coloraxis\": \"coloraxis\", \"size\": [65, 90], \"sizemode\": \"area\", \"sizeref\": 0.3125}, \"name\": \"\", \"showlegend\": false, \"type\": \"scattergeo\"}], \"name\": \"270\"}, {\"data\": [{\"geo\": \"geo\", \"hoverlabel\": {\"namelength\": 0}, \"hovertemplate\": \"<b>%{hovertext}</b><br><br>Hours=276<br>Maximum.Wind=%{marker.size}<br>Latitude=%{lat}<br>Longitude=%{lon}<br>Status=%{marker.color}\", \"hovertext\": [\"             BERTHA\", \"            ALBERTO\"], \"lat\": [38.6, 36.4], \"legendgroup\": \"\", \"lon\": [-49.7, -48.1], \"marker\": {\"color\": [2, 2], \"coloraxis\": \"coloraxis\", \"size\": [65, 90], \"sizemode\": \"area\", \"sizeref\": 0.3125}, \"name\": \"\", \"showlegend\": false, \"type\": \"scattergeo\"}], \"name\": \"276\"}, {\"data\": [{\"geo\": \"geo\", \"hoverlabel\": {\"namelength\": 0}, \"hovertemplate\": \"<b>%{hovertext}</b><br><br>Hours=282<br>Maximum.Wind=%{marker.size}<br>Latitude=%{lat}<br>Longitude=%{lon}<br>Status=%{marker.color}\", \"hovertext\": [\"             BERTHA\", \"            ALBERTO\"], \"lat\": [40.4, 36.7], \"legendgroup\": \"\", \"lon\": [-48.0, -48.0], \"marker\": {\"color\": [2, 2], \"coloraxis\": \"coloraxis\", \"size\": [65, 90], \"sizemode\": \"area\", \"sizeref\": 0.3125}, \"name\": \"\", \"showlegend\": false, \"type\": \"scattergeo\"}], \"name\": \"282\"}, {\"data\": [{\"geo\": \"geo\", \"hoverlabel\": {\"namelength\": 0}, \"hovertemplate\": \"<b>%{hovertext}</b><br><br>Hours=288<br>Maximum.Wind=%{marker.size}<br>Latitude=%{lat}<br>Longitude=%{lon}<br>Status=%{marker.color}\", \"hovertext\": [\"             BERTHA\", \"            ALBERTO\"], \"lat\": [42.1, 37.1], \"legendgroup\": \"\", \"lon\": [-46.3, -47.9], \"marker\": {\"color\": [2, 2], \"coloraxis\": \"coloraxis\", \"size\": [65, 85], \"sizemode\": \"area\", \"sizeref\": 0.3125}, \"name\": \"\", \"showlegend\": false, \"type\": \"scattergeo\"}], \"name\": \"288\"}, {\"data\": [{\"geo\": \"geo\", \"hoverlabel\": {\"namelength\": 0}, \"hovertemplate\": \"<b>%{hovertext}</b><br><br>Hours=294<br>Maximum.Wind=%{marker.size}<br>Latitude=%{lat}<br>Longitude=%{lon}<br>Status=%{marker.color}\", \"hovertext\": [\"             BERTHA\", \"            ALBERTO\"], \"lat\": [43.7, 38.3], \"legendgroup\": \"\", \"lon\": [-44.3, -47.3], \"marker\": {\"color\": [2, 2], \"coloraxis\": \"coloraxis\", \"size\": [65, 80], \"sizemode\": \"area\", \"sizeref\": 0.3125}, \"name\": \"\", \"showlegend\": false, \"type\": \"scattergeo\"}], \"name\": \"294\"}, {\"data\": [{\"geo\": \"geo\", \"hoverlabel\": {\"namelength\": 0}, \"hovertemplate\": \"<b>%{hovertext}</b><br><br>Hours=300<br>Maximum.Wind=%{marker.size}<br>Latitude=%{lat}<br>Longitude=%{lon}<br>Status=%{marker.color}\", \"hovertext\": [\"             BERTHA\", \"            ALBERTO\"], \"lat\": [45.3, 41.2], \"legendgroup\": \"\", \"lon\": [-42.4, -45.9], \"marker\": {\"color\": [1, 2], \"coloraxis\": \"coloraxis\", \"size\": [60, 75], \"sizemode\": \"area\", \"sizeref\": 0.3125}, \"name\": \"\", \"showlegend\": false, \"type\": \"scattergeo\"}], \"name\": \"300\"}]);\n",
       "                        }).then(function(){\n",
       "                            \n",
       "var gd = document.getElementById('09d517c5-432a-4acb-a427-8069443209d8');\n",
       "var x = new MutationObserver(function (mutations, observer) {{\n",
       "        var display = window.getComputedStyle(gd).display;\n",
       "        if (!display || display === 'none') {{\n",
       "            console.log([gd, 'removed!']);\n",
       "            Plotly.purge(gd);\n",
       "            observer.disconnect();\n",
       "        }}\n",
       "}});\n",
       "\n",
       "// Listen for the removal of the full notebook cells\n",
       "var notebookContainer = gd.closest('#notebook-container');\n",
       "if (notebookContainer) {{\n",
       "    x.observe(notebookContainer, {childList: true});\n",
       "}}\n",
       "\n",
       "// Listen for the clearing of the current output cell\n",
       "var outputEl = gd.closest('.output');\n",
       "if (outputEl) {{\n",
       "    x.observe(outputEl, {childList: true});\n",
       "}}\n",
       "\n",
       "                        })\n",
       "                };\n",
       "                });\n",
       "            </script>\n",
       "        </div>"
      ]
     },
     "metadata": {},
     "output_type": "display_data"
    }
   ],
   "source": [
    "fig = px.scatter_geo(hurs,\n",
    "                     lat='Latitude',\n",
    "                     lon='Longitude',\n",
    "                     animation_frame='Hours',\n",
    "                     color='Status',\n",
    "                     hover_name='Name',\n",
    "                     range_color=[0,2],\n",
    "                     color_continuous_scale=px.colors.sequential.Bluered,\n",
    "                     size='Maximum.Wind',\n",
    "                     title='Weather Event Developments Over Time',\n",
    "                     template='ggplot2')\n",
    "\n",
    "fig.show()"
   ]
  },
  {
   "cell_type": "code",
   "execution_count": null,
   "metadata": {},
   "outputs": [],
   "source": []
  }
 ],
 "metadata": {
  "kernelspec": {
   "display_name": "Python [conda env:Dev] *",
   "language": "python",
   "name": "conda-env-Dev-py"
  },
  "language_info": {
   "codemirror_mode": {
    "name": "ipython",
    "version": 3
   },
   "file_extension": ".py",
   "mimetype": "text/x-python",
   "name": "python",
   "nbconvert_exporter": "python",
   "pygments_lexer": "ipython3",
   "version": "3.6.9"
  }
 },
 "nbformat": 4,
 "nbformat_minor": 2
}
